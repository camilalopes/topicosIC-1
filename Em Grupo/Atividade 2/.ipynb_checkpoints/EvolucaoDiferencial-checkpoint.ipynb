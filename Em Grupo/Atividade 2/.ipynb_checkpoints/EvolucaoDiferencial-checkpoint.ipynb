{
 "cells": [
  {
   "cell_type": "code",
   "execution_count": 7,
   "metadata": {},
   "outputs": [
    {
     "name": "stdout",
     "output_type": "stream",
     "text": [
      "\n",
      "result x: \n",
      "[-4.21799768e-10  1.09592747e-09  2.02355864e-09 -4.94322308e-09]\n",
      "\n",
      "result y: \n",
      "0.0\n",
      "\n",
      "teste: \n",
      "0.0\n"
     ]
    }
   ],
   "source": [
    "#Camila, Giovani e Iago Wesley\n",
    "from mpl_toolkits.mplot3d import Axes3D\n",
    "import numpy as np\n",
    "from scipy.optimize import differential_evolution\n",
    "\n",
    "def rastrigin(x):\n",
    "        v = 0\n",
    "        for i in range(len(x)):\n",
    "            v += (x[i] ** 2) - (10 * np.cos(2 * np.pi * x[i]))\n",
    "        return (10 * len(x)) + v\n",
    "    \n",
    "limites = [(-5.12, 5.12), (-5.12, 5.12), (-5.12, 5.12), (-5.12, 5.12)]\n",
    "result = differential_evolution(rastrigin, limites)\n",
    "print(\"\\nresult x: \")\n",
    "print(result.x)\n",
    "print(\"\\nresult y: \")\n",
    "print(result.fun)\n",
    "print(\"\\nteste: \")\n",
    "print(rastrigin([0, 0, 0, 0]))"
   ]
  },
  {
   "cell_type": "code",
   "execution_count": null,
   "metadata": {},
   "outputs": [],
   "source": []
  }
 ],
 "metadata": {
  "kernelspec": {
   "display_name": "Python 3",
   "language": "python",
   "name": "python3"
  },
  "language_info": {
   "codemirror_mode": {
    "name": "ipython",
    "version": 3
   },
   "file_extension": ".py",
   "mimetype": "text/x-python",
   "name": "python",
   "nbconvert_exporter": "python",
   "pygments_lexer": "ipython3",
   "version": "3.6.5"
  }
 },
 "nbformat": 4,
 "nbformat_minor": 2
}
