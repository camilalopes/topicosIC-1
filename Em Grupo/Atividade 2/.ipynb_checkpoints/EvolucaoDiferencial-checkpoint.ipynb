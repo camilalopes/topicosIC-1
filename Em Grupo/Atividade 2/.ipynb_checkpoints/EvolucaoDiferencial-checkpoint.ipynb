{
 "cells": [
  {
   "cell_type": "code",
   "execution_count": 18,
   "metadata": {},
   "outputs": [
    {
     "name": "stdout",
     "output_type": "stream",
     "text": [
      "[-1.08075938e-09  2.34377808e-09 -3.44880732e-09  2.40195618e-09]\n",
      "0.0\n"
     ]
    }
   ],
   "source": [
    "#Camila, Giovani e Iago Wesley\n",
    "from mpl_toolkits.mplot3d import Axes3D\n",
    "import numpy as np\n",
    "from scipy.optimize import differential_evolution\n",
    "\n",
    "def rastrigin(x):\n",
    "        v = 0\n",
    "        for i in range(len(x)):\n",
    "            v += (x[i] ** 2) - (10 * np.cos(2 * np.pi * x[i]))\n",
    "        return (10 * len(x)) + v\n",
    "    \n",
    "limites = [(-5.12, 5.12), (-5.12, 5.12), (-5.12, 5.12), (-5.12, 5.12)]\n",
    "result = differential_evolution(rastrigin, limites)\n",
    "print(result.x)\n",
    "print(result.fun)"
   ]
  }
 ],
 "metadata": {
  "kernelspec": {
   "display_name": "Python 3",
   "language": "python",
   "name": "python3"
  },
  "language_info": {
   "codemirror_mode": {
    "name": "ipython",
    "version": 3
   },
   "file_extension": ".py",
   "mimetype": "text/x-python",
   "name": "python",
   "nbconvert_exporter": "python",
   "pygments_lexer": "ipython3",
   "version": "3.6.5"
  }
 },
 "nbformat": 4,
 "nbformat_minor": 2
}
