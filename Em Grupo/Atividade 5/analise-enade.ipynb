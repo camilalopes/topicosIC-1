{
 "cells": [
  {
   "cell_type": "code",
   "execution_count": 1,
   "metadata": {},
   "outputs": [
    {
     "data": {
      "text/plain": [
       "(537436, 150)"
      ]
     },
     "execution_count": 1,
     "metadata": {},
     "output_type": "execute_result"
    }
   ],
   "source": [
    "import pandas\n",
    "import matplotlib.pyplot as plt\n",
    "\n",
    "enade2017=pandas.read_csv(\"datasets\\MICRODADOS_ENADE_2017.txt\", sep=';',dtype={\"DS_VT_ESC_OFG\": str, \n",
    "                                                                               'DS_VT_ESC_OCE':str,\n",
    "                                                                              'DS_VT_ACE_OCE':str,\n",
    "                                                                              'NT_GER':str,\n",
    "                                                                              'NT_FG':str,\n",
    "                                                                              'NT_OBJ_FG':str,\n",
    "                                                                              'NT_DIS_FG':str,\n",
    "                                                                              'NT_CE':str,\n",
    "                                                                              'NT_OBJ_CE':str,\n",
    "                                                                              'NT_DIS_CE':str})\n",
    "enade2017.shape"
   ]
  },
  {
   "cell_type": "code",
   "execution_count": 2,
   "metadata": {},
   "outputs": [
    {
     "data": {
      "text/plain": [
       "Index(['NU_ANO', 'CO_IES', 'CO_CATEGAD', 'CO_ORGACAD', 'CO_GRUPO', 'CO_CURSO',\n",
       "       'CO_MODALIDADE', 'CO_MUNIC_CURSO', 'CO_UF_CURSO', 'CO_REGIAO_CURSO'],\n",
       "      dtype='object')"
      ]
     },
     "execution_count": 2,
     "metadata": {},
     "output_type": "execute_result"
    }
   ],
   "source": [
    "enade2017.columns[0:10]"
   ]
  },
  {
   "cell_type": "code",
   "execution_count": 3,
   "metadata": {},
   "outputs": [
    {
     "data": {
      "text/html": [
       "<div>\n",
       "<style scoped>\n",
       "    .dataframe tbody tr th:only-of-type {\n",
       "        vertical-align: middle;\n",
       "    }\n",
       "\n",
       "    .dataframe tbody tr th {\n",
       "        vertical-align: top;\n",
       "    }\n",
       "\n",
       "    .dataframe thead th {\n",
       "        text-align: right;\n",
       "    }\n",
       "</style>\n",
       "<table border=\"1\" class=\"dataframe\">\n",
       "  <thead>\n",
       "    <tr style=\"text-align: right;\">\n",
       "      <th></th>\n",
       "      <th>NT_GER</th>\n",
       "      <th>CO_CATEGAD</th>\n",
       "      <th>CO_GRUPO</th>\n",
       "      <th>CO_REGIAO_CURSO</th>\n",
       "    </tr>\n",
       "  </thead>\n",
       "  <tbody>\n",
       "    <tr>\n",
       "      <th>0</th>\n",
       "      <td>52,6</td>\n",
       "      <td>1</td>\n",
       "      <td>5710</td>\n",
       "      <td>5</td>\n",
       "    </tr>\n",
       "    <tr>\n",
       "      <th>1</th>\n",
       "      <td>63,1</td>\n",
       "      <td>1</td>\n",
       "      <td>5710</td>\n",
       "      <td>5</td>\n",
       "    </tr>\n",
       "    <tr>\n",
       "      <th>2</th>\n",
       "      <td>33,7</td>\n",
       "      <td>1</td>\n",
       "      <td>5710</td>\n",
       "      <td>5</td>\n",
       "    </tr>\n",
       "    <tr>\n",
       "      <th>3</th>\n",
       "      <td>58,1</td>\n",
       "      <td>1</td>\n",
       "      <td>5710</td>\n",
       "      <td>5</td>\n",
       "    </tr>\n",
       "    <tr>\n",
       "      <th>4</th>\n",
       "      <td>46,3</td>\n",
       "      <td>1</td>\n",
       "      <td>5710</td>\n",
       "      <td>5</td>\n",
       "    </tr>\n",
       "    <tr>\n",
       "      <th>5</th>\n",
       "      <td>64,2</td>\n",
       "      <td>1</td>\n",
       "      <td>5710</td>\n",
       "      <td>5</td>\n",
       "    </tr>\n",
       "    <tr>\n",
       "      <th>6</th>\n",
       "      <td>41,4</td>\n",
       "      <td>1</td>\n",
       "      <td>5710</td>\n",
       "      <td>5</td>\n",
       "    </tr>\n",
       "    <tr>\n",
       "      <th>7</th>\n",
       "      <td>48,8</td>\n",
       "      <td>1</td>\n",
       "      <td>5710</td>\n",
       "      <td>5</td>\n",
       "    </tr>\n",
       "    <tr>\n",
       "      <th>8</th>\n",
       "      <td>52,9</td>\n",
       "      <td>1</td>\n",
       "      <td>5710</td>\n",
       "      <td>5</td>\n",
       "    </tr>\n",
       "    <tr>\n",
       "      <th>9</th>\n",
       "      <td>62,7</td>\n",
       "      <td>1</td>\n",
       "      <td>5710</td>\n",
       "      <td>5</td>\n",
       "    </tr>\n",
       "    <tr>\n",
       "      <th>10</th>\n",
       "      <td>51,9</td>\n",
       "      <td>1</td>\n",
       "      <td>5710</td>\n",
       "      <td>5</td>\n",
       "    </tr>\n",
       "    <tr>\n",
       "      <th>11</th>\n",
       "      <td>58,4</td>\n",
       "      <td>1</td>\n",
       "      <td>5710</td>\n",
       "      <td>5</td>\n",
       "    </tr>\n",
       "    <tr>\n",
       "      <th>12</th>\n",
       "      <td>77,7</td>\n",
       "      <td>1</td>\n",
       "      <td>5710</td>\n",
       "      <td>5</td>\n",
       "    </tr>\n",
       "    <tr>\n",
       "      <th>13</th>\n",
       "      <td>37,5</td>\n",
       "      <td>1</td>\n",
       "      <td>5710</td>\n",
       "      <td>5</td>\n",
       "    </tr>\n",
       "    <tr>\n",
       "      <th>14</th>\n",
       "      <td>66,4</td>\n",
       "      <td>1</td>\n",
       "      <td>5710</td>\n",
       "      <td>5</td>\n",
       "    </tr>\n",
       "    <tr>\n",
       "      <th>15</th>\n",
       "      <td>71,5</td>\n",
       "      <td>1</td>\n",
       "      <td>5710</td>\n",
       "      <td>5</td>\n",
       "    </tr>\n",
       "    <tr>\n",
       "      <th>16</th>\n",
       "      <td>57,8</td>\n",
       "      <td>1</td>\n",
       "      <td>5710</td>\n",
       "      <td>5</td>\n",
       "    </tr>\n",
       "    <tr>\n",
       "      <th>17</th>\n",
       "      <td>62,7</td>\n",
       "      <td>1</td>\n",
       "      <td>5710</td>\n",
       "      <td>5</td>\n",
       "    </tr>\n",
       "    <tr>\n",
       "      <th>18</th>\n",
       "      <td>75,1</td>\n",
       "      <td>1</td>\n",
       "      <td>5710</td>\n",
       "      <td>5</td>\n",
       "    </tr>\n",
       "    <tr>\n",
       "      <th>19</th>\n",
       "      <td>50,5</td>\n",
       "      <td>1</td>\n",
       "      <td>5710</td>\n",
       "      <td>5</td>\n",
       "    </tr>\n",
       "  </tbody>\n",
       "</table>\n",
       "</div>"
      ],
      "text/plain": [
       "   NT_GER  CO_CATEGAD  CO_GRUPO  CO_REGIAO_CURSO\n",
       "0    52,6           1      5710                5\n",
       "1    63,1           1      5710                5\n",
       "2    33,7           1      5710                5\n",
       "3    58,1           1      5710                5\n",
       "4    46,3           1      5710                5\n",
       "5    64,2           1      5710                5\n",
       "6    41,4           1      5710                5\n",
       "7    48,8           1      5710                5\n",
       "8    52,9           1      5710                5\n",
       "9    62,7           1      5710                5\n",
       "10   51,9           1      5710                5\n",
       "11   58,4           1      5710                5\n",
       "12   77,7           1      5710                5\n",
       "13   37,5           1      5710                5\n",
       "14   66,4           1      5710                5\n",
       "15   71,5           1      5710                5\n",
       "16   57,8           1      5710                5\n",
       "17   62,7           1      5710                5\n",
       "18   75,1           1      5710                5\n",
       "19   50,5           1      5710                5"
      ]
     },
     "execution_count": 3,
     "metadata": {},
     "output_type": "execute_result"
    }
   ],
   "source": [
    "'''\n",
    "nota geral: 0-98 \n",
    "CO_CATEGAD: categoria administrativa da IES\n",
    "1 - Federal\n",
    "2 - Estadual\n",
    "3 - Municipal\n",
    "4 - Privada com fins lucrativos\n",
    "5 - Privada sem fins lucrativos\n",
    "7 - Especial\n",
    "\n",
    "CO_GRUPO> area de enquadramento do curso no Enade\n",
    "4004 - Ciência da Computação (Bacharelado)\n",
    "\n",
    "CO_REGIAO_CURSO: regiao do curso\n",
    "1 = Norte\n",
    "2 = Nordeste\n",
    "3 = Sudeste\n",
    "4 = Sul\n",
    "5 = Centro-Oeste\n",
    "\n",
    "'''\n",
    "\n",
    "tabela = pandas.DataFrame(enade2017, columns=['NT_GER', 'CO_CATEGAD', 'CO_GRUPO', 'CO_REGIAO_CURSO'])\n",
    "tabela.head(20)"
   ]
  },
  {
   "cell_type": "code",
   "execution_count": 4,
   "metadata": {},
   "outputs": [
    {
     "name": "stdout",
     "output_type": "stream",
     "text": [
      "0         52.6\n",
      "1         63.1\n",
      "2         33.7\n",
      "3         58.1\n",
      "4         46.3\n",
      "5         64.2\n",
      "6         41.4\n",
      "7         48.8\n",
      "8         52.9\n",
      "9         62.7\n",
      "10        51.9\n",
      "11        58.4\n",
      "12        77.7\n",
      "13        37.5\n",
      "14        66.4\n",
      "15        71.5\n",
      "16        57.8\n",
      "17        62.7\n",
      "18        75.1\n",
      "19        50.5\n",
      "20        46.1\n",
      "21        44.1\n",
      "22        47.9\n",
      "23        55.1\n",
      "24        73.5\n",
      "25        60.4\n",
      "26        62.7\n",
      "27        49.5\n",
      "28        44.9\n",
      "29        27.7\n",
      "          ... \n",
      "534887    43.8\n",
      "534888    46.9\n",
      "534890    48.2\n",
      "534891    49.6\n",
      "534892    63.2\n",
      "534893    31.9\n",
      "534895    71.5\n",
      "534896    59.6\n",
      "534897    15.1\n",
      "534898    44.7\n",
      "534900    30.8\n",
      "534901    16.3\n",
      "534902    66.3\n",
      "534903    34.9\n",
      "534904    71.9\n",
      "534905    56.0\n",
      "534906    45.9\n",
      "534907    43.3\n",
      "534908    68.4\n",
      "534909    39.3\n",
      "534910    69.6\n",
      "534911    53.8\n",
      "534912    15.2\n",
      "534913    59.8\n",
      "534914    42.7\n",
      "534915    35.6\n",
      "534916    66.1\n",
      "534917    70.2\n",
      "534918    51.9\n",
      "534919    52.8\n",
      "Name: NT_GER, Length: 449932, dtype: float64\n",
      "43.52396851079471\n"
     ]
    }
   ],
   "source": [
    "##limpeza dos dados\n",
    "\n",
    "#substitui vírgula por ponto\n",
    "tabela['NT_GER'] = tabela['NT_GER'].str.replace(',', '.')\n",
    "#retira os nulos (não fez a prova)\n",
    "tabela=tabela.loc[(tabela['NT_GER'].notnull())]\n",
    "#converte de str para float\n",
    "tabela['NT_GER'] = pandas.to_numeric(tabela['NT_GER'])\n",
    "print(tabela['NT_GER'])\n",
    "print(tabela['NT_GER'].mean())"
   ]
  },
  {
   "cell_type": "code",
   "execution_count": 5,
   "metadata": {},
   "outputs": [
    {
     "data": {
      "text/plain": [
       "count    449932.000000\n",
       "mean         43.523969\n",
       "std          14.080110\n",
       "min           0.000000\n",
       "25%          33.400000\n",
       "50%          42.900000\n",
       "75%          53.100000\n",
       "max          98.100000\n",
       "Name: NT_GER, dtype: float64"
      ]
     },
     "execution_count": 5,
     "metadata": {},
     "output_type": "execute_result"
    }
   ],
   "source": [
    "tabela['NT_GER'].describe()"
   ]
  },
  {
   "cell_type": "code",
   "execution_count": 6,
   "metadata": {},
   "outputs": [
    {
     "name": "stdout",
     "output_type": "stream",
     "text": [
      "        NT_GER  CO_CATEGAD  CO_GRUPO  CO_REGIAO_CURSO\n",
      "383       58.7           1      4004                5\n",
      "384       49.8           1      4004                5\n",
      "386       40.1           1      4004                5\n",
      "387       53.2           1      4004                5\n",
      "388       52.4           1      4004                5\n",
      "389       22.4           1      4004                5\n",
      "390       53.3           1      4004                5\n",
      "391       44.4           1      4004                5\n",
      "392       66.0           1      4004                5\n",
      "393       36.5           1      4004                5\n",
      "394       32.1           1      4004                5\n",
      "395       23.0           1      4004                5\n",
      "396       55.8           1      4004                5\n",
      "397       35.5           1      4004                5\n",
      "398       39.5           1      4004                5\n",
      "399       68.3           1      4004                5\n",
      "400       46.5           1      4004                5\n",
      "401       39.1           1      4004                5\n",
      "402       25.4           1      4004                5\n",
      "403       36.0           1      4004                5\n",
      "404       54.9           1      4004                5\n",
      "405       61.9           1      4004                5\n",
      "450       43.3           1      4004                5\n",
      "451       50.6           1      4004                5\n",
      "452       62.8           1      4004                5\n",
      "453       42.7           1      4004                5\n",
      "454       51.5           1      4004                5\n",
      "455       79.9           1      4004                5\n",
      "457       73.9           1      4004                5\n",
      "458       51.8           1      4004                5\n",
      "...        ...         ...       ...              ...\n",
      "534350    36.6           4      4004                1\n",
      "534351    43.2           4      4004                1\n",
      "534352    35.9           4      4004                1\n",
      "534353    35.2           4      4004                1\n",
      "534354    32.1           4      4004                1\n",
      "534355    40.6           4      4004                1\n",
      "534356    38.9           4      4004                1\n",
      "534358    35.3           4      4004                1\n",
      "534359    36.0           4      4004                1\n",
      "534360    39.8           4      4004                1\n",
      "534361    35.4           4      4004                1\n",
      "534362    32.4           4      4004                1\n",
      "534363    33.2           4      4004                1\n",
      "534364    30.7           4      4004                1\n",
      "534365    16.2           4      4004                1\n",
      "534367    30.1           4      4004                1\n",
      "534368    35.1           4      4004                1\n",
      "534369    26.0           4      4004                1\n",
      "534370    27.7           4      4004                1\n",
      "534371    44.2           4      4004                1\n",
      "534372    33.7           4      4004                1\n",
      "534373    19.6           4      4004                1\n",
      "534374    34.6           4      4004                1\n",
      "534375    27.4           4      4004                1\n",
      "534376    18.1           4      4004                1\n",
      "534377    35.7           4      4004                1\n",
      "534378    33.3           4      4004                1\n",
      "534380    26.6           4      4004                1\n",
      "534381    28.7           4      4004                1\n",
      "534382    32.5           4      4004                1\n",
      "\n",
      "[8489 rows x 4 columns]\n"
     ]
    },
    {
     "data": {
      "text/plain": [
       "count    8489.000000\n",
       "mean       43.262775\n",
       "std        13.633212\n",
       "min         0.000000\n",
       "25%        33.700000\n",
       "50%        42.300000\n",
       "75%        52.400000\n",
       "max        95.100000\n",
       "Name: NT_GER, dtype: float64"
      ]
     },
     "execution_count": 6,
     "metadata": {},
     "output_type": "execute_result"
    }
   ],
   "source": [
    "#apenas Ciência da Computação\n",
    "ccomp = tabela[tabela['CO_GRUPO']==4004]\n",
    "print(ccomp)\n",
    "ccomp.NT_GER.describe()"
   ]
  },
  {
   "cell_type": "code",
   "execution_count": 7,
   "metadata": {},
   "outputs": [
    {
     "data": {
      "image/png": "[encoded data removed]",
      "text/plain": [
       "<Figure size 432x288 with 1 Axes>"
      ]
     },
     "metadata": {},
     "output_type": "display_data"
    }
   ],
   "source": [
    "import matplotlib.pyplot as plt\n",
    "#visualmente\n",
    "plt.scatter( ccomp.NT_GER, ccomp.CO_REGIAO_CURSO)\n",
    "plt.ylabel('Região do Curso')\n",
    "plt.xlabel('Nota no Enade')\n",
    "plt.show()"
   ]
  },
  {
   "cell_type": "code",
   "execution_count": 8,
   "metadata": {},
   "outputs": [
    {
     "data": {
      "image/png": "[encoded data removed]",
      "text/plain": [
       "<Figure size 432x288 with 1 Axes>"
      ]
     },
     "metadata": {},
     "output_type": "display_data"
    },
    {
     "data": {
      "text/plain": [
       "<matplotlib.axes._subplots.AxesSubplot at 0x25c230af400>"
      ]
     },
     "execution_count": 8,
     "metadata": {},
     "output_type": "execute_result"
    },
    {
     "data": {
      "image/png": "[encoded data removed]",
      "text/plain": [
       "<Figure size 432x288 with 1 Axes>"
      ]
     },
     "metadata": {},
     "output_type": "display_data"
    }
   ],
   "source": [
    "plt.scatter( ccomp.NT_GER, ccomp.CO_CATEGAD)\n",
    "plt.ylabel('Categoria IES')\n",
    "plt.xlabel('Nota no Enade')\n",
    "plt.show()\n",
    "\n",
    "\n",
    "categad = pandas.DataFrame(ccomp, columns=['NT_GER', 'CO_CATEGAD'])\n",
    "categad.boxplot(by='CO_CATEGAD')"
   ]
  },
  {
   "cell_type": "code",
   "execution_count": 9,
   "metadata": {},
   "outputs": [
    {
     "data": {
      "text/html": [
       "<div>\n",
       "<style scoped>\n",
       "    .dataframe tbody tr th:only-of-type {\n",
       "        vertical-align: middle;\n",
       "    }\n",
       "\n",
       "    .dataframe tbody tr th {\n",
       "        vertical-align: top;\n",
       "    }\n",
       "\n",
       "    .dataframe thead th {\n",
       "        text-align: right;\n",
       "    }\n",
       "</style>\n",
       "<table border=\"1\" class=\"dataframe\">\n",
       "  <thead>\n",
       "    <tr style=\"text-align: right;\">\n",
       "      <th></th>\n",
       "      <th>count</th>\n",
       "      <th>mean</th>\n",
       "      <th>std</th>\n",
       "      <th>min</th>\n",
       "      <th>25%</th>\n",
       "      <th>50%</th>\n",
       "      <th>75%</th>\n",
       "      <th>max</th>\n",
       "    </tr>\n",
       "    <tr>\n",
       "      <th>CO_CATEGAD</th>\n",
       "      <th></th>\n",
       "      <th></th>\n",
       "      <th></th>\n",
       "      <th></th>\n",
       "      <th></th>\n",
       "      <th></th>\n",
       "      <th></th>\n",
       "      <th></th>\n",
       "    </tr>\n",
       "  </thead>\n",
       "  <tbody>\n",
       "    <tr>\n",
       "      <th>1</th>\n",
       "      <td>2706.0</td>\n",
       "      <td>50.699815</td>\n",
       "      <td>13.312321</td>\n",
       "      <td>0.0</td>\n",
       "      <td>41.525</td>\n",
       "      <td>51.10</td>\n",
       "      <td>60.175</td>\n",
       "      <td>95.1</td>\n",
       "    </tr>\n",
       "    <tr>\n",
       "      <th>2</th>\n",
       "      <td>970.0</td>\n",
       "      <td>45.210206</td>\n",
       "      <td>13.429972</td>\n",
       "      <td>0.0</td>\n",
       "      <td>35.900</td>\n",
       "      <td>44.80</td>\n",
       "      <td>54.500</td>\n",
       "      <td>86.5</td>\n",
       "    </tr>\n",
       "    <tr>\n",
       "      <th>3</th>\n",
       "      <td>174.0</td>\n",
       "      <td>38.467816</td>\n",
       "      <td>12.374690</td>\n",
       "      <td>12.3</td>\n",
       "      <td>28.725</td>\n",
       "      <td>37.70</td>\n",
       "      <td>46.575</td>\n",
       "      <td>70.1</td>\n",
       "    </tr>\n",
       "    <tr>\n",
       "      <th>4</th>\n",
       "      <td>2094.0</td>\n",
       "      <td>37.584384</td>\n",
       "      <td>10.722355</td>\n",
       "      <td>0.0</td>\n",
       "      <td>30.600</td>\n",
       "      <td>36.80</td>\n",
       "      <td>44.200</td>\n",
       "      <td>76.0</td>\n",
       "    </tr>\n",
       "    <tr>\n",
       "      <th>5</th>\n",
       "      <td>2469.0</td>\n",
       "      <td>39.734305</td>\n",
       "      <td>12.545465</td>\n",
       "      <td>0.0</td>\n",
       "      <td>31.100</td>\n",
       "      <td>39.00</td>\n",
       "      <td>47.900</td>\n",
       "      <td>93.3</td>\n",
       "    </tr>\n",
       "    <tr>\n",
       "      <th>7</th>\n",
       "      <td>76.0</td>\n",
       "      <td>35.671053</td>\n",
       "      <td>10.281022</td>\n",
       "      <td>11.0</td>\n",
       "      <td>27.700</td>\n",
       "      <td>35.45</td>\n",
       "      <td>42.125</td>\n",
       "      <td>60.7</td>\n",
       "    </tr>\n",
       "  </tbody>\n",
       "</table>\n",
       "</div>"
      ],
      "text/plain": [
       "             count       mean        std   min     25%    50%     75%   max\n",
       "CO_CATEGAD                                                                 \n",
       "1           2706.0  50.699815  13.312321   0.0  41.525  51.10  60.175  95.1\n",
       "2            970.0  45.210206  13.429972   0.0  35.900  44.80  54.500  86.5\n",
       "3            174.0  38.467816  12.374690  12.3  28.725  37.70  46.575  70.1\n",
       "4           2094.0  37.584384  10.722355   0.0  30.600  36.80  44.200  76.0\n",
       "5           2469.0  39.734305  12.545465   0.0  31.100  39.00  47.900  93.3\n",
       "7             76.0  35.671053  10.281022  11.0  27.700  35.45  42.125  60.7"
      ]
     },
     "execution_count": 9,
     "metadata": {},
     "output_type": "execute_result"
    }
   ],
   "source": [
    "#nota geral agrupada pela categoria\n",
    "ccomp['NT_GER'].groupby(ccomp['CO_CATEGAD']).describe()"
   ]
  },
  {
   "cell_type": "code",
   "execution_count": 10,
   "metadata": {},
   "outputs": [
    {
     "name": "stdout",
     "output_type": "stream",
     "text": [
      "(0.9972330331802368, 8.453469490632415e-05)\n",
      "(0.986635684967041, 0.6103805303573608)\n"
     ]
    },
    {
     "data": {
      "text/plain": [
       "<matplotlib.axes._subplots.AxesSubplot at 0x25c2697acf8>"
      ]
     },
     "execution_count": 10,
     "metadata": {},
     "output_type": "execute_result"
    },
    {
     "data": {
      "image/png": "[encoded data removed]",
      "text/plain": [
       "<Figure size 432x288 with 1 Axes>"
      ]
     },
     "metadata": {},
     "output_type": "display_data"
    }
   ],
   "source": [
    "#teste das suposições\n",
    "import scipy.stats as stats\n",
    "\n",
    "print(stats.shapiro(categad.NT_GER.loc[categad.CO_CATEGAD ==1]))\n",
    "\n",
    "print(stats.shapiro(categad.NT_GER.loc[categad.CO_CATEGAD ==7]))\n",
    "\n",
    "#a saída do teste é o valor W e o p-value\n",
    "#Considera-se que a suposição não é violada quando o p-value é maior que alpha, normalmente 0.05\n",
    "\n",
    "#pelo histograma, também é possível observar a distribuição dos dados. \n",
    "categad.NT_GER.loc[categad.CO_CATEGAD ==7].hist()"
   ]
  },
  {
   "cell_type": "code",
   "execution_count": 11,
   "metadata": {},
   "outputs": [
    {
     "name": "stdout",
     "output_type": "stream",
     "text": [
      "Mann-Whitney: Estatisticas=38220.000, p=0.000\n",
      "Distribução diferente\n",
      "Kruskal-Wallis: Estatisticas=87.519, p=0.000\n",
      "Distribução diferente\n",
      "Anova: Estatisticas=818.679, p=0.000\n",
      "Distribução diferente\n"
     ]
    }
   ],
   "source": [
    "# teste não paramétrico são métodos que não assumem uma distribuição específica para os dados.\n",
    "stat, p = stats.mannwhitneyu(categad.NT_GER.loc[categad.CO_CATEGAD ==1], categad.NT_GER.loc[categad.CO_CATEGAD ==7])\n",
    "\n",
    "print('Mann-Whitney: Estatisticas=%.3f, p=%.3f' % (stat, p))\n",
    "\n",
    "alpha = 0.05\n",
    "if p > alpha:\n",
    "\tprint('Mesma distribuição')\n",
    "else:\n",
    "\tprint('Distribução diferente')\n",
    "    \n",
    "    \n",
    "stat, p = stats.kruskal(categad.NT_GER.loc[categad.CO_CATEGAD ==1], categad.NT_GER.loc[categad.CO_CATEGAD ==7])\n",
    "print('Kruskal-Wallis: Estatisticas=%.3f, p=%.3f' % (stat, p))\n",
    "\n",
    "if p > alpha:\n",
    "\tprint('Mesma distribuição')\n",
    "else:\n",
    "\tprint('Distribução diferente')\n",
    "    \n",
    "#anova\n",
    "stat, p = stats.f_oneway(categad.NT_GER.loc[categad.CO_CATEGAD ==1], categad.CO_CATEGAD.loc[categad.CO_CATEGAD ==7])\n",
    "print('Anova: Estatisticas=%.3f, p=%.3f' % (stat, p))\n",
    "if p > alpha:\n",
    "\tprint('Mesma distribuição')\n",
    "else:\n",
    "\tprint('Distribução diferente')"
   ]
  },
  {
   "cell_type": "code",
   "execution_count": null,
   "metadata": {},
   "outputs": [],
   "source": []
  },
  {
   "cell_type": "code",
   "execution_count": null,
   "metadata": {},
   "outputs": [],
   "source": []
  }
 ],
 "metadata": {
  "kernelspec": {
   "display_name": "Python 3",
   "language": "python",
   "name": "python3"
  },
  "language_info": {
   "codemirror_mode": {
    "name": "ipython",
    "version": 3
   },
   "file_extension": ".py",
   "mimetype": "text/x-python",
   "name": "python",
   "nbconvert_exporter": "python",
   "pygments_lexer": "ipython3",
   "version": "3.6.5"
  }
 },
 "nbformat": 4,
 "nbformat_minor": 2
}
