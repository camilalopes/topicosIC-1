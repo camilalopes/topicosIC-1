{
 "cells": [
  {
   "cell_type": "code",
   "execution_count": 219,
   "metadata": {},
   "outputs": [],
   "source": [
    "from lxml import html\n",
    "import json\n",
    "import requests\n",
    "from decimal import Decimal\n",
    "import urllib.request\n",
    "from pprint import pprint"
   ]
  },
  {
   "cell_type": "code",
   "execution_count": 220,
   "metadata": {},
   "outputs": [],
   "source": [
    "API_KEY = 'RGAPI-3fab7376-f780-49a5-98fa-ba9342fc680f'\n",
    "REGION = 'br1'\n",
    "URL_BASE = 'https://'+REGION+'.api.riotgames.com/'\n",
    "NOME = 'TheDarkDescent'"
   ]
  },
  {
   "cell_type": "code",
   "execution_count": 221,
   "metadata": {},
   "outputs": [],
   "source": [
    "horas_jogadas = 'https://wol.gg/stats/br/'+NOME+'/'\n",
    "horas_json = requests.get(horas_jogadas)\n",
    "html = html.fromstring(horas_json.content)\n",
    "horas = str(html.xpath('//div[@id=\"time-hours\"]/p/text()'))\n",
    "horas = horas.replace(',','').replace('[','').replace(']','').replace('\\'','')"
   ]
  },
  {
   "cell_type": "code",
   "execution_count": 222,
   "metadata": {},
   "outputs": [],
   "source": [
    "invocador = URL_BASE+'lol/summoner/v3/summoners/by-name/'+NOME+'?api_key='+API_KEY\n",
    "invocador_json = requests.get(invocador).json()"
   ]
  },
  {
   "cell_type": "code",
   "execution_count": 223,
   "metadata": {},
   "outputs": [],
   "source": [
    "ligas = URL_BASE+'lol/league/v3/positions/by-summoner/'+str(invocador_json['id'])+'?api_key='+API_KEY\n",
    "ligas_json = requests.get(ligas).json()"
   ]
  },
  {
   "cell_type": "code",
   "execution_count": 224,
   "metadata": {},
   "outputs": [],
   "source": [
    "num_jogos = URL_BASE+'lol/match/v3/matchlists/by-account/'+str(invocador_json['accountId'])+'?beginIndex=201&season=1&api_key='+API_KEY\n",
    "num_jogos_json = requests.get(num_jogos).json()"
   ]
  },
  {
   "cell_type": "code",
   "execution_count": 225,
   "metadata": {},
   "outputs": [],
   "source": [
    "maestrias = URL_BASE+'lol/champion-mastery/v3/champion-masteries/by-summoner/'+str(invocador_json['id'])+'?api_key='+API_KEY\n",
    "maestrias_json = requests.get(maestrias).json()\n",
    "main = maestrias_json[0]['championId']"
   ]
  },
  {
   "cell_type": "code",
   "execution_count": 226,
   "metadata": {},
   "outputs": [],
   "source": [
    "campeoes = json.load(open('lol-champions.json', 'rb'))\n",
    "\n",
    "def buscaCampeao(id):\n",
    "    n = len(campeoes)-1\n",
    "    while (n>-1):\n",
    "        if campeoes[n]['key']==id:\n",
    "            return campeoes[n]['name']\n",
    "        n=n-1"
   ]
  },
  {
   "cell_type": "code",
   "execution_count": 227,
   "metadata": {},
   "outputs": [],
   "source": [
    "def porc_vitorias(wins, losses):\n",
    "  return str(round(wins/(losses+wins)*100, 2))+'%'\n",
    "\n",
    "def lista_filas():\n",
    "    n = len(ligas_json)-1\n",
    "    while (n>-1):\n",
    "        print('Fila: '+ ligas_json[n]['queueType'])\n",
    "        print('Elo: '+ ligas_json[n]['tier'])\n",
    "        print('Divisão: '+ ligas_json[n]['rank'])\n",
    "        print('Vitórias: '+ str(ligas_json[n]['wins']))\n",
    "        print('Derrotas: '+ str(ligas_json[n]['losses']))\n",
    "        print('Porcentagem de vitórias: ' + porc_vitorias(ligas_json[n]['wins'], ligas_json[n]['losses']) +'\\n')\n",
    "        n=n-1"
   ]
  },
  {
   "cell_type": "code",
   "execution_count": 231,
   "metadata": {},
   "outputs": [
    {
     "name": "stdout",
     "output_type": "stream",
     "text": [
      "Invocador: TheDarkDescent (6804307)\n",
      "Tempo total de jogo (site): 3461 horas\n",
      "Tempo total de jogo (próprio): 2359 horas\n",
      "Total de jogos: 4044\n",
      "Campeão preferido: Poppy\n"
     ]
    }
   ],
   "source": [
    "print('Invocador: ' + NOME + ' ('+str(invocador_json['id'])+')')\n",
    "print('Tempo total de jogo (site): ' + horas + ' horas')\n",
    "print('Tempo total de jogo (próprio): ' + str(int((float(num_jogos_json['totalGames'])*35)/60)) + ' horas')\n",
    "print('Total de jogos: ' + str(num_jogos_json['totalGames']))\n",
    "print('Campeão preferido: ' + buscaCampeao(str(main)))"
   ]
  },
  {
   "cell_type": "code",
   "execution_count": 229,
   "metadata": {},
   "outputs": [
    {
     "name": "stdout",
     "output_type": "stream",
     "text": [
      "Fila: RANKED_SOLO_5x5\n",
      "Elo: PLATINUM\n",
      "Divisão: V\n",
      "Vitórias: 50\n",
      "Derrotas: 39\n",
      "Porcentagem de vitórias: 56.18%\n",
      "\n",
      "Fila: RANKED_FLEX_SR\n",
      "Elo: DIAMOND\n",
      "Divisão: V\n",
      "Vitórias: 27\n",
      "Derrotas: 11\n",
      "Porcentagem de vitórias: 71.05%\n",
      "\n",
      "Fila: RANKED_FLEX_TT\n",
      "Elo: GOLD\n",
      "Divisão: V\n",
      "Vitórias: 17\n",
      "Derrotas: 13\n",
      "Porcentagem de vitórias: 56.67%\n",
      "\n"
     ]
    }
   ],
   "source": [
    "lista_filas()"
   ]
  },
  {
   "cell_type": "code",
   "execution_count": null,
   "metadata": {},
   "outputs": [],
   "source": []
  }
 ],
 "metadata": {
  "kernelspec": {
   "display_name": "Python 3",
   "language": "python",
   "name": "python3"
  },
  "language_info": {
   "codemirror_mode": {
    "name": "ipython",
    "version": 3
   },
   "file_extension": ".py",
   "mimetype": "text/x-python",
   "name": "python",
   "nbconvert_exporter": "python",
   "pygments_lexer": "ipython3",
   "version": "3.6.5"
  }
 },
 "nbformat": 4,
 "nbformat_minor": 2
}
