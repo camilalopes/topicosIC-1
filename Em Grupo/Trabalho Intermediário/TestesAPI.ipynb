{
 "cells": [
  {
   "cell_type": "code",
   "execution_count": 4,
   "metadata": {},
   "outputs": [],
   "source": [
    "%run Biblioteca.ipynb"
   ]
  },
  {
   "cell_type": "code",
   "execution_count": 6,
   "metadata": {},
   "outputs": [],
   "source": [
    "jogador = Player(\"TheDarkDescent\")"
   ]
  },
  {
   "cell_type": "code",
   "execution_count": 9,
   "metadata": {},
   "outputs": [
    {
     "name": "stdout",
     "output_type": "stream",
     "text": [
      "Nick: TheDarkDescent\n",
      "ID: 200585791\n",
      "Nível: 119\n",
      "Total de Partidas: 4057\n",
      "Total de Tempo de Jogo (estimado): 2366 horas\n",
      "Campeão preferido: Poppy\n",
      "Maestria com o Campeão: 200136\n",
      "Elo: DIAMOND\n",
      "Divisão: V\n",
      "Vitórias: 27\n",
      "Derrotas: 11\n",
      "Porcentagem de Vitórias: 71.05%\n"
     ]
    }
   ],
   "source": [
    "print(\"Nick: \" + jogador.Summoner.nick)\n",
    "print(\"ID: \" + jogador.Summoner.accountId)\n",
    "print(\"Nível: \" + jogador.Summoner.summonerLevel)\n",
    "print(\"Total de Partidas: \" +  jogador.MatchList.totalGames)\n",
    "print(\"Total de Tempo de Jogo (estimado): \" +  jogador.MatchList.totalHours + \" horas\")\n",
    "print(\"Campeão preferido: \" + jogador.Champions.mainChampionName)\n",
    "print(\"Maestria com o Campeão: \" + jogador.Champions.mainChampionPoints)\n",
    "print(\"Elo: \"+ jogador.Leagues.tier)\n",
    "print(\"Divisão: \" + jogador.Leagues.rank)\n",
    "print(\"Vitórias: \" + str(jogador.Leagues.wins))\n",
    "print(\"Derrotas: \" + str(jogador.Leagues.losses))\n",
    "print(\"Porcentagem de Vitórias: \" + str(jogador.Leagues.winrate) + \"%\")"
   ]
  },
  {
   "cell_type": "code",
   "execution_count": null,
   "metadata": {},
   "outputs": [],
   "source": []
  }
 ],
 "metadata": {
  "kernelspec": {
   "display_name": "Python 3",
   "language": "python",
   "name": "python3"
  },
  "language_info": {
   "codemirror_mode": {
    "name": "ipython",
    "version": 3
   },
   "file_extension": ".py",
   "mimetype": "text/x-python",
   "name": "python",
   "nbconvert_exporter": "python",
   "pygments_lexer": "ipython3",
   "version": "3.6.5"
  }
 },
 "nbformat": 4,
 "nbformat_minor": 2
}
