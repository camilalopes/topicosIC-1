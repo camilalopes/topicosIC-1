{
 "cells": [
  {
   "cell_type": "markdown",
   "metadata": {},
   "source": [
    "### Biblioteca - Riot API\n",
    "\n",
    "**Equipe:** Camila Lopes e Giovani Moutinho  \n",
    "**Disciplina:** Tópicos em Inteligência Computacional  \n",
    "**Professora:** Luciana Balieiro Cosme  \n",
    "**Curso:** Ciência da Computação   \n",
    "  \n",
    "**Referências:**  \n",
    "[Documentação da API](https://developer.riotgames.com/api-methods/)"
   ]
  },
  {
   "cell_type": "code",
   "execution_count": 28,
   "metadata": {
    "scrolled": true
   },
   "outputs": [],
   "source": [
    "from lxml import html\n",
    "import json\n",
    "import requests\n",
    "from decimal import Decimal\n",
    "import urllib.request\n",
    "from pprint import pprint"
   ]
  },
  {
   "cell_type": "code",
   "execution_count": 29,
   "metadata": {},
   "outputs": [],
   "source": [
    "## Configurações\n",
    "API_KEY = 'RGAPI-82b32172-5558-461f-91f5-18cc9d13fb10'\n",
    "REGIAO = 'br1'\n",
    "URL_BASE = 'https://'+REGIAO+'.api.riotgames.com/'\n",
    "NICK_TESTE = 'TheDarkDescent'"
   ]
  },
  {
   "cell_type": "code",
   "execution_count": 87,
   "metadata": {},
   "outputs": [],
   "source": [
    "class Summoner:\n",
    "    nick = \"\"\n",
    "    linkInfoPerfil = \"\"\n",
    "    infoPerfil = \"\"\n",
    "    accountId = \"\"\n",
    "    profileIconId = \"\"\n",
    "    summonerLevel = \"\"\n",
    "    id = \"\"\n",
    "    revisionDate = \"\"\n",
    "    \n",
    "    def __init__(self, nick):\n",
    "        self.nick = nick\n",
    "        self.linkInfoPerfil = URL_BASE+'lol/summoner/v3/summoners/by-name/'+self.nick+'?api_key='+API_KEY\n",
    "        self.infoPerfil = requests.get(self.linkInfoPerfil)\n",
    "        if self.infoPerfil.ok==True:\n",
    "            self.infoPerfil =  self.infoPerfil.json()\n",
    "            self.accountId = str(self.infoPerfil['accountId'])\n",
    "            self.profileIconId = str(self.infoPerfil['profileIconId'])\n",
    "            self.summonerLevel = str(self.infoPerfil['summonerLevel'])\n",
    "            self.id = str(self.infoPerfil['id'])\n",
    "            self.revisionDate = str(self.infoPerfil['revisionDate'])"
   ]
  },
  {
   "cell_type": "code",
   "execution_count": 98,
   "metadata": {},
   "outputs": [],
   "source": [
    "class Champions:\n",
    "    mainChampionId = \"\"\n",
    "    mainChampionPoints = \"\"\n",
    "    mainChampionName = \"\"\n",
    "    playerId = \"\"\n",
    "    \n",
    "    def getChampionName(self, championId):\n",
    "        campeoes = json.load(open('lol-champions.json', 'rb'))\n",
    "        n = len(campeoes)-1\n",
    "        while (n>-1):\n",
    "            if campeoes[n]['key']==championId:\n",
    "                return campeoes[n]['name']\n",
    "            n=n-1\n",
    "    \n",
    "    def __init__(self, summoner):\n",
    "        if(summoner.accountId != ''):\n",
    "            self.playerId = summoner.id\n",
    "            self.linkInfoChampions = URL_BASE+'lol/champion-mastery/v3/champion-masteries/by-summoner/'+self.playerId+'?api_key='+API_KEY\n",
    "            self.infoChampions = requests.get(self.linkInfoChampions).json()\n",
    "            self.mainChampionId = str(self.infoChampions[0]['championId'])\n",
    "            self.mainChampionPoints = str(self.infoChampions[0]['championPoints'])\n",
    "            self.mainChampionName = self.getChampionName(self.mainChampionId)"
   ]
  },
  {
   "cell_type": "code",
   "execution_count": 99,
   "metadata": {},
   "outputs": [],
   "source": [
    "class MatchList:\n",
    "    totalGames = \"\"\n",
    "    matches = []\n",
    "    totalHours = \"\"\n",
    "    \n",
    "    def getHorasJogadas(self):\n",
    "        return str(int(int(self.totalGames)*35/60))\n",
    "    \n",
    "    def __init__(self, summoner):\n",
    "        if(summoner.accountId != ''):\n",
    "            self.linkInfoMatches = URL_BASE+'lol/match/v3/matchlists/by-account/'+summoner.accountId+'?beginIndex=201&api_key='+API_KEY\n",
    "            self.infoMatches = requests.get(self.linkInfoMatches).json()\n",
    "            self.totalGames = str(self.infoMatches['totalGames'])\n",
    "            self.matches = self.infoMatches['matches']\n",
    "            self.totalHours = self.getHorasJogadas()"
   ]
  },
  {
   "cell_type": "code",
   "execution_count": 100,
   "metadata": {},
   "outputs": [],
   "source": [
    "class Leagues:\n",
    "    allLeagues = []\n",
    "    queueType = \"\"\n",
    "    iHigher = -1\n",
    "    tier = \"\"\n",
    "    rank = \"\"\n",
    "    wins = \"\"\n",
    "    losses = \"\"\n",
    "    leaguePoints = \"\"\n",
    "    winrate = \"\"\n",
    "    \n",
    "    def getWinrate(self, wins, losses):\n",
    "        return str(round(wins/(losses+wins)*100, 2))\n",
    "\n",
    "    def listFilas(self):\n",
    "        n = len(self.allLeagues)-1\n",
    "        while (n>-1):\n",
    "            print('Fila: '+ allLeagues[n]['queueType'])\n",
    "            print('Elo: '+ allLeagues[n]['tier'])\n",
    "            print('Divisão: '+ allLeagues[n]['rank'])\n",
    "            print('Vitórias: '+ str(allLeagues[n]['wins']))\n",
    "            print('Derrotas: '+ str(allLeagues[n]['losses']))\n",
    "            print('Porcentagem de vitórias: ' + getWinrate(allLeagues[n]['wins'], allLeagues[n]['losses']) +'\\n')\n",
    "        \n",
    "    def getRankNumber(self, tier, rank):\n",
    "        ranks = json.load(open('lol-ranks.json', 'rb'))\n",
    "        return int(ranks[tier][rank])\n",
    "    \n",
    "    def getHigherQueue(self):       \n",
    "        n = len(self.allLeagues)-1\n",
    "        maxRank = -1\n",
    "        higherQueue = \"\"\n",
    "        while (n>-1):\n",
    "            if int(self.getRankNumber(self.allLeagues[n]['tier'], self.allLeagues[n]['rank'])) > int(maxRank):\n",
    "                maxRank = int(self.getRankNumber(self.allLeagues[n]['tier'], self.allLeagues[n]['rank']))\n",
    "                self.iHigher = n\n",
    "                higherQueue = self.allLeagues[n]['queueType']\n",
    "            n=n-1\n",
    "        return higherQueue\n",
    "    \n",
    "    def getHigherInfo(self):\n",
    "        self.tier = self.allLeagues[self.iHigher]['tier']\n",
    "        self.rank = self.allLeagues[self.iHigher]['rank']\n",
    "        self.wins = self.allLeagues[self.iHigher]['wins']\n",
    "        self.losses = self.allLeagues[self.iHigher]['losses']\n",
    "        self.leaguePoints = self.allLeagues[self.iHigher]['leaguePoints']\n",
    "        self.winrate = self.getWinrate(self.allLeagues[self.iHigher]['wins'], self.allLeagues[self.iHigher]['losses'])\n",
    "    \n",
    "    def __init__(self, summoner):\n",
    "        if(summoner.accountId != ''):\n",
    "            self.linkInfoLeagues = URL_BASE+'lol/league/v3/positions/by-summoner/'+summoner.id+'?api_key='+API_KEY\n",
    "            self.allLeagues = self.infoLeagues = requests.get(self.linkInfoLeagues).json()\n",
    "            self.queueType = str(self.getHigherQueue())\n",
    "            if self.iHigher != -1:\n",
    "                self.getHigherInfo()"
   ]
  },
  {
   "cell_type": "code",
   "execution_count": 105,
   "metadata": {},
   "outputs": [],
   "source": [
    "class Player:\n",
    "    Summoner = \"\"\n",
    "    Champions = \"\"\n",
    "    MatchList = \"\"\n",
    "    Leagues = \"\"\n",
    "    \n",
    "    def __init__(self, nick):\n",
    "        self.Summoner = Summoner(nick)\n",
    "        self.Champions = Champions(self.Summoner)\n",
    "        self.MatchList = MatchList(self.Summoner)\n",
    "        self.Leagues = Leagues(self.Summoner)"
   ]
  }
 ],
 "metadata": {
  "kernelspec": {
   "display_name": "Python 3",
   "language": "python",
   "name": "python3"
  },
  "language_info": {
   "codemirror_mode": {
    "name": "ipython",
    "version": 3
   },
   "file_extension": ".py",
   "mimetype": "text/x-python",
   "name": "python",
   "nbconvert_exporter": "python",
   "pygments_lexer": "ipython3",
   "version": "3.6.5"
  }
 },
 "nbformat": 4,
 "nbformat_minor": 2
}
