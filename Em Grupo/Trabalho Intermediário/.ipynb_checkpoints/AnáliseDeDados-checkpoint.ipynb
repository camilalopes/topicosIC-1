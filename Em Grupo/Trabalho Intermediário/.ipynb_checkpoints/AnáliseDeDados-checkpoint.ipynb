{
 "cells": [
  {
   "cell_type": "code",
   "execution_count": 6,
   "metadata": {},
   "outputs": [],
   "source": [
    "from lxml import html\n",
    "import json\n",
    "import requests\n",
    "from decimal import Decimal\n",
    "import urllib.request\n",
    "from pprint import pprint"
   ]
  },
  {
   "cell_type": "code",
   "execution_count": 7,
   "metadata": {},
   "outputs": [],
   "source": [
    "## Configurações\n",
    "API_KEY = 'RGAPI-d321b7b8-8359-4913-acfe-86455c269f7e'\n",
    "REGIAO = 'br1'\n",
    "URL_BASE = 'https://'+REGIAO+'.api.riotgames.com/'\n",
    "NICK_TESTE = 'TheDarkDescent'"
   ]
  },
  {
   "cell_type": "code",
   "execution_count": 28,
   "metadata": {},
   "outputs": [],
   "source": [
    "def getHorasWol(nick):\n",
    "    linkWol = 'https://wol.gg/stats/br/'+nick+'/'\n",
    "    wolRequest = requests.get(linkWol)\n",
    "    wolHtml = html.fromstring(wolRequest.content)\n",
    "    totalHoras = str(wolHtml.xpath('//div[@id=\"time-hours\"]/p/text()'))\n",
    "    totalHoras = totalHoras.replace(',','').replace('[','').replace(']','').replace('\\'','')\n",
    "    return totalHoras"
   ]
  },
  {
   "cell_type": "code",
   "execution_count": 39,
   "metadata": {},
   "outputs": [],
   "source": [
    "def getSummonerInfo(nick):\n",
    "    linkInfoPerfil = URL_BASE+'lol/summoner/v3/summoners/by-name/'+nick+'?api_key='+API_KEY\n",
    "    infoPerfil = requests.get(linkInfoPerfil).json()\n",
    "    if infoPerfil is None:\n",
    "        return -1\n",
    "    else:\n",
    "        return infoPerfil"
   ]
  },
  {
   "cell_type": "code",
   "execution_count": 40,
   "metadata": {},
   "outputs": [],
   "source": [
    "def getAccountId(infoSummoner):\n",
    "    if infoSummoner['accountId'] is not None:\n",
    "        return infoSummoner['accountId']\n",
    "    else:\n",
    "        return -1"
   ]
  },
  {
   "cell_type": "code",
   "execution_count": 53,
   "metadata": {},
   "outputs": [],
   "source": [
    "def getId(infoSummoner):\n",
    "    if infoSummoner['id'] is not None:\n",
    "        return str(infoSummoner['id'])\n",
    "    else:\n",
    "        return -1"
   ]
  },
  {
   "cell_type": "code",
   "execution_count": 42,
   "metadata": {},
   "outputs": [],
   "source": [
    "def getSummonerLevel(infoSummoner):\n",
    "    if infoSummoner['summonerLevel'] is not None:\n",
    "        return infoSummoner['summonerLevel']\n",
    "    else:\n",
    "        return -1"
   ]
  },
  {
   "cell_type": "code",
   "execution_count": 48,
   "metadata": {},
   "outputs": [],
   "source": [
    "def getLeaguesInfo(summonerId):\n",
    "    linkInfoLigas = URL_BASE+'lol/league/v3/positions/by-summoner/'+summonerId+'?api_key='+API_KEY\n",
    "    infoLigas = requests.get(linkInfoLigas).json()\n",
    "    if infoLigas is None:\n",
    "        return -1\n",
    "    else:\n",
    "        return infoLigas"
   ]
  },
  {
   "cell_type": "code",
   "execution_count": 49,
   "metadata": {},
   "outputs": [],
   "source": [
    "def getWinrate(wins, losses):\n",
    "    return str(round(wins/(losses+wins)*100, 2))"
   ]
  },
  {
   "cell_type": "code",
   "execution_count": 50,
   "metadata": {},
   "outputs": [],
   "source": [
    "def listLeagues(INFOLEAGUES):\n",
    "    n = len(INFOLEAGUES)-1\n",
    "    while (n>-1):\n",
    "        print('Fila: '+ INFOLEAGUES[n]['queueType'])\n",
    "        print('Elo: '+ INFOLEAGUES[n]['tier'])\n",
    "        print('Divisão: '+ INFOLEAGUES[n]['rank'])\n",
    "        print('Vitórias: '+ str(INFOLEAGUES[n]['wins']))\n",
    "        print('Derrotas: '+ str(INFOLEAGUES[n]['losses']))\n",
    "        print('Porcentagem de vitórias: ' + getWinrate(INFOLEAGUES[n]['wins'], INFOLEAGUES[n]['losses']) +'%\\n')\n",
    "        n=n-1"
   ]
  },
  {
   "cell_type": "code",
   "execution_count": null,
   "metadata": {},
   "outputs": [],
   "source": []
  },
  {
   "cell_type": "code",
   "execution_count": null,
   "metadata": {},
   "outputs": [],
   "source": []
  }
 ],
 "metadata": {
  "kernelspec": {
   "display_name": "Python 3",
   "language": "python",
   "name": "python3"
  },
  "language_info": {
   "codemirror_mode": {
    "name": "ipython",
    "version": 3
   },
   "file_extension": ".py",
   "mimetype": "text/x-python",
   "name": "python",
   "nbconvert_exporter": "python",
   "pygments_lexer": "ipython3",
   "version": "3.6.5"
  }
 },
 "nbformat": 4,
 "nbformat_minor": 2
}
