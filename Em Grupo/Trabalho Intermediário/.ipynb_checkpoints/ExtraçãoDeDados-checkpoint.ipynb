{
 "cells": [
  {
   "cell_type": "code",
   "execution_count": 27,
   "metadata": {},
   "outputs": [],
   "source": [
    "import pandas as pd\n",
    "import numpy as np\n",
    "\n",
    "%run Biblioteca.ipynb"
   ]
  },
  {
   "cell_type": "code",
   "execution_count": 28,
   "metadata": {},
   "outputs": [],
   "source": [
    "df = pd.read_csv('dados.csv')"
   ]
  },
  {
   "cell_type": "code",
   "execution_count": 29,
   "metadata": {},
   "outputs": [],
   "source": [
    "df['Ano_Ingresso'] = pd.to_numeric(df['Ano_Ingresso'])\n",
    "df['CR'] = pd.to_numeric(df['CR'])\n",
    "df['Joga_Algo'] = df['Joga_Algo']==1\n",
    "df['Joga_LoL'] = df['Joga_LoL']==1"
   ]
  },
  {
   "cell_type": "code",
   "execution_count": 30,
   "metadata": {},
   "outputs": [],
   "source": [
    "players = []\n",
    "semNicks = df['Nick'].isnull()\n",
    "n = 0\n",
    "for linha in df.itertuples():\n",
    "    if semNicks[n] != True:\n",
    "        players.append(Player(linha.Nick))\n",
    "    else:\n",
    "        players.append(None)\n",
    "    n = n+1"
   ]
  },
  {
   "cell_type": "code",
   "execution_count": 31,
   "metadata": {},
   "outputs": [],
   "source": [
    "#for jogador in players:\n",
    "#    if jogador != None:\n",
    "#        print(\"Nick: **********\")\n",
    "#        print(\"ID: \" + jogador.Summoner.accountId)\n",
    "#        print(\"Nível: \" + jogador.Summoner.summonerLevel)\n",
    "#        print(\"Total de Partidas: \" +  jogador.MatchList.totalGames)\n",
    "#        print(\"Total de Tempo de Jogo (estimado): \" +  jogador.MatchList.totalHours + \" horas\")\n",
    "#        print(\"Campeão preferido: \" + jogador.Champions.mainChampionName)\n",
    "#        print(\"Maestria com o Campeão: \" + jogador.Champions.mainChampionPoints)\n",
    "#        print(\"Elo: \"+ jogador.Leagues.tier)\n",
    "#        print(\"Divisão: \" + jogador.Leagues.rank)\n",
    "#        print(\"Vitórias: \" + str(jogador.Leagues.wins))\n",
    "#        print(\"Derrotas: \" + str(jogador.Leagues.losses))\n",
    "#        print(\"Porcentagem de Vitórias: \" + str(jogador.Leagues.winrate) + \"%\")\n",
    "#        print(\"==================================================================\")"
   ]
  },
  {
   "cell_type": "code",
   "execution_count": 32,
   "metadata": {},
   "outputs": [],
   "source": [
    "niveis = []\n",
    "partidas = []\n",
    "horas = []\n",
    "campeoes = []\n",
    "maestrias = []\n",
    "elos = []\n",
    "ranks = []\n",
    "vitorias = []\n",
    "derrotas = []\n",
    "winrates = []\n",
    "\n",
    "for jogador in players:\n",
    "    if jogador != None:\n",
    "        niveis.append(jogador.Summoner.summonerLevel)\n",
    "        partidas.append(jogador.MatchList.totalGames)\n",
    "        horas.append(jogador.MatchList.totalHours)\n",
    "        campeoes.append(jogador.Champions.mainChampionName)\n",
    "        maestrias.append(jogador.Champions.mainChampionPoints)\n",
    "        elos.append(jogador.Leagues.tier)\n",
    "        ranks.append(jogador.Leagues.rank)\n",
    "        vitorias.append(jogador.Leagues.wins)\n",
    "        derrotas.append(jogador.Leagues.losses)\n",
    "        winrates.append(jogador.Leagues.winrate)\n",
    "    else:\n",
    "        niveis.append(\"\")\n",
    "        partidas.append(\"\")\n",
    "        horas.append(\"\")\n",
    "        campeoes.append(\"\")\n",
    "        maestrias.append(\"\")\n",
    "        elos.append(\"\")\n",
    "        ranks.append(\"\")\n",
    "        vitorias.append(\"\")\n",
    "        derrotas.append(\"\")\n",
    "        winrates.append(\"\")"
   ]
  },
  {
   "cell_type": "code",
   "execution_count": 33,
   "metadata": {},
   "outputs": [],
   "source": [
    "df['Nivel'] = niveis\n",
    "df['Num_Partidas'] = partidas\n",
    "df['Horas_Jogadas'] = horas\n",
    "df['Campeao_Preferido'] = campeoes\n",
    "df['Maestria'] = maestrias\n",
    "df['Elo'] = elos\n",
    "df['Divisao'] = ranks\n",
    "df['Vitorias'] = vitorias\n",
    "df['Derrotas'] = derrotas\n",
    "df['Porcentagem_Vitorias'] = winrates"
   ]
  },
  {
   "cell_type": "code",
   "execution_count": 34,
   "metadata": {},
   "outputs": [],
   "source": [
    "df.to_csv('dadosExtraidos.csv', sep=',')"
   ]
  }
 ],
 "metadata": {
  "kernelspec": {
   "display_name": "Python 3",
   "language": "python",
   "name": "python3"
  },
  "language_info": {
   "codemirror_mode": {
    "name": "ipython",
    "version": 3
   },
   "file_extension": ".py",
   "mimetype": "text/x-python",
   "name": "python",
   "nbconvert_exporter": "python",
   "pygments_lexer": "ipython3",
   "version": "3.6.5"
  }
 },
 "nbformat": 4,
 "nbformat_minor": 2
}
