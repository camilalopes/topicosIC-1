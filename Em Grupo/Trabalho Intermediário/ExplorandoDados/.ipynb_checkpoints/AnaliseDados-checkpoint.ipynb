{
 "cells": [
  {
   "cell_type": "code",
   "execution_count": 216,
   "metadata": {},
   "outputs": [
    {
     "data": {
      "text/plain": [
       "(75, 16)"
      ]
     },
     "execution_count": 216,
     "metadata": {},
     "output_type": "execute_result"
    }
   ],
   "source": [
    "import pandas as pd\n",
    "import matplotlib.pyplot as plt\n",
    "import scipy.stats as stats\n",
    "import seaborn as sns\n",
    "import warnings\n",
    "warnings.filterwarnings('ignore')\n",
    "\n",
    "dados = pd.read_csv('../dadosExtraidos.csv')\n",
    "dados.shape"
   ]
  },
  {
   "cell_type": "code",
   "execution_count": 217,
   "metadata": {},
   "outputs": [
    {
     "data": {
      "text/plain": [
       "Index(['Ano_Ingresso', 'Joga_Algo', 'Joga_LoL', 'Nick', 'CR', 'Nivel',\n",
       "       'Num_Partidas', 'Horas_Jogadas', 'Campeao_Preferido', 'Maestria', 'Elo',\n",
       "       'Divisao', 'Vitorias'],\n",
       "      dtype='object')"
      ]
     },
     "execution_count": 217,
     "metadata": {},
     "output_type": "execute_result"
    }
   ],
   "source": [
    "dados.columns[1:14]"
   ]
  },
  {
   "cell_type": "code",
   "execution_count": 218,
   "metadata": {},
   "outputs": [
    {
     "data": {
      "text/html": [
       "<div>\n",
       "<style scoped>\n",
       "    .dataframe tbody tr th:only-of-type {\n",
       "        vertical-align: middle;\n",
       "    }\n",
       "\n",
       "    .dataframe tbody tr th {\n",
       "        vertical-align: top;\n",
       "    }\n",
       "\n",
       "    .dataframe thead th {\n",
       "        text-align: right;\n",
       "    }\n",
       "</style>\n",
       "<table border=\"1\" class=\"dataframe\">\n",
       "  <thead>\n",
       "    <tr style=\"text-align: right;\">\n",
       "      <th></th>\n",
       "      <th>Ano_Ingresso</th>\n",
       "      <th>CR</th>\n",
       "      <th>Joga_Algo</th>\n",
       "      <th>Joga_LoL</th>\n",
       "      <th>Nivel</th>\n",
       "      <th>Num_Partidas</th>\n",
       "      <th>Horas_Jogadas</th>\n",
       "      <th>Campeao_Preferido</th>\n",
       "      <th>Maestria</th>\n",
       "      <th>Elo</th>\n",
       "      <th>Divisao</th>\n",
       "      <th>Vitorias</th>\n",
       "      <th>Derrotas</th>\n",
       "      <th>Porcentagem_Vitorias</th>\n",
       "    </tr>\n",
       "  </thead>\n",
       "  <tbody>\n",
       "    <tr>\n",
       "      <th>0</th>\n",
       "      <td>2015</td>\n",
       "      <td>60.6</td>\n",
       "      <td>True</td>\n",
       "      <td>False</td>\n",
       "      <td>NaN</td>\n",
       "      <td>NaN</td>\n",
       "      <td>NaN</td>\n",
       "      <td>NaN</td>\n",
       "      <td>NaN</td>\n",
       "      <td>NaN</td>\n",
       "      <td>NaN</td>\n",
       "      <td>NaN</td>\n",
       "      <td>NaN</td>\n",
       "      <td>NaN</td>\n",
       "    </tr>\n",
       "    <tr>\n",
       "      <th>1</th>\n",
       "      <td>2015</td>\n",
       "      <td>53.0</td>\n",
       "      <td>True</td>\n",
       "      <td>False</td>\n",
       "      <td>NaN</td>\n",
       "      <td>NaN</td>\n",
       "      <td>NaN</td>\n",
       "      <td>NaN</td>\n",
       "      <td>NaN</td>\n",
       "      <td>NaN</td>\n",
       "      <td>NaN</td>\n",
       "      <td>NaN</td>\n",
       "      <td>NaN</td>\n",
       "      <td>NaN</td>\n",
       "    </tr>\n",
       "    <tr>\n",
       "      <th>2</th>\n",
       "      <td>2017</td>\n",
       "      <td>43.8</td>\n",
       "      <td>True</td>\n",
       "      <td>False</td>\n",
       "      <td>NaN</td>\n",
       "      <td>NaN</td>\n",
       "      <td>NaN</td>\n",
       "      <td>NaN</td>\n",
       "      <td>NaN</td>\n",
       "      <td>NaN</td>\n",
       "      <td>NaN</td>\n",
       "      <td>NaN</td>\n",
       "      <td>NaN</td>\n",
       "      <td>NaN</td>\n",
       "    </tr>\n",
       "    <tr>\n",
       "      <th>3</th>\n",
       "      <td>2014</td>\n",
       "      <td>42.0</td>\n",
       "      <td>True</td>\n",
       "      <td>False</td>\n",
       "      <td>NaN</td>\n",
       "      <td>NaN</td>\n",
       "      <td>NaN</td>\n",
       "      <td>NaN</td>\n",
       "      <td>NaN</td>\n",
       "      <td>NaN</td>\n",
       "      <td>NaN</td>\n",
       "      <td>NaN</td>\n",
       "      <td>NaN</td>\n",
       "      <td>NaN</td>\n",
       "    </tr>\n",
       "    <tr>\n",
       "      <th>4</th>\n",
       "      <td>2014</td>\n",
       "      <td>68.4</td>\n",
       "      <td>True</td>\n",
       "      <td>False</td>\n",
       "      <td>NaN</td>\n",
       "      <td>NaN</td>\n",
       "      <td>NaN</td>\n",
       "      <td>NaN</td>\n",
       "      <td>NaN</td>\n",
       "      <td>NaN</td>\n",
       "      <td>NaN</td>\n",
       "      <td>NaN</td>\n",
       "      <td>NaN</td>\n",
       "      <td>NaN</td>\n",
       "    </tr>\n",
       "  </tbody>\n",
       "</table>\n",
       "</div>"
      ],
      "text/plain": [
       "   Ano_Ingresso    CR  Joga_Algo  Joga_LoL  Nivel  Num_Partidas  \\\n",
       "0          2015  60.6       True     False    NaN           NaN   \n",
       "1          2015  53.0       True     False    NaN           NaN   \n",
       "2          2017  43.8       True     False    NaN           NaN   \n",
       "3          2014  42.0       True     False    NaN           NaN   \n",
       "4          2014  68.4       True     False    NaN           NaN   \n",
       "\n",
       "   Horas_Jogadas Campeao_Preferido  Maestria  Elo Divisao  Vitorias  Derrotas  \\\n",
       "0            NaN               NaN       NaN  NaN     NaN       NaN       NaN   \n",
       "1            NaN               NaN       NaN  NaN     NaN       NaN       NaN   \n",
       "2            NaN               NaN       NaN  NaN     NaN       NaN       NaN   \n",
       "3            NaN               NaN       NaN  NaN     NaN       NaN       NaN   \n",
       "4            NaN               NaN       NaN  NaN     NaN       NaN       NaN   \n",
       "\n",
       "   Porcentagem_Vitorias  \n",
       "0                   NaN  \n",
       "1                   NaN  \n",
       "2                   NaN  \n",
       "3                   NaN  \n",
       "4                   NaN  "
      ]
     },
     "execution_count": 218,
     "metadata": {},
     "output_type": "execute_result"
    }
   ],
   "source": [
    "tabela = pd.DataFrame(dados, columns = ['Ano_Ingresso', 'CR', 'Joga_Algo', 'Joga_LoL', 'Nivel', 'Num_Partidas', \n",
    "                                            'Horas_Jogadas', 'Campeao_Preferido', 'Maestria', 'Elo', 'Divisao', \n",
    "                                            'Vitorias', 'Derrotas', 'Porcentagem_Vitorias'])\n",
    "tabela.head()"
   ]
  },
  {
   "cell_type": "code",
   "execution_count": 219,
   "metadata": {},
   "outputs": [],
   "source": [
    "#retira os nulos (não tem CR)\n",
    "tabela=tabela.loc[(tabela['CR'].notnull())]"
   ]
  },
  {
   "cell_type": "code",
   "execution_count": 244,
   "metadata": {},
   "outputs": [
    {
     "name": "stdout",
     "output_type": "stream",
     "text": [
      "Média geral de CR:  59.8218309859155\n",
      "Jogadores de LoL:  61.09090909090909\n",
      "Não jogam LoL:  59.25204081632652\n",
      "Não jogam LoL mas joga outra coisa:  56.811290322580646\n",
      "Jogam algo:  58.58773584905662\n",
      "Não jogam nada:  63.455555555555556\n",
      "Porcentagem de alunos que jogam algo:  74.64788732394366\n",
      "Porcentagem de alunos que jogam LoL:  41.509433962264154\n"
     ]
    }
   ],
   "source": [
    "#media dos CRs geral\n",
    "print('Média geral de CR: ', tabela['CR'].mean())\n",
    "\n",
    "#pessoas que jogam LoL\n",
    "jogaLol = tabela[tabela['Joga_LoL']==True]\n",
    "#media dos CRs de quem joga LoL\n",
    "print(\"Jogadores de LoL: \", jogaLol['CR'].mean())\n",
    "\n",
    "#pessoas que NÃO jogam LoL\n",
    "naoJogaLol = tabela[tabela['Joga_LoL']==False]\n",
    "#media dos CRs de quem NÃO joga LoL\n",
    "print(\"Não jogam LoL: \", naoJogaLol['CR'].mean())\n",
    "\n",
    "#pessoas que NÃO jogam LoL mas jogam outro jogos\n",
    "naoJogaLol2 = tabela[tabela['Joga_LoL']==False]\n",
    "naoJogaLol2 = naoJogaLol2[naoJogaLol2['Joga_Algo']==True]\n",
    "print(\"Não jogam LoL mas joga outra coisa: \", naoJogaLol2['CR'].mean())\n",
    "\n",
    "#pessoas que jogam \n",
    "joga = tabela[tabela['Joga_Algo']==True]\n",
    "#media dos CRs de quem joga\n",
    "print(\"Jogam algo: \", joga['CR'].mean())\n",
    "\n",
    "#pessoas que não jogam nada \n",
    "nJoga = tabela[tabela['Joga_Algo']==False]\n",
    "#media dos CRs de quem joga\n",
    "print(\"Não jogam nada: \", nJoga['CR'].mean())\n",
    "\n",
    "#porcentagem de jogadores\n",
    "print(\"Porcentagem de alunos que jogam algo: \", (len(joga)*100)/(len(joga)+len(nJoga)))\n",
    "print(\"Porcentagem de alunos que jogam LoL: \", (len(jogaLol)*100)/len(joga))"
   ]
  },
  {
   "cell_type": "code",
   "execution_count": 221,
   "metadata": {},
   "outputs": [
    {
     "name": "stdout",
     "output_type": "stream",
     "text": [
      "-------\n",
      "CR Geral:\n",
      " count    71.000000\n",
      "mean     59.821831\n",
      "std      13.493929\n",
      "min      25.500000\n",
      "25%      51.750000\n",
      "50%      60.600000\n",
      "75%      69.600000\n",
      "max      86.400000\n",
      "Name: CR, dtype: float64\n",
      "-------\n",
      "Joga LoL:\n",
      " count    22.000000\n",
      "mean     61.090909\n",
      "std      13.650359\n",
      "min      33.800000\n",
      "25%      56.075000\n",
      "50%      60.400000\n",
      "75%      69.300000\n",
      "max      86.400000\n",
      "Name: CR, dtype: float64\n",
      "-------\n",
      "Não Joga Lol:\n",
      " count    49.000000\n",
      "mean     59.252041\n",
      "std      13.525986\n",
      "min      25.500000\n",
      "25%      51.500000\n",
      "50%      60.600000\n",
      "75%      69.700000\n",
      "max      85.000000\n",
      "Name: CR, dtype: float64\n",
      "-------\n",
      "Joga Outras Coisas:\n",
      " count    31.00000\n",
      "mean     56.81129\n",
      "std      13.74336\n",
      "min      25.50000\n",
      "25%      46.30000\n",
      "50%      55.00000\n",
      "75%      68.80000\n",
      "max      82.00000\n",
      "Name: CR, dtype: float64\n",
      "-------\n",
      "Joga Algo:\n",
      " count    53.000000\n",
      "mean     58.587736\n",
      "std      13.738670\n",
      "min      25.500000\n",
      "25%      48.700000\n",
      "50%      57.900000\n",
      "75%      68.800000\n",
      "max      86.400000\n",
      "Name: CR, dtype: float64\n",
      "-------\n",
      "Não Joga Nada:\n",
      " count    18.000000\n",
      "mean     63.455556\n",
      "std      12.396832\n",
      "min      33.300000\n",
      "25%      56.100000\n",
      "50%      62.600000\n",
      "75%      70.800000\n",
      "max      85.000000\n",
      "Name: CR, dtype: float64\n"
     ]
    }
   ],
   "source": [
    "print('-------\\nCR Geral:\\n', tabela['CR'].describe())\n",
    "print('-------\\nJoga LoL:\\n', jogaLol['CR'].describe())\n",
    "print('-------\\nNão Joga Lol:\\n', naoJogaLol['CR'].describe())\n",
    "print('-------\\nJoga Outras Coisas:\\n', naoJogaLol2['CR'].describe())\n",
    "print('-------\\nJoga Algo:\\n', joga['CR'].describe())\n",
    "print('-------\\nNão Joga Nada:\\n', nJoga['CR'].describe())"
   ]
  },
  {
   "cell_type": "code",
   "execution_count": 222,
   "metadata": {},
   "outputs": [
    {
     "data": {
      "text/html": [
       "<div>\n",
       "<style scoped>\n",
       "    .dataframe tbody tr th:only-of-type {\n",
       "        vertical-align: middle;\n",
       "    }\n",
       "\n",
       "    .dataframe tbody tr th {\n",
       "        vertical-align: top;\n",
       "    }\n",
       "\n",
       "    .dataframe thead th {\n",
       "        text-align: right;\n",
       "    }\n",
       "</style>\n",
       "<table border=\"1\" class=\"dataframe\">\n",
       "  <thead>\n",
       "    <tr style=\"text-align: right;\">\n",
       "      <th></th>\n",
       "      <th>Nivel</th>\n",
       "      <th>Num_Partidas</th>\n",
       "      <th>Horas_Jogadas</th>\n",
       "      <th>Campeao_Preferido</th>\n",
       "      <th>Maestria</th>\n",
       "      <th>Elo</th>\n",
       "      <th>Divisao</th>\n",
       "      <th>Vitorias</th>\n",
       "      <th>Derrotas</th>\n",
       "      <th>Porcentagem_Vitorias</th>\n",
       "    </tr>\n",
       "  </thead>\n",
       "  <tbody>\n",
       "    <tr>\n",
       "      <th>9</th>\n",
       "      <td>89.0</td>\n",
       "      <td>3767.0</td>\n",
       "      <td>2197.0</td>\n",
       "      <td>Yasuo</td>\n",
       "      <td>124061.0</td>\n",
       "      <td>GOLD</td>\n",
       "      <td>I</td>\n",
       "      <td>11.0</td>\n",
       "      <td>22.0</td>\n",
       "      <td>33.33</td>\n",
       "    </tr>\n",
       "    <tr>\n",
       "      <th>10</th>\n",
       "      <td>164.0</td>\n",
       "      <td>4778.0</td>\n",
       "      <td>2787.0</td>\n",
       "      <td>Braum</td>\n",
       "      <td>136457.0</td>\n",
       "      <td>PLATINUM</td>\n",
       "      <td>III</td>\n",
       "      <td>142.0</td>\n",
       "      <td>122.0</td>\n",
       "      <td>53.79</td>\n",
       "    </tr>\n",
       "    <tr>\n",
       "      <th>11</th>\n",
       "      <td>86.0</td>\n",
       "      <td>1729.0</td>\n",
       "      <td>1008.0</td>\n",
       "      <td>Miss Fortune</td>\n",
       "      <td>24000.0</td>\n",
       "      <td>NaN</td>\n",
       "      <td>NaN</td>\n",
       "      <td>NaN</td>\n",
       "      <td>NaN</td>\n",
       "      <td>NaN</td>\n",
       "    </tr>\n",
       "    <tr>\n",
       "      <th>12</th>\n",
       "      <td>114.0</td>\n",
       "      <td>3704.0</td>\n",
       "      <td>2160.0</td>\n",
       "      <td>Janna</td>\n",
       "      <td>142484.0</td>\n",
       "      <td>GOLD</td>\n",
       "      <td>IV</td>\n",
       "      <td>36.0</td>\n",
       "      <td>32.0</td>\n",
       "      <td>52.94</td>\n",
       "    </tr>\n",
       "    <tr>\n",
       "      <th>13</th>\n",
       "      <td>113.0</td>\n",
       "      <td>3166.0</td>\n",
       "      <td>1846.0</td>\n",
       "      <td>Tahm Kench</td>\n",
       "      <td>206102.0</td>\n",
       "      <td>SILVER</td>\n",
       "      <td>II</td>\n",
       "      <td>76.0</td>\n",
       "      <td>85.0</td>\n",
       "      <td>47.20</td>\n",
       "    </tr>\n",
       "    <tr>\n",
       "      <th>14</th>\n",
       "      <td>138.0</td>\n",
       "      <td>3332.0</td>\n",
       "      <td>1943.0</td>\n",
       "      <td>Zed</td>\n",
       "      <td>218438.0</td>\n",
       "      <td>PLATINUM</td>\n",
       "      <td>V</td>\n",
       "      <td>166.0</td>\n",
       "      <td>155.0</td>\n",
       "      <td>51.71</td>\n",
       "    </tr>\n",
       "    <tr>\n",
       "      <th>15</th>\n",
       "      <td>104.0</td>\n",
       "      <td>2821.0</td>\n",
       "      <td>1645.0</td>\n",
       "      <td>Rek'Sai</td>\n",
       "      <td>134568.0</td>\n",
       "      <td>PLATINUM</td>\n",
       "      <td>IV</td>\n",
       "      <td>10.0</td>\n",
       "      <td>0.0</td>\n",
       "      <td>100.00</td>\n",
       "    </tr>\n",
       "    <tr>\n",
       "      <th>16</th>\n",
       "      <td>121.0</td>\n",
       "      <td>4091.0</td>\n",
       "      <td>2386.0</td>\n",
       "      <td>Poppy</td>\n",
       "      <td>200136.0</td>\n",
       "      <td>DIAMOND</td>\n",
       "      <td>V</td>\n",
       "      <td>27.0</td>\n",
       "      <td>11.0</td>\n",
       "      <td>71.05</td>\n",
       "    </tr>\n",
       "    <tr>\n",
       "      <th>17</th>\n",
       "      <td>80.0</td>\n",
       "      <td>1584.0</td>\n",
       "      <td>924.0</td>\n",
       "      <td>Miss Fortune</td>\n",
       "      <td>122222.0</td>\n",
       "      <td>GOLD</td>\n",
       "      <td>IV</td>\n",
       "      <td>87.0</td>\n",
       "      <td>74.0</td>\n",
       "      <td>54.04</td>\n",
       "    </tr>\n",
       "    <tr>\n",
       "      <th>18</th>\n",
       "      <td>107.0</td>\n",
       "      <td>1603.0</td>\n",
       "      <td>935.0</td>\n",
       "      <td>Jax</td>\n",
       "      <td>63944.0</td>\n",
       "      <td>SILVER</td>\n",
       "      <td>III</td>\n",
       "      <td>11.0</td>\n",
       "      <td>13.0</td>\n",
       "      <td>45.83</td>\n",
       "    </tr>\n",
       "    <tr>\n",
       "      <th>19</th>\n",
       "      <td>113.0</td>\n",
       "      <td>1328.0</td>\n",
       "      <td>774.0</td>\n",
       "      <td>Zoe</td>\n",
       "      <td>109381.0</td>\n",
       "      <td>SILVER</td>\n",
       "      <td>IV</td>\n",
       "      <td>32.0</td>\n",
       "      <td>42.0</td>\n",
       "      <td>43.24</td>\n",
       "    </tr>\n",
       "    <tr>\n",
       "      <th>36</th>\n",
       "      <td>79.0</td>\n",
       "      <td>1149.0</td>\n",
       "      <td>670.0</td>\n",
       "      <td>Alistar</td>\n",
       "      <td>90727.0</td>\n",
       "      <td>GOLD</td>\n",
       "      <td>V</td>\n",
       "      <td>76.0</td>\n",
       "      <td>67.0</td>\n",
       "      <td>53.15</td>\n",
       "    </tr>\n",
       "    <tr>\n",
       "      <th>37</th>\n",
       "      <td>74.0</td>\n",
       "      <td>2263.0</td>\n",
       "      <td>1320.0</td>\n",
       "      <td>Lee Sin</td>\n",
       "      <td>174866.0</td>\n",
       "      <td>GOLD</td>\n",
       "      <td>I</td>\n",
       "      <td>54.0</td>\n",
       "      <td>54.0</td>\n",
       "      <td>50.00</td>\n",
       "    </tr>\n",
       "    <tr>\n",
       "      <th>38</th>\n",
       "      <td>82.0</td>\n",
       "      <td>1728.0</td>\n",
       "      <td>1008.0</td>\n",
       "      <td>Lulu</td>\n",
       "      <td>86998.0</td>\n",
       "      <td>GOLD</td>\n",
       "      <td>IV</td>\n",
       "      <td>36.0</td>\n",
       "      <td>45.0</td>\n",
       "      <td>44.44</td>\n",
       "    </tr>\n",
       "    <tr>\n",
       "      <th>39</th>\n",
       "      <td>141.0</td>\n",
       "      <td>4321.0</td>\n",
       "      <td>2520.0</td>\n",
       "      <td>Lux</td>\n",
       "      <td>221069.0</td>\n",
       "      <td>PLATINUM</td>\n",
       "      <td>V</td>\n",
       "      <td>48.0</td>\n",
       "      <td>35.0</td>\n",
       "      <td>57.83</td>\n",
       "    </tr>\n",
       "    <tr>\n",
       "      <th>40</th>\n",
       "      <td>38.0</td>\n",
       "      <td>3199.0</td>\n",
       "      <td>1866.0</td>\n",
       "      <td>Thresh</td>\n",
       "      <td>184854.0</td>\n",
       "      <td>GOLD</td>\n",
       "      <td>III</td>\n",
       "      <td>7.0</td>\n",
       "      <td>3.0</td>\n",
       "      <td>70.00</td>\n",
       "    </tr>\n",
       "    <tr>\n",
       "      <th>47</th>\n",
       "      <td>46.0</td>\n",
       "      <td>404.0</td>\n",
       "      <td>235.0</td>\n",
       "      <td>Tryndamere</td>\n",
       "      <td>16936.0</td>\n",
       "      <td>SILVER</td>\n",
       "      <td>IV</td>\n",
       "      <td>20.0</td>\n",
       "      <td>30.0</td>\n",
       "      <td>40.00</td>\n",
       "    </tr>\n",
       "    <tr>\n",
       "      <th>48</th>\n",
       "      <td>122.0</td>\n",
       "      <td>3109.0</td>\n",
       "      <td>1813.0</td>\n",
       "      <td>Ryze</td>\n",
       "      <td>100737.0</td>\n",
       "      <td>GOLD</td>\n",
       "      <td>V</td>\n",
       "      <td>191.0</td>\n",
       "      <td>180.0</td>\n",
       "      <td>51.48</td>\n",
       "    </tr>\n",
       "    <tr>\n",
       "      <th>49</th>\n",
       "      <td>87.0</td>\n",
       "      <td>1061.0</td>\n",
       "      <td>618.0</td>\n",
       "      <td>Lux</td>\n",
       "      <td>118924.0</td>\n",
       "      <td>SILVER</td>\n",
       "      <td>I</td>\n",
       "      <td>121.0</td>\n",
       "      <td>132.0</td>\n",
       "      <td>47.83</td>\n",
       "    </tr>\n",
       "    <tr>\n",
       "      <th>50</th>\n",
       "      <td>102.0</td>\n",
       "      <td>2653.0</td>\n",
       "      <td>1547.0</td>\n",
       "      <td>Yasuo</td>\n",
       "      <td>86505.0</td>\n",
       "      <td>PLATINUM</td>\n",
       "      <td>V</td>\n",
       "      <td>131.0</td>\n",
       "      <td>133.0</td>\n",
       "      <td>49.62</td>\n",
       "    </tr>\n",
       "    <tr>\n",
       "      <th>51</th>\n",
       "      <td>109.0</td>\n",
       "      <td>4250.0</td>\n",
       "      <td>2479.0</td>\n",
       "      <td>Thresh</td>\n",
       "      <td>216549.0</td>\n",
       "      <td>PLATINUM</td>\n",
       "      <td>V</td>\n",
       "      <td>79.0</td>\n",
       "      <td>77.0</td>\n",
       "      <td>50.64</td>\n",
       "    </tr>\n",
       "    <tr>\n",
       "      <th>74</th>\n",
       "      <td>77.0</td>\n",
       "      <td>2413.0</td>\n",
       "      <td>1407.0</td>\n",
       "      <td>Jinx</td>\n",
       "      <td>123404.0</td>\n",
       "      <td>SILVER</td>\n",
       "      <td>IV</td>\n",
       "      <td>4.0</td>\n",
       "      <td>7.0</td>\n",
       "      <td>36.36</td>\n",
       "    </tr>\n",
       "  </tbody>\n",
       "</table>\n",
       "</div>"
      ],
      "text/plain": [
       "    Nivel  Num_Partidas  Horas_Jogadas Campeao_Preferido  Maestria       Elo  \\\n",
       "9    89.0        3767.0         2197.0             Yasuo  124061.0      GOLD   \n",
       "10  164.0        4778.0         2787.0             Braum  136457.0  PLATINUM   \n",
       "11   86.0        1729.0         1008.0      Miss Fortune   24000.0       NaN   \n",
       "12  114.0        3704.0         2160.0             Janna  142484.0      GOLD   \n",
       "13  113.0        3166.0         1846.0        Tahm Kench  206102.0    SILVER   \n",
       "14  138.0        3332.0         1943.0               Zed  218438.0  PLATINUM   \n",
       "15  104.0        2821.0         1645.0           Rek'Sai  134568.0  PLATINUM   \n",
       "16  121.0        4091.0         2386.0             Poppy  200136.0   DIAMOND   \n",
       "17   80.0        1584.0          924.0      Miss Fortune  122222.0      GOLD   \n",
       "18  107.0        1603.0          935.0               Jax   63944.0    SILVER   \n",
       "19  113.0        1328.0          774.0               Zoe  109381.0    SILVER   \n",
       "36   79.0        1149.0          670.0           Alistar   90727.0      GOLD   \n",
       "37   74.0        2263.0         1320.0           Lee Sin  174866.0      GOLD   \n",
       "38   82.0        1728.0         1008.0              Lulu   86998.0      GOLD   \n",
       "39  141.0        4321.0         2520.0               Lux  221069.0  PLATINUM   \n",
       "40   38.0        3199.0         1866.0            Thresh  184854.0      GOLD   \n",
       "47   46.0         404.0          235.0        Tryndamere   16936.0    SILVER   \n",
       "48  122.0        3109.0         1813.0              Ryze  100737.0      GOLD   \n",
       "49   87.0        1061.0          618.0               Lux  118924.0    SILVER   \n",
       "50  102.0        2653.0         1547.0             Yasuo   86505.0  PLATINUM   \n",
       "51  109.0        4250.0         2479.0            Thresh  216549.0  PLATINUM   \n",
       "74   77.0        2413.0         1407.0              Jinx  123404.0    SILVER   \n",
       "\n",
       "   Divisao  Vitorias  Derrotas  Porcentagem_Vitorias  \n",
       "9        I      11.0      22.0                 33.33  \n",
       "10     III     142.0     122.0                 53.79  \n",
       "11     NaN       NaN       NaN                   NaN  \n",
       "12      IV      36.0      32.0                 52.94  \n",
       "13      II      76.0      85.0                 47.20  \n",
       "14       V     166.0     155.0                 51.71  \n",
       "15      IV      10.0       0.0                100.00  \n",
       "16       V      27.0      11.0                 71.05  \n",
       "17      IV      87.0      74.0                 54.04  \n",
       "18     III      11.0      13.0                 45.83  \n",
       "19      IV      32.0      42.0                 43.24  \n",
       "36       V      76.0      67.0                 53.15  \n",
       "37       I      54.0      54.0                 50.00  \n",
       "38      IV      36.0      45.0                 44.44  \n",
       "39       V      48.0      35.0                 57.83  \n",
       "40     III       7.0       3.0                 70.00  \n",
       "47      IV      20.0      30.0                 40.00  \n",
       "48       V     191.0     180.0                 51.48  \n",
       "49       I     121.0     132.0                 47.83  \n",
       "50       V     131.0     133.0                 49.62  \n",
       "51       V      79.0      77.0                 50.64  \n",
       "74      IV       4.0       7.0                 36.36  "
      ]
     },
     "execution_count": 222,
     "metadata": {},
     "output_type": "execute_result"
    }
   ],
   "source": [
    "jogaLol[['Nivel', 'Num_Partidas', 'Horas_Jogadas', 'Campeao_Preferido', 'Maestria', 'Elo', 'Divisao', 'Vitorias', 'Derrotas', 'Porcentagem_Vitorias']]"
   ]
  },
  {
   "cell_type": "code",
   "execution_count": 223,
   "metadata": {},
   "outputs": [
    {
     "data": {
      "image/png": "[encoded data removed]",
      "text/plain": [
       "<Figure size 576x576 with 1 Axes>"
      ]
     },
     "metadata": {},
     "output_type": "display_data"
    }
   ],
   "source": [
    "#Alunos que não jogam LoL mas jogam outros jogos x Alunos que jogam LoL\n",
    "tabela2 = [naoJogaLol2, jogaLol]\n",
    "tabela2 = pd.concat(tabela2)\n",
    "\n",
    "#plt.scatter( tabela2.CR, tabela2.Joga_LoL)\n",
    "#plt.ylabel('Joga LoL')\n",
    "#plt.xlabel('CR')\n",
    "#plt.show()\n",
    "\n",
    "plt.figure(figsize=(8,8))\n",
    "sns.boxplot(x='Joga_LoL', y='CR', palette=\"Set1\", data=tabela2, linewidth=3)\n",
    "plt.title('Joga LoL?')\n",
    "plt.show()"
   ]
  },
  {
   "cell_type": "code",
   "execution_count": 224,
   "metadata": {},
   "outputs": [
    {
     "name": "stdout",
     "output_type": "stream",
     "text": [
      "(0.9593729972839355, 0.280799925327301)\n",
      "(0.9821277260780334, 0.9459398984909058)\n"
     ]
    },
    {
     "data": {
      "image/png": "[encoded data removed]",
      "text/plain": [
       "<Figure size 576x576 with 1 Axes>"
      ]
     },
     "metadata": {},
     "output_type": "display_data"
    }
   ],
   "source": [
    "#teste das suposições\n",
    "\n",
    "print(stats.shapiro(tabela2.CR.loc[tabela2.Joga_LoL == False]))\n",
    "print(stats.shapiro(tabela2.CR.loc[tabela2.Joga_LoL == True]))\n",
    "\n",
    "#a saída do teste é o valor W e o p-value\n",
    "#considera-se que a suposição não é violada quando o p-value é maior que alpha, normalmente 0.05\n",
    "\n",
    "#pelo histograma, também é possível observar a distribuição dos dados. \n",
    "plt.figure(figsize=(8,8))\n",
    "sns.distplot(tabela2.CR.loc[tabela2.Joga_LoL == False])\n",
    "sns.distplot(tabela2.CR.loc[tabela2.Joga_LoL == True])\n",
    "plt.xlabel('CR')\n",
    "plt.legend(['Não Joga LoL', 'Joga LoL'])\n",
    "plt.show()"
   ]
  },
  {
   "cell_type": "code",
   "execution_count": 225,
   "metadata": {},
   "outputs": [
    {
     "data": {
      "image/png": "[encoded data removed]",
      "text/plain": [
       "<Figure size 576x576 with 1 Axes>"
      ]
     },
     "metadata": {},
     "output_type": "display_data"
    }
   ],
   "source": [
    "# Alunos que não jogam x Alunos que jogam algum tipo de jogo\n",
    "#plt.scatter( tabela.CR, tabela.Joga_Algo)\n",
    "#plt.ylabel('Joga Algo')\n",
    "#plt.xlabel('CR')\n",
    "#plt.show()\n",
    "\n",
    "categad = pd.DataFrame(tabela, columns=['CR', 'Joga_Algo'])\n",
    "plt.figure(figsize=(8,8))\n",
    "sns.boxplot(x='Joga_Algo', y='CR', palette=\"Set1\", data=categad, linewidth=3)\n",
    "plt.title('Joga Algo?')\n",
    "plt.show()"
   ]
  },
  {
   "cell_type": "code",
   "execution_count": 226,
   "metadata": {},
   "outputs": [
    {
     "name": "stdout",
     "output_type": "stream",
     "text": [
      "(0.9517319202423096, 0.45283013582229614)\n",
      "(0.982120931148529, 0.6073822975158691)\n"
     ]
    },
    {
     "data": {
      "image/png": "[encoded data removed]",
      "text/plain": [
       "<Figure size 576x576 with 1 Axes>"
      ]
     },
     "metadata": {},
     "output_type": "display_data"
    }
   ],
   "source": [
    "print(stats.shapiro(categad.CR.loc[categad.Joga_Algo == False]))\n",
    "print(stats.shapiro(categad.CR.loc[categad.Joga_Algo == True]))\n",
    "\n",
    "#a saída do teste é o valor W e o p-value\n",
    "#considera-se que a suposição não é violada quando o p-value é maior que alpha, normalmente 0.05\n",
    "\n",
    "#pelo histograma, também é possível observar a distribuição dos dados. \n",
    "plt.figure(figsize=(8,8))\n",
    "sns.distplot(categad.CR.loc[categad.Joga_Algo == False])\n",
    "sns.distplot(categad.CR.loc[categad.Joga_Algo == True])\n",
    "plt.xlabel('CR')\n",
    "plt.legend(['Não Joga', 'Joga Algo'])\n",
    "plt.show()"
   ]
  },
  {
   "cell_type": "code",
   "execution_count": 227,
   "metadata": {},
   "outputs": [
    {
     "data": {
      "image/png": "[encoded data removed]",
      "text/plain": [
       "<Figure size 576x576 with 1 Axes>"
      ]
     },
     "metadata": {},
     "output_type": "display_data"
    }
   ],
   "source": [
    "# Ano de Ingresso x CR\n",
    "categad = pd.DataFrame(tabela, columns=['CR', 'Ano_Ingresso'])\n",
    "plt.figure(figsize=(8,8))\n",
    "sns.boxplot(x='Ano_Ingresso', y='CR', palette=\"Set1\", data=categad, linewidth=3)\n",
    "plt.title('CR X Ano de Ingresso')\n",
    "plt.show()"
   ]
  },
  {
   "cell_type": "code",
   "execution_count": 228,
   "metadata": {},
   "outputs": [
    {
     "data": {
      "image/png": "[encoded data removed]",
      "text/plain": [
       "<Figure size 576x576 with 1 Axes>"
      ]
     },
     "metadata": {},
     "output_type": "display_data"
    },
    {
     "name": "stdout",
     "output_type": "stream",
     "text": [
      "Média de CR do Prata:  CR    60.25\n",
      "dtype: float64\n",
      "Média de CR do Ouro:  CR    59.722222\n",
      "dtype: float64\n",
      "Média de CR do Platina:  CR    63.066667\n",
      "dtype: float64\n",
      "Média de CR do Diamante:  CR    68.7\n",
      "dtype: float64\n"
     ]
    }
   ],
   "source": [
    "# É necessário mapear os Elos\n",
    "#jogaLol['Elo'] = jogaLol['Elo'].map({'BRONZE': 1, 'SILVER': 2, 'GOLD': 3, 'PLATINUM': 4,'DIAMOND': 5})\n",
    "\n",
    "categad = pd.DataFrame(tabela, columns=['CR', 'Elo'])\n",
    "plt.figure(figsize=(8,8))\n",
    "sns.boxplot(x='Elo', y='CR', palette=\"Set1\", data=categad, linewidth=3, order=['SILVER', 'GOLD', 'PLATINUM', 'DIAMOND'])\n",
    "plt.title('CR X Elo')\n",
    "plt.show()\n",
    "\n",
    "print('Média de CR do Prata: ', categad[categad['Elo']=='SILVER'].mean())\n",
    "print('Média de CR do Ouro: ', categad[categad['Elo']=='GOLD'].mean())\n",
    "print('Média de CR do Platina: ', categad[categad['Elo']=='PLATINUM'].mean())\n",
    "print('Média de CR do Diamante: ', categad[categad['Elo']=='DIAMOND'].mean())"
   ]
  },
  {
   "cell_type": "code",
   "execution_count": 229,
   "metadata": {},
   "outputs": [
    {
     "data": {
      "image/png": "[encoded data removed]",
      "text/plain": [
       "<Figure size 576x576 with 1 Axes>"
      ]
     },
     "metadata": {},
     "output_type": "display_data"
    }
   ],
   "source": [
    "# Porcentagem de Vitorias x CR\n",
    "categad = pd.DataFrame(jogaLol, columns=['CR', 'Porcentagem_Vitorias'])\n",
    "arr = []\n",
    "for pv in categad['Porcentagem_Vitorias']:\n",
    "    if pv%10>=5:\n",
    "        arr.append(pv-(pv%10)+10)\n",
    "    else:\n",
    "        arr.append(pv-pv%10)\n",
    "categad['Porcentagem_Vitorias'] = arr\n",
    "\n",
    "plt.figure(figsize=(8,8))\n",
    "sns.boxplot(x='Porcentagem_Vitorias', y='CR', palette=\"Set1\", data=categad, linewidth=3)\n",
    "plt.title('CR X Porc. Vitórias')\n",
    "plt.show()"
   ]
  },
  {
   "cell_type": "code",
   "execution_count": 236,
   "metadata": {},
   "outputs": [
    {
     "data": {
      "image/png": "[encoded data removed]",
      "text/plain": [
       "<Figure size 576x576 with 1 Axes>"
      ]
     },
     "metadata": {},
     "output_type": "display_data"
    }
   ],
   "source": [
    "# Horas Jogadas x CR\n",
    "categad = pd.DataFrame(jogaLol, columns=['CR', 'Horas_Jogadas'])\n",
    "arr = []\n",
    "for pv in categad['Horas_Jogadas']:\n",
    "    if pv%500>=250:\n",
    "        arr.append(pv-(pv%500)+500)\n",
    "    else:\n",
    "        arr.append(pv-pv%500)\n",
    "categad['Horas_Jogadas'] = arr\n",
    "\n",
    "plt.figure(figsize=(8,8))\n",
    "sns.boxplot(x='Horas_Jogadas', y='CR', palette=\"Set1\", data=categad, linewidth=3)\n",
    "plt.title('CR X Horas Jogadas')\n",
    "plt.show()"
   ]
  },
  {
   "cell_type": "markdown",
   "metadata": {},
   "source": [
    "### Algumas análises aleatórias a partir daqui:"
   ]
  },
  {
   "cell_type": "code",
   "execution_count": 231,
   "metadata": {},
   "outputs": [
    {
     "name": "stdout",
     "output_type": "stream",
     "text": [
      "Média de quem já deveria estar formado:  62.27199999999999\n"
     ]
    }
   ],
   "source": [
    "deveriaFormar = tabela[tabela['Ano_Ingresso']<=2015]\n",
    "print(\"Média de quem já deveria estar formado: \", deveriaFormar['CR'].mean())"
   ]
  },
  {
   "cell_type": "code",
   "execution_count": 271,
   "metadata": {},
   "outputs": [
    {
     "data": {
      "text/plain": [
       "Text(0,0.5,'Campeão')"
      ]
     },
     "execution_count": 271,
     "metadata": {},
     "output_type": "execute_result"
    },
    {
     "data": {
      "image/png": "[encoded data removed]",
      "text/plain": [
       "<Figure size 432x288 with 1 Axes>"
      ]
     },
     "metadata": {},
     "output_type": "display_data"
    }
   ],
   "source": [
    "sns.countplot(y='Campeao_Preferido', data=jogaLol, palette='Set1')\n",
    "plt.title('Campeões Preferidos')\n",
    "plt.xlabel('Número Alunos')\n",
    "plt.ylabel('Campeão')"
   ]
  },
  {
   "cell_type": "code",
   "execution_count": 274,
   "metadata": {},
   "outputs": [
    {
     "data": {
      "text/plain": [
       "Text(0,0.5,'Número Alunos')"
      ]
     },
     "execution_count": 274,
     "metadata": {},
     "output_type": "execute_result"
    },
    {
     "data": {
      "image/png": "[encoded data removed]",
      "text/plain": [
       "<Figure size 432x288 with 1 Axes>"
      ]
     },
     "metadata": {},
     "output_type": "display_data"
    }
   ],
   "source": [
    "comRank = jogaLol.loc[jogaLol.Elo.notnull()]\n",
    "sns.countplot(x='Elo', data=comRank, palette='Set1', order=['SILVER', 'GOLD', 'PLATINUM', 'DIAMOND'])\n",
    "plt.title('Elo')\n",
    "plt.ylabel('Número Alunos')"
   ]
  },
  {
   "cell_type": "code",
   "execution_count": 279,
   "metadata": {},
   "outputs": [
    {
     "data": {
      "image/png": "[encoded data removed]",
      "text/plain": [
       "<Figure size 576x576 with 1 Axes>"
      ]
     },
     "metadata": {},
     "output_type": "display_data"
    }
   ],
   "source": [
    "categad = pd.DataFrame(comRank, columns=['CR', 'Num_Partidas'])\n",
    "plt.figure(figsize=(8,8))\n",
    "arr = []\n",
    "for pv in categad['Num_Partidas']:\n",
    "    if pv%500>=250:\n",
    "        arr.append(pv-(pv%500)+500)\n",
    "    else:\n",
    "        arr.append(pv-pv%500)\n",
    "categad['Num_Partidas'] = arr\n",
    "\n",
    "sns.boxplot(x='Num_Partidas', y='CR', palette=\"Set1\", data=categad, linewidth=3)\n",
    "plt.title('CR X Num Partidas')\n",
    "plt.show()"
   ]
  },
  {
   "cell_type": "code",
   "execution_count": 289,
   "metadata": {},
   "outputs": [
    {
     "data": {
      "image/png": "[encoded data removed]",
      "text/plain": [
       "<Figure size 432x288 with 1 Axes>"
      ]
     },
     "metadata": {},
     "output_type": "display_data"
    }
   ],
   "source": [
    "categad = pd.DataFrame(comRank, columns=['Porcentagem_Vitorias', 'Vitorias'])\n",
    "arr = []\n",
    "for pv in categad['Vitorias']:\n",
    "    if pv%50>=25:\n",
    "        arr.append(pv-(pv%50)+50)\n",
    "    else:\n",
    "        arr.append(pv-pv%50)\n",
    "categad['Vitorias'] = arr\n",
    "sns.boxplot(x='Vitorias', y='Porcentagem_Vitorias', palette=\"Set1\", data=categad, linewidth=3)\n",
    "plt.title('Num Vitórias X Porc Vitórias')\n",
    "plt.show()"
   ]
  },
  {
   "cell_type": "code",
   "execution_count": 293,
   "metadata": {},
   "outputs": [
    {
     "data": {
      "image/png": "[encoded data removed]",
      "text/plain": [
       "<Figure size 432x288 with 1 Axes>"
      ]
     },
     "metadata": {},
     "output_type": "display_data"
    }
   ],
   "source": [
    "categad = pd.DataFrame(comRank, columns=['Elo', 'Vitorias'])\n",
    "sns.boxplot(x='Elo', y='Vitorias', palette=\"Set1\", data=categad, linewidth=3, order=['SILVER', 'GOLD', 'PLATINUM'])\n",
    "plt.title('Elo X Vitórias')\n",
    "plt.show()"
   ]
  },
  {
   "cell_type": "code",
   "execution_count": 299,
   "metadata": {},
   "outputs": [
    {
     "data": {
      "image/png": "[encoded data removed]",
      "text/plain": [
       "<Figure size 432x288 with 1 Axes>"
      ]
     },
     "metadata": {},
     "output_type": "display_data"
    },
    {
     "data": {
      "image/png": "[encoded data removed]",
      "text/plain": [
       "<Figure size 576x576 with 1 Axes>"
      ]
     },
     "metadata": {},
     "output_type": "display_data"
    }
   ],
   "source": [
    "maisMaestria = jogaLol[jogaLol['Maestria']>200000]\n",
    "plt.scatter( maisMaestria.Campeao_Preferido, maisMaestria.Maestria)\n",
    "plt.xlabel('Campeão')\n",
    "plt.ylabel('Maestria')\n",
    "plt.show()\n",
    "mostrar = maisMaestria[['Campeao_Preferido', 'Maestria']]\n",
    "mostrar.sort_values(by='Maestria', ascending=False).head(3)\n",
    "\n",
    "categad = pd.DataFrame(maisMaestria, columns=['Campeao_Preferido', 'Maestria'])\n",
    "plt.figure(figsize=(8,8))\n",
    "sns.barplot(x='Campeao_Preferido', y='Maestria', palette=\"Set1\", data=categad, linewidth=3)\n",
    "plt.title('CR X Num Partidas')\n",
    "plt.show()"
   ]
  },
  {
   "cell_type": "code",
   "execution_count": 297,
   "metadata": {},
   "outputs": [
    {
     "data": {
      "image/png": "[encoded data removed]",
      "text/plain": [
       "<Figure size 432x288 with 1 Axes>"
      ]
     },
     "metadata": {},
     "output_type": "display_data"
    },
    {
     "data": {
      "text/plain": [
       "15    100.00\n",
       "16     71.05\n",
       "40     70.00\n",
       "Name: Porcentagem_Vitorias, dtype: float64"
      ]
     },
     "execution_count": 297,
     "metadata": {},
     "output_type": "execute_result"
    }
   ],
   "source": [
    "maisWinrate = jogaLol[jogaLol['Porcentagem_Vitorias']>60]\n",
    "plt.scatter( maisWinrate.Vitorias+maisWinrate.Derrotas, maisWinrate.Porcentagem_Vitorias)\n",
    "plt.xlabel('Partidas Ranqueadas')\n",
    "plt.ylabel('Porc Vitórias')\n",
    "plt.show()\n",
    "maisWinrate.Porcentagem_Vitorias.sort_values(ascending=False).head(3)"
   ]
  },
  {
   "cell_type": "code",
   "execution_count": 75,
   "metadata": {},
   "outputs": [
    {
     "data": {
      "text/plain": [
       "Campeao_Preferido\n",
       "Thresh    401403.0\n",
       "Lux       339993.0\n",
       "Zed       218438.0\n",
       "Name: Maestria, dtype: float64"
      ]
     },
     "execution_count": 75,
     "metadata": {},
     "output_type": "execute_result"
    }
   ],
   "source": [
    "maestriaCampeoes = jogaLol.groupby('Campeao_Preferido')['Maestria'].sum()\n",
    "maestriaCampeoes.sort_values(ascending=False).head(3)"
   ]
  },
  {
   "cell_type": "code",
   "execution_count": 92,
   "metadata": {},
   "outputs": [
    {
     "name": "stdout",
     "output_type": "stream",
     "text": [
      "Nível Médio:  99.36363636363636 \n",
      "Nível Max:  164.0\n",
      "Num Partidas Médio:  2656.9545454545455 \n",
      "Num Partidas Max:  4778.0\n",
      "Horas Média:  1549.4545454545455 \n",
      "Horas Max:  2787.0\n",
      "Maestria Média:  131971.0 \n",
      "Maestria Max:  221069.0\n",
      "Winrate Médio:  52.59428571428572 \n",
      "Winrate Max:  100.0\n"
     ]
    }
   ],
   "source": [
    "print(\"Nível Médio: \", jogaLol['Nivel'].mean(), \"\\nNível Max: \", jogaLol['Nivel'].max())\n",
    "print(\"Num Partidas Médio: \", jogaLol['Num_Partidas'].mean(), \"\\nNum Partidas Max: \", jogaLol['Num_Partidas'].max())\n",
    "print(\"Horas Média: \", jogaLol['Horas_Jogadas'].mean(), \"\\nHoras Max: \", jogaLol['Horas_Jogadas'].max())\n",
    "print(\"Maestria Média: \", jogaLol['Maestria'].mean(), \"\\nMaestria Max: \", jogaLol['Maestria'].max())\n",
    "print(\"Winrate Médio: \", jogaLol['Porcentagem_Vitorias'].mean(), \"\\nWinrate Max: \", jogaLol['Porcentagem_Vitorias'].max())"
   ]
  },
  {
   "cell_type": "code",
   "execution_count": null,
   "metadata": {},
   "outputs": [],
   "source": []
  }
 ],
 "metadata": {
  "kernelspec": {
   "display_name": "Python 3",
   "language": "python",
   "name": "python3"
  },
  "language_info": {
   "codemirror_mode": {
    "name": "ipython",
    "version": 3
   },
   "file_extension": ".py",
   "mimetype": "text/x-python",
   "name": "python",
   "nbconvert_exporter": "python",
   "pygments_lexer": "ipython3",
   "version": "3.6.5"
  }
 },
 "nbformat": 4,
 "nbformat_minor": 2
}
