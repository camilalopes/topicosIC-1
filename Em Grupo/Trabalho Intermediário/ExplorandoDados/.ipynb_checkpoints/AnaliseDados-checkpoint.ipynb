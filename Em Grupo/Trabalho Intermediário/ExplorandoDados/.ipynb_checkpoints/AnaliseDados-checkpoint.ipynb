{
 "cells": [
  {
   "cell_type": "code",
   "execution_count": 98,
   "metadata": {},
   "outputs": [
    {
     "data": {
      "text/plain": [
       "(76, 16)"
      ]
     },
     "execution_count": 98,
     "metadata": {},
     "output_type": "execute_result"
    }
   ],
   "source": [
    "import pandas as pd\n",
    "import matplotlib.pyplot as plt\n",
    "import scipy.stats as stats\n",
    "\n",
    "dados = pd.read_csv('../dadosExtraidos.csv')\n",
    "dados.shape"
   ]
  },
  {
   "cell_type": "code",
   "execution_count": 99,
   "metadata": {},
   "outputs": [
    {
     "data": {
      "text/plain": [
       "Index(['Ano_Ingresso', 'Joga_Algo', 'Joga_LoL', 'Nick', 'CR', 'Nivel',\n",
       "       'Num_Partidas', 'Horas_Jogadas', 'Campeao_Preferido', 'Maestria', 'Elo',\n",
       "       'Divisao', 'Vitorias'],\n",
       "      dtype='object')"
      ]
     },
     "execution_count": 99,
     "metadata": {},
     "output_type": "execute_result"
    }
   ],
   "source": [
    "dados.columns[1:14]"
   ]
  },
  {
   "cell_type": "code",
   "execution_count": 100,
   "metadata": {},
   "outputs": [
    {
     "data": {
      "text/html": [
       "<div>\n",
       "<style scoped>\n",
       "    .dataframe tbody tr th:only-of-type {\n",
       "        vertical-align: middle;\n",
       "    }\n",
       "\n",
       "    .dataframe tbody tr th {\n",
       "        vertical-align: top;\n",
       "    }\n",
       "\n",
       "    .dataframe thead th {\n",
       "        text-align: right;\n",
       "    }\n",
       "</style>\n",
       "<table border=\"1\" class=\"dataframe\">\n",
       "  <thead>\n",
       "    <tr style=\"text-align: right;\">\n",
       "      <th></th>\n",
       "      <th>Ano_Ingresso</th>\n",
       "      <th>CR</th>\n",
       "      <th>Joga_Algo</th>\n",
       "      <th>Joga_LoL</th>\n",
       "      <th>Nivel</th>\n",
       "      <th>Num_Partidas</th>\n",
       "      <th>Horas_Jogadas</th>\n",
       "      <th>Campeao_Preferido</th>\n",
       "      <th>Maestria</th>\n",
       "      <th>Elo</th>\n",
       "      <th>Divisao</th>\n",
       "      <th>Vitorias</th>\n",
       "      <th>Derrotas</th>\n",
       "      <th>Porcentagem_Vitorias</th>\n",
       "    </tr>\n",
       "  </thead>\n",
       "  <tbody>\n",
       "    <tr>\n",
       "      <th>0</th>\n",
       "      <td>2015</td>\n",
       "      <td>60.6</td>\n",
       "      <td>True</td>\n",
       "      <td>False</td>\n",
       "      <td>NaN</td>\n",
       "      <td>NaN</td>\n",
       "      <td>NaN</td>\n",
       "      <td>NaN</td>\n",
       "      <td>NaN</td>\n",
       "      <td>NaN</td>\n",
       "      <td>NaN</td>\n",
       "      <td>NaN</td>\n",
       "      <td>NaN</td>\n",
       "      <td>NaN</td>\n",
       "    </tr>\n",
       "    <tr>\n",
       "      <th>1</th>\n",
       "      <td>2015</td>\n",
       "      <td>53.0</td>\n",
       "      <td>True</td>\n",
       "      <td>False</td>\n",
       "      <td>NaN</td>\n",
       "      <td>NaN</td>\n",
       "      <td>NaN</td>\n",
       "      <td>NaN</td>\n",
       "      <td>NaN</td>\n",
       "      <td>NaN</td>\n",
       "      <td>NaN</td>\n",
       "      <td>NaN</td>\n",
       "      <td>NaN</td>\n",
       "      <td>NaN</td>\n",
       "    </tr>\n",
       "    <tr>\n",
       "      <th>2</th>\n",
       "      <td>2017</td>\n",
       "      <td>43.8</td>\n",
       "      <td>True</td>\n",
       "      <td>False</td>\n",
       "      <td>NaN</td>\n",
       "      <td>NaN</td>\n",
       "      <td>NaN</td>\n",
       "      <td>NaN</td>\n",
       "      <td>NaN</td>\n",
       "      <td>NaN</td>\n",
       "      <td>NaN</td>\n",
       "      <td>NaN</td>\n",
       "      <td>NaN</td>\n",
       "      <td>NaN</td>\n",
       "    </tr>\n",
       "    <tr>\n",
       "      <th>3</th>\n",
       "      <td>2014</td>\n",
       "      <td>42.0</td>\n",
       "      <td>True</td>\n",
       "      <td>False</td>\n",
       "      <td>NaN</td>\n",
       "      <td>NaN</td>\n",
       "      <td>NaN</td>\n",
       "      <td>NaN</td>\n",
       "      <td>NaN</td>\n",
       "      <td>NaN</td>\n",
       "      <td>NaN</td>\n",
       "      <td>NaN</td>\n",
       "      <td>NaN</td>\n",
       "      <td>NaN</td>\n",
       "    </tr>\n",
       "    <tr>\n",
       "      <th>4</th>\n",
       "      <td>2014</td>\n",
       "      <td>68.4</td>\n",
       "      <td>True</td>\n",
       "      <td>False</td>\n",
       "      <td>NaN</td>\n",
       "      <td>NaN</td>\n",
       "      <td>NaN</td>\n",
       "      <td>NaN</td>\n",
       "      <td>NaN</td>\n",
       "      <td>NaN</td>\n",
       "      <td>NaN</td>\n",
       "      <td>NaN</td>\n",
       "      <td>NaN</td>\n",
       "      <td>NaN</td>\n",
       "    </tr>\n",
       "  </tbody>\n",
       "</table>\n",
       "</div>"
      ],
      "text/plain": [
       "   Ano_Ingresso    CR  Joga_Algo  Joga_LoL  Nivel  Num_Partidas  \\\n",
       "0          2015  60.6       True     False    NaN           NaN   \n",
       "1          2015  53.0       True     False    NaN           NaN   \n",
       "2          2017  43.8       True     False    NaN           NaN   \n",
       "3          2014  42.0       True     False    NaN           NaN   \n",
       "4          2014  68.4       True     False    NaN           NaN   \n",
       "\n",
       "   Horas_Jogadas Campeao_Preferido  Maestria  Elo Divisao  Vitorias  Derrotas  \\\n",
       "0            NaN               NaN       NaN  NaN     NaN       NaN       NaN   \n",
       "1            NaN               NaN       NaN  NaN     NaN       NaN       NaN   \n",
       "2            NaN               NaN       NaN  NaN     NaN       NaN       NaN   \n",
       "3            NaN               NaN       NaN  NaN     NaN       NaN       NaN   \n",
       "4            NaN               NaN       NaN  NaN     NaN       NaN       NaN   \n",
       "\n",
       "   Porcentagem_Vitorias  \n",
       "0                   NaN  \n",
       "1                   NaN  \n",
       "2                   NaN  \n",
       "3                   NaN  \n",
       "4                   NaN  "
      ]
     },
     "execution_count": 100,
     "metadata": {},
     "output_type": "execute_result"
    }
   ],
   "source": [
    "tabela = pd.DataFrame(dados, columns = ['Ano_Ingresso', 'CR', 'Joga_Algo', 'Joga_LoL', 'Nivel', 'Num_Partidas', \n",
    "                                            'Horas_Jogadas', 'Campeao_Preferido', 'Maestria', 'Elo', 'Divisao', \n",
    "                                            'Vitorias', 'Derrotas', 'Porcentagem_Vitorias'])\n",
    "tabela.head()"
   ]
  },
  {
   "cell_type": "code",
   "execution_count": 117,
   "metadata": {},
   "outputs": [],
   "source": [
    "#retira os nulos (não tem CR)\n",
    "tabela=tabela.loc[(tabela['CR'].notnull())]"
   ]
  },
  {
   "cell_type": "code",
   "execution_count": 102,
   "metadata": {},
   "outputs": [
    {
     "name": "stdout",
     "output_type": "stream",
     "text": [
      "Média geral de CR:  59.190972222222236\n",
      "Jogadores de LoL:  59.06086956521739\n",
      "Não jogam LoL:  59.25204081632652\n",
      "Jogam algo:  57.76944444444447\n",
      "Não jogam nada:  63.455555555555556\n"
     ]
    }
   ],
   "source": [
    "#media dos CRs geral\n",
    "print('Média geral de CR: ', tabela['CR'].mean())\n",
    "\n",
    "#pessoas que jogam LoL\n",
    "jogaLol = tabela[tabela['Joga_LoL']==True]\n",
    "#media dos CRs de quem joga LoL\n",
    "print(\"Jogadores de LoL: \", jogaLol['CR'].mean())\n",
    "\n",
    "#pessoas que NÃO jogam LoL\n",
    "naoJogaLol = tabela[tabela['Joga_LoL']==False]\n",
    "#media dos CRs de quem NÃO joga LoL\n",
    "print(\"Não jogam LoL: \", naoJogaLol['CR'].mean())\n",
    "\n",
    "#pessoas que jogam \n",
    "joga = tabela[tabela['Joga_Algo']==True]\n",
    "#media dos CRs de quem joga\n",
    "print(\"Jogam algo: \", joga['CR'].mean())\n",
    "\n",
    "#pessoas que não jogam nada \n",
    "nJoga = tabela[tabela['Joga_Algo']==False]\n",
    "#media dos CRs de quem joga\n",
    "print(\"Não jogam nada: \", nJoga['CR'].mean())"
   ]
  },
  {
   "cell_type": "code",
   "execution_count": 103,
   "metadata": {},
   "outputs": [
    {
     "name": "stdout",
     "output_type": "stream",
     "text": [
      "-------\n",
      "CR Geral:\n",
      " count    72.000000\n",
      "mean     59.190972\n",
      "std      14.024705\n",
      "min      25.500000\n",
      "25%      51.175000\n",
      "50%      58.350000\n",
      "75%      69.550000\n",
      "max      86.400000\n",
      "Name: CR, dtype: float64\n",
      "-------\n",
      "Joga LoL:\n",
      " count    23.000000\n",
      "mean     59.060870\n",
      "std      15.348786\n",
      "min      25.600000\n",
      "25%      49.750000\n",
      "50%      57.900000\n",
      "75%      69.100000\n",
      "max      86.400000\n",
      "Name: CR, dtype: float64\n",
      "-------\n",
      "Não Joga Lol:\n",
      " count    49.000000\n",
      "mean     59.252041\n",
      "std      13.525986\n",
      "min      25.500000\n",
      "25%      51.500000\n",
      "50%      60.600000\n",
      "75%      69.700000\n",
      "max      85.000000\n",
      "Name: CR, dtype: float64\n",
      "-------\n",
      "Joga Algo:\n",
      " count    54.000000\n",
      "mean     57.769444\n",
      "std      14.351446\n",
      "min      25.500000\n",
      "25%      47.125000\n",
      "50%      57.100000\n",
      "75%      68.800000\n",
      "max      86.400000\n",
      "Name: CR, dtype: float64\n",
      "-------\n",
      "Não Joga Nada:\n",
      " count    18.000000\n",
      "mean     63.455556\n",
      "std      12.396832\n",
      "min      33.300000\n",
      "25%      56.100000\n",
      "50%      62.600000\n",
      "75%      70.800000\n",
      "max      85.000000\n",
      "Name: CR, dtype: float64\n"
     ]
    }
   ],
   "source": [
    "print('-------\\nCR Geral:\\n', tabela['CR'].describe())\n",
    "print('-------\\nJoga LoL:\\n', jogaLol['CR'].describe())\n",
    "print('-------\\nNão Joga Lol:\\n', naoJogaLol['CR'].describe())\n",
    "print('-------\\nJoga Algo:\\n', joga['CR'].describe())\n",
    "print('-------\\nNão Joga Nada:\\n', nJoga['CR'].describe())"
   ]
  },
  {
   "cell_type": "code",
   "execution_count": 104,
   "metadata": {},
   "outputs": [
    {
     "data": {
      "text/html": [
       "<div>\n",
       "<style scoped>\n",
       "    .dataframe tbody tr th:only-of-type {\n",
       "        vertical-align: middle;\n",
       "    }\n",
       "\n",
       "    .dataframe tbody tr th {\n",
       "        vertical-align: top;\n",
       "    }\n",
       "\n",
       "    .dataframe thead th {\n",
       "        text-align: right;\n",
       "    }\n",
       "</style>\n",
       "<table border=\"1\" class=\"dataframe\">\n",
       "  <thead>\n",
       "    <tr style=\"text-align: right;\">\n",
       "      <th></th>\n",
       "      <th>Nivel</th>\n",
       "      <th>Num_Partidas</th>\n",
       "      <th>Horas_Jogadas</th>\n",
       "      <th>Campeao_Preferido</th>\n",
       "      <th>Maestria</th>\n",
       "      <th>Elo</th>\n",
       "      <th>Divisao</th>\n",
       "      <th>Vitorias</th>\n",
       "      <th>Derrotas</th>\n",
       "      <th>Porcentagem_Vitorias</th>\n",
       "    </tr>\n",
       "  </thead>\n",
       "  <tbody>\n",
       "    <tr>\n",
       "      <th>9</th>\n",
       "      <td>89.0</td>\n",
       "      <td>3761.0</td>\n",
       "      <td>2193.0</td>\n",
       "      <td>Yasuo</td>\n",
       "      <td>124061.0</td>\n",
       "      <td>GOLD</td>\n",
       "      <td>I</td>\n",
       "      <td>11.0</td>\n",
       "      <td>22.0</td>\n",
       "      <td>33.33</td>\n",
       "    </tr>\n",
       "    <tr>\n",
       "      <th>10</th>\n",
       "      <td>164.0</td>\n",
       "      <td>4777.0</td>\n",
       "      <td>2786.0</td>\n",
       "      <td>Braum</td>\n",
       "      <td>136457.0</td>\n",
       "      <td>PLATINUM</td>\n",
       "      <td>III</td>\n",
       "      <td>142.0</td>\n",
       "      <td>122.0</td>\n",
       "      <td>53.79</td>\n",
       "    </tr>\n",
       "    <tr>\n",
       "      <th>11</th>\n",
       "      <td>86.0</td>\n",
       "      <td>1729.0</td>\n",
       "      <td>1008.0</td>\n",
       "      <td>Miss Fortune</td>\n",
       "      <td>24000.0</td>\n",
       "      <td>NaN</td>\n",
       "      <td>NaN</td>\n",
       "      <td>NaN</td>\n",
       "      <td>NaN</td>\n",
       "      <td>NaN</td>\n",
       "    </tr>\n",
       "    <tr>\n",
       "      <th>12</th>\n",
       "      <td>114.0</td>\n",
       "      <td>3704.0</td>\n",
       "      <td>2160.0</td>\n",
       "      <td>Janna</td>\n",
       "      <td>142484.0</td>\n",
       "      <td>GOLD</td>\n",
       "      <td>IV</td>\n",
       "      <td>36.0</td>\n",
       "      <td>32.0</td>\n",
       "      <td>52.94</td>\n",
       "    </tr>\n",
       "    <tr>\n",
       "      <th>13</th>\n",
       "      <td>113.0</td>\n",
       "      <td>3165.0</td>\n",
       "      <td>1846.0</td>\n",
       "      <td>Tahm Kench</td>\n",
       "      <td>206102.0</td>\n",
       "      <td>SILVER</td>\n",
       "      <td>II</td>\n",
       "      <td>76.0</td>\n",
       "      <td>85.0</td>\n",
       "      <td>47.20</td>\n",
       "    </tr>\n",
       "    <tr>\n",
       "      <th>14</th>\n",
       "      <td>137.0</td>\n",
       "      <td>3326.0</td>\n",
       "      <td>1940.0</td>\n",
       "      <td>Zed</td>\n",
       "      <td>218438.0</td>\n",
       "      <td>PLATINUM</td>\n",
       "      <td>V</td>\n",
       "      <td>166.0</td>\n",
       "      <td>155.0</td>\n",
       "      <td>51.71</td>\n",
       "    </tr>\n",
       "    <tr>\n",
       "      <th>15</th>\n",
       "      <td>104.0</td>\n",
       "      <td>2821.0</td>\n",
       "      <td>1645.0</td>\n",
       "      <td>Rek'Sai</td>\n",
       "      <td>134568.0</td>\n",
       "      <td>PLATINUM</td>\n",
       "      <td>IV</td>\n",
       "      <td>10.0</td>\n",
       "      <td>0.0</td>\n",
       "      <td>100.00</td>\n",
       "    </tr>\n",
       "    <tr>\n",
       "      <th>16</th>\n",
       "      <td>121.0</td>\n",
       "      <td>4088.0</td>\n",
       "      <td>2384.0</td>\n",
       "      <td>Poppy</td>\n",
       "      <td>200136.0</td>\n",
       "      <td>DIAMOND</td>\n",
       "      <td>V</td>\n",
       "      <td>27.0</td>\n",
       "      <td>11.0</td>\n",
       "      <td>71.05</td>\n",
       "    </tr>\n",
       "    <tr>\n",
       "      <th>17</th>\n",
       "      <td>80.0</td>\n",
       "      <td>1584.0</td>\n",
       "      <td>924.0</td>\n",
       "      <td>Miss Fortune</td>\n",
       "      <td>122222.0</td>\n",
       "      <td>GOLD</td>\n",
       "      <td>IV</td>\n",
       "      <td>87.0</td>\n",
       "      <td>74.0</td>\n",
       "      <td>54.04</td>\n",
       "    </tr>\n",
       "    <tr>\n",
       "      <th>18</th>\n",
       "      <td>107.0</td>\n",
       "      <td>1603.0</td>\n",
       "      <td>935.0</td>\n",
       "      <td>Jax</td>\n",
       "      <td>63944.0</td>\n",
       "      <td>SILVER</td>\n",
       "      <td>III</td>\n",
       "      <td>11.0</td>\n",
       "      <td>13.0</td>\n",
       "      <td>45.83</td>\n",
       "    </tr>\n",
       "    <tr>\n",
       "      <th>19</th>\n",
       "      <td>113.0</td>\n",
       "      <td>1328.0</td>\n",
       "      <td>774.0</td>\n",
       "      <td>Zoe</td>\n",
       "      <td>109381.0</td>\n",
       "      <td>SILVER</td>\n",
       "      <td>IV</td>\n",
       "      <td>32.0</td>\n",
       "      <td>42.0</td>\n",
       "      <td>43.24</td>\n",
       "    </tr>\n",
       "    <tr>\n",
       "      <th>36</th>\n",
       "      <td>79.0</td>\n",
       "      <td>1150.0</td>\n",
       "      <td>670.0</td>\n",
       "      <td>Alistar</td>\n",
       "      <td>90727.0</td>\n",
       "      <td>GOLD</td>\n",
       "      <td>V</td>\n",
       "      <td>76.0</td>\n",
       "      <td>67.0</td>\n",
       "      <td>53.15</td>\n",
       "    </tr>\n",
       "    <tr>\n",
       "      <th>37</th>\n",
       "      <td>74.0</td>\n",
       "      <td>2263.0</td>\n",
       "      <td>1320.0</td>\n",
       "      <td>Lee Sin</td>\n",
       "      <td>174866.0</td>\n",
       "      <td>GOLD</td>\n",
       "      <td>I</td>\n",
       "      <td>54.0</td>\n",
       "      <td>54.0</td>\n",
       "      <td>50.00</td>\n",
       "    </tr>\n",
       "    <tr>\n",
       "      <th>38</th>\n",
       "      <td>82.0</td>\n",
       "      <td>1726.0</td>\n",
       "      <td>1006.0</td>\n",
       "      <td>Lulu</td>\n",
       "      <td>86998.0</td>\n",
       "      <td>GOLD</td>\n",
       "      <td>IV</td>\n",
       "      <td>36.0</td>\n",
       "      <td>45.0</td>\n",
       "      <td>44.44</td>\n",
       "    </tr>\n",
       "    <tr>\n",
       "      <th>39</th>\n",
       "      <td>141.0</td>\n",
       "      <td>4321.0</td>\n",
       "      <td>2520.0</td>\n",
       "      <td>Lux</td>\n",
       "      <td>221069.0</td>\n",
       "      <td>PLATINUM</td>\n",
       "      <td>V</td>\n",
       "      <td>48.0</td>\n",
       "      <td>35.0</td>\n",
       "      <td>57.83</td>\n",
       "    </tr>\n",
       "    <tr>\n",
       "      <th>40</th>\n",
       "      <td>38.0</td>\n",
       "      <td>3199.0</td>\n",
       "      <td>1866.0</td>\n",
       "      <td>Thresh</td>\n",
       "      <td>184854.0</td>\n",
       "      <td>GOLD</td>\n",
       "      <td>III</td>\n",
       "      <td>7.0</td>\n",
       "      <td>3.0</td>\n",
       "      <td>70.00</td>\n",
       "    </tr>\n",
       "    <tr>\n",
       "      <th>47</th>\n",
       "      <td>46.0</td>\n",
       "      <td>404.0</td>\n",
       "      <td>235.0</td>\n",
       "      <td>Tryndamere</td>\n",
       "      <td>16936.0</td>\n",
       "      <td>SILVER</td>\n",
       "      <td>IV</td>\n",
       "      <td>20.0</td>\n",
       "      <td>30.0</td>\n",
       "      <td>40.00</td>\n",
       "    </tr>\n",
       "    <tr>\n",
       "      <th>48</th>\n",
       "      <td>122.0</td>\n",
       "      <td>3109.0</td>\n",
       "      <td>1813.0</td>\n",
       "      <td>Ryze</td>\n",
       "      <td>100737.0</td>\n",
       "      <td>GOLD</td>\n",
       "      <td>V</td>\n",
       "      <td>191.0</td>\n",
       "      <td>180.0</td>\n",
       "      <td>51.48</td>\n",
       "    </tr>\n",
       "    <tr>\n",
       "      <th>49</th>\n",
       "      <td>87.0</td>\n",
       "      <td>1060.0</td>\n",
       "      <td>618.0</td>\n",
       "      <td>Lux</td>\n",
       "      <td>118924.0</td>\n",
       "      <td>SILVER</td>\n",
       "      <td>I</td>\n",
       "      <td>121.0</td>\n",
       "      <td>132.0</td>\n",
       "      <td>47.83</td>\n",
       "    </tr>\n",
       "    <tr>\n",
       "      <th>50</th>\n",
       "      <td>102.0</td>\n",
       "      <td>2653.0</td>\n",
       "      <td>1547.0</td>\n",
       "      <td>Yasuo</td>\n",
       "      <td>86505.0</td>\n",
       "      <td>PLATINUM</td>\n",
       "      <td>V</td>\n",
       "      <td>131.0</td>\n",
       "      <td>133.0</td>\n",
       "      <td>49.62</td>\n",
       "    </tr>\n",
       "    <tr>\n",
       "      <th>51</th>\n",
       "      <td>NaN</td>\n",
       "      <td>NaN</td>\n",
       "      <td>NaN</td>\n",
       "      <td>NaN</td>\n",
       "      <td>NaN</td>\n",
       "      <td>NaN</td>\n",
       "      <td>NaN</td>\n",
       "      <td>NaN</td>\n",
       "      <td>NaN</td>\n",
       "      <td>NaN</td>\n",
       "    </tr>\n",
       "    <tr>\n",
       "      <th>52</th>\n",
       "      <td>NaN</td>\n",
       "      <td>NaN</td>\n",
       "      <td>NaN</td>\n",
       "      <td>NaN</td>\n",
       "      <td>NaN</td>\n",
       "      <td>NaN</td>\n",
       "      <td>NaN</td>\n",
       "      <td>NaN</td>\n",
       "      <td>NaN</td>\n",
       "      <td>NaN</td>\n",
       "    </tr>\n",
       "    <tr>\n",
       "      <th>53</th>\n",
       "      <td>109.0</td>\n",
       "      <td>4250.0</td>\n",
       "      <td>2479.0</td>\n",
       "      <td>Thresh</td>\n",
       "      <td>216549.0</td>\n",
       "      <td>PLATINUM</td>\n",
       "      <td>V</td>\n",
       "      <td>79.0</td>\n",
       "      <td>77.0</td>\n",
       "      <td>50.64</td>\n",
       "    </tr>\n",
       "  </tbody>\n",
       "</table>\n",
       "</div>"
      ],
      "text/plain": [
       "    Nivel  Num_Partidas  Horas_Jogadas Campeao_Preferido  Maestria       Elo  \\\n",
       "9    89.0        3761.0         2193.0             Yasuo  124061.0      GOLD   \n",
       "10  164.0        4777.0         2786.0             Braum  136457.0  PLATINUM   \n",
       "11   86.0        1729.0         1008.0      Miss Fortune   24000.0       NaN   \n",
       "12  114.0        3704.0         2160.0             Janna  142484.0      GOLD   \n",
       "13  113.0        3165.0         1846.0        Tahm Kench  206102.0    SILVER   \n",
       "14  137.0        3326.0         1940.0               Zed  218438.0  PLATINUM   \n",
       "15  104.0        2821.0         1645.0           Rek'Sai  134568.0  PLATINUM   \n",
       "16  121.0        4088.0         2384.0             Poppy  200136.0   DIAMOND   \n",
       "17   80.0        1584.0          924.0      Miss Fortune  122222.0      GOLD   \n",
       "18  107.0        1603.0          935.0               Jax   63944.0    SILVER   \n",
       "19  113.0        1328.0          774.0               Zoe  109381.0    SILVER   \n",
       "36   79.0        1150.0          670.0           Alistar   90727.0      GOLD   \n",
       "37   74.0        2263.0         1320.0           Lee Sin  174866.0      GOLD   \n",
       "38   82.0        1726.0         1006.0              Lulu   86998.0      GOLD   \n",
       "39  141.0        4321.0         2520.0               Lux  221069.0  PLATINUM   \n",
       "40   38.0        3199.0         1866.0            Thresh  184854.0      GOLD   \n",
       "47   46.0         404.0          235.0        Tryndamere   16936.0    SILVER   \n",
       "48  122.0        3109.0         1813.0              Ryze  100737.0      GOLD   \n",
       "49   87.0        1060.0          618.0               Lux  118924.0    SILVER   \n",
       "50  102.0        2653.0         1547.0             Yasuo   86505.0  PLATINUM   \n",
       "51    NaN           NaN            NaN               NaN       NaN       NaN   \n",
       "52    NaN           NaN            NaN               NaN       NaN       NaN   \n",
       "53  109.0        4250.0         2479.0            Thresh  216549.0  PLATINUM   \n",
       "\n",
       "   Divisao  Vitorias  Derrotas  Porcentagem_Vitorias  \n",
       "9        I      11.0      22.0                 33.33  \n",
       "10     III     142.0     122.0                 53.79  \n",
       "11     NaN       NaN       NaN                   NaN  \n",
       "12      IV      36.0      32.0                 52.94  \n",
       "13      II      76.0      85.0                 47.20  \n",
       "14       V     166.0     155.0                 51.71  \n",
       "15      IV      10.0       0.0                100.00  \n",
       "16       V      27.0      11.0                 71.05  \n",
       "17      IV      87.0      74.0                 54.04  \n",
       "18     III      11.0      13.0                 45.83  \n",
       "19      IV      32.0      42.0                 43.24  \n",
       "36       V      76.0      67.0                 53.15  \n",
       "37       I      54.0      54.0                 50.00  \n",
       "38      IV      36.0      45.0                 44.44  \n",
       "39       V      48.0      35.0                 57.83  \n",
       "40     III       7.0       3.0                 70.00  \n",
       "47      IV      20.0      30.0                 40.00  \n",
       "48       V     191.0     180.0                 51.48  \n",
       "49       I     121.0     132.0                 47.83  \n",
       "50       V     131.0     133.0                 49.62  \n",
       "51     NaN       NaN       NaN                   NaN  \n",
       "52     NaN       NaN       NaN                   NaN  \n",
       "53       V      79.0      77.0                 50.64  "
      ]
     },
     "execution_count": 104,
     "metadata": {},
     "output_type": "execute_result"
    }
   ],
   "source": [
    "jogaLol[['Nivel', 'Num_Partidas', 'Horas_Jogadas', 'Campeao_Preferido', 'Maestria', 'Elo', 'Divisao', 'Vitorias', 'Derrotas', 'Porcentagem_Vitorias']]"
   ]
  },
  {
   "cell_type": "code",
   "execution_count": 105,
   "metadata": {},
   "outputs": [
    {
     "data": {
      "image/png": "[encoded data removed]",
      "text/plain": [
       "<Figure size 432x288 with 1 Axes>"
      ]
     },
     "metadata": {},
     "output_type": "display_data"
    },
    {
     "data": {
      "text/plain": [
       "<matplotlib.axes._subplots.AxesSubplot at 0x1547a111f28>"
      ]
     },
     "execution_count": 105,
     "metadata": {},
     "output_type": "execute_result"
    },
    {
     "data": {
      "image/png": "[encoded data removed]",
      "text/plain": [
       "<Figure size 432x288 with 1 Axes>"
      ]
     },
     "metadata": {},
     "output_type": "display_data"
    }
   ],
   "source": [
    "#Alunos que não jogam LoL x Alunos que jogam LoL\n",
    "plt.scatter( tabela.CR, tabela.Joga_LoL)\n",
    "plt.ylabel('Joga LoL')\n",
    "plt.xlabel('CR')\n",
    "plt.show()\n",
    "\n",
    "categad = pd.DataFrame(tabela, columns=['CR', 'Joga_LoL'])\n",
    "categad.boxplot(by='Joga_LoL')"
   ]
  },
  {
   "cell_type": "code",
   "execution_count": 106,
   "metadata": {},
   "outputs": [
    {
     "name": "stdout",
     "output_type": "stream",
     "text": [
      "(0.9792548418045044, 0.5344253778457642)\n",
      "(0.9840073585510254, 0.9618208408355713)\n"
     ]
    },
    {
     "data": {
      "text/plain": [
       "<matplotlib.axes._subplots.AxesSubplot at 0x1547a4860b8>"
      ]
     },
     "execution_count": 106,
     "metadata": {},
     "output_type": "execute_result"
    },
    {
     "data": {
      "image/png": "[encoded data removed]",
      "text/plain": [
       "<Figure size 432x288 with 1 Axes>"
      ]
     },
     "metadata": {},
     "output_type": "display_data"
    }
   ],
   "source": [
    "#teste das suposições\n",
    "\n",
    "print(stats.shapiro(categad.CR.loc[categad.Joga_LoL == False]))\n",
    "print(stats.shapiro(categad.CR.loc[categad.Joga_LoL == True]))\n",
    "\n",
    "#a saída do teste é o valor W e o p-value\n",
    "#considera-se que a suposição não é violada quando o p-value é maior que alpha, normalmente 0.05\n",
    "\n",
    "#pelo histograma, também é possível observar a distribuição dos dados. \n",
    "categad.CR.loc[categad.Joga_LoL == False].hist()"
   ]
  },
  {
   "cell_type": "code",
   "execution_count": 107,
   "metadata": {},
   "outputs": [
    {
     "data": {
      "image/png": "[encoded data removed]",
      "text/plain": [
       "<Figure size 432x288 with 1 Axes>"
      ]
     },
     "metadata": {},
     "output_type": "display_data"
    },
    {
     "data": {
      "text/plain": [
       "<matplotlib.axes._subplots.AxesSubplot at 0x1547a543be0>"
      ]
     },
     "execution_count": 107,
     "metadata": {},
     "output_type": "execute_result"
    },
    {
     "data": {
      "image/png": "[encoded data removed]",
      "text/plain": [
       "<Figure size 432x288 with 1 Axes>"
      ]
     },
     "metadata": {},
     "output_type": "display_data"
    }
   ],
   "source": [
    "# Alunos que não jogam x Alunos que jogam algum tipo de jogo\n",
    "plt.scatter( tabela.CR, tabela.Joga_Algo)\n",
    "plt.ylabel('Joga Algo')\n",
    "plt.xlabel('CR')\n",
    "plt.show()\n",
    "\n",
    "categad = pd.DataFrame(tabela, columns=['CR', 'Joga_Algo'])\n",
    "categad.boxplot(by='Joga_Algo')"
   ]
  },
  {
   "cell_type": "code",
   "execution_count": 108,
   "metadata": {},
   "outputs": [
    {
     "name": "stdout",
     "output_type": "stream",
     "text": [
      "(0.9517319202423096, 0.45283013582229614)\n",
      "(0.9782266616821289, 0.42814934253692627)\n"
     ]
    },
    {
     "data": {
      "text/plain": [
       "<matplotlib.axes._subplots.AxesSubplot at 0x1547a5af748>"
      ]
     },
     "execution_count": 108,
     "metadata": {},
     "output_type": "execute_result"
    },
    {
     "data": {
      "image/png": "[encoded data removed]",
      "text/plain": [
       "<Figure size 432x288 with 1 Axes>"
      ]
     },
     "metadata": {},
     "output_type": "display_data"
    }
   ],
   "source": [
    "print(stats.shapiro(categad.CR.loc[categad.Joga_Algo == False]))\n",
    "print(stats.shapiro(categad.CR.loc[categad.Joga_Algo == True]))\n",
    "\n",
    "#a saída do teste é o valor W e o p-value\n",
    "#considera-se que a suposição não é violada quando o p-value é maior que alpha, normalmente 0.05\n",
    "\n",
    "#pelo histograma, também é possível observar a distribuição dos dados. \n",
    "categad.CR.loc[categad.Joga_Algo == False].hist()"
   ]
  },
  {
   "cell_type": "code",
   "execution_count": 109,
   "metadata": {},
   "outputs": [
    {
     "data": {
      "image/png": "[encoded data removed]",
      "text/plain": [
       "<Figure size 432x288 with 1 Axes>"
      ]
     },
     "metadata": {},
     "output_type": "display_data"
    },
    {
     "data": {
      "text/plain": [
       "<matplotlib.axes._subplots.AxesSubplot at 0x1547a5ac748>"
      ]
     },
     "execution_count": 109,
     "metadata": {},
     "output_type": "execute_result"
    },
    {
     "data": {
      "image/png": "[encoded data removed]",
      "text/plain": [
       "<Figure size 432x288 with 1 Axes>"
      ]
     },
     "metadata": {},
     "output_type": "display_data"
    }
   ],
   "source": [
    "# Ano de Ingresso x CR\n",
    "plt.scatter( tabela.CR, tabela.Ano_Ingresso)\n",
    "plt.ylabel('Ano de Ingresso')\n",
    "plt.xlabel('CR')\n",
    "plt.show()\n",
    "\n",
    "categad = pd.DataFrame(tabela, columns=['CR', 'Ano_Ingresso'])\n",
    "categad.boxplot(by='Ano_Ingresso')"
   ]
  },
  {
   "cell_type": "code",
   "execution_count": 110,
   "metadata": {},
   "outputs": [
    {
     "name": "stderr",
     "output_type": "stream",
     "text": [
      "C:\\Users\\giova\\Anaconda3\\lib\\site-packages\\ipykernel_launcher.py:2: SettingWithCopyWarning: \n",
      "A value is trying to be set on a copy of a slice from a DataFrame.\n",
      "Try using .loc[row_indexer,col_indexer] = value instead\n",
      "\n",
      "See the caveats in the documentation: http://pandas.pydata.org/pandas-docs/stable/indexing.html#indexing-view-versus-copy\n",
      "  \n"
     ]
    },
    {
     "data": {
      "image/png": "[encoded data removed]",
      "text/plain": [
       "<Figure size 432x288 with 1 Axes>"
      ]
     },
     "metadata": {},
     "output_type": "display_data"
    },
    {
     "data": {
      "text/plain": [
       "<matplotlib.axes._subplots.AxesSubplot at 0x1547a52a908>"
      ]
     },
     "execution_count": 110,
     "metadata": {},
     "output_type": "execute_result"
    },
    {
     "data": {
      "image/png": "[encoded data removed]",
      "text/plain": [
       "<Figure size 432x288 with 1 Axes>"
      ]
     },
     "metadata": {},
     "output_type": "display_data"
    }
   ],
   "source": [
    "# É necessário mapear os Elos\n",
    "jogaLol['Elo'] = jogaLol['Elo'].map({'BRONZE': 1, 'SILVER': 2, 'GOLD': 3, 'PLATINUM': 4,'DIAMOND': 5})\n",
    "\n",
    "# Elo x CR\n",
    "plt.scatter( jogaLol.CR, jogaLol.Elo)\n",
    "plt.ylabel('Elo')\n",
    "plt.xlabel('CR')\n",
    "plt.show()\n",
    "\n",
    "categad = pd.DataFrame(jogaLol, columns=['CR', 'Elo'])\n",
    "categad.boxplot(by = 'Elo')"
   ]
  },
  {
   "cell_type": "code",
   "execution_count": 112,
   "metadata": {},
   "outputs": [
    {
     "data": {
      "image/png": "[encoded data removed]",
      "text/plain": [
       "<Figure size 432x288 with 1 Axes>"
      ]
     },
     "metadata": {},
     "output_type": "display_data"
    }
   ],
   "source": [
    "# Porcentagem de Vitorias x CR\n",
    "plt.scatter( jogaLol.CR, jogaLol.Porcentagem_Vitorias)\n",
    "plt.ylabel('Porcentagem de Vitórias')\n",
    "plt.xlabel('CR')\n",
    "plt.show()\n",
    "\n",
    "#categad = pd.DataFrame(jogaLol, columns=['CR', 'Porcentagem_Vitorias'])\n",
    "#categad.boxplot(by='Porcentagem_Vitorias') "
   ]
  },
  {
   "cell_type": "code",
   "execution_count": 113,
   "metadata": {},
   "outputs": [
    {
     "data": {
      "image/png": "[encoded data removed]",
      "text/plain": [
       "<Figure size 432x288 with 1 Axes>"
      ]
     },
     "metadata": {},
     "output_type": "display_data"
    }
   ],
   "source": [
    "# Horas Jogadas x CR\n",
    "plt.scatter( jogaLol.CR, jogaLol.Horas_Jogadas)\n",
    "plt.ylabel('Horas Jogadas')\n",
    "plt.xlabel('CR')\n",
    "plt.show()\n",
    "\n",
    "#categad = pd.DataFrame(jogaLol, columns=['CR', 'Horas_Jogadas'])\n",
    "#categad.boxplot(by='Horas_Jogadas')"
   ]
  },
  {
   "cell_type": "markdown",
   "metadata": {},
   "source": [
    "### Algumas análises aleatórias a partir daqui:"
   ]
  },
  {
   "cell_type": "code",
   "execution_count": 119,
   "metadata": {},
   "outputs": [
    {
     "name": "stdout",
     "output_type": "stream",
     "text": [
      "Média de quem já deveria estar formado:  62.283333333333324\n"
     ]
    }
   ],
   "source": [
    "deveriaFormar = tabela[tabela['Ano_Ingresso']<=2015]\n",
    "print(\"Média de quem já deveria estar formado: \", deveriaFormar['CR'].mean())"
   ]
  },
  {
   "cell_type": "code",
   "execution_count": 120,
   "metadata": {},
   "outputs": [
    {
     "ename": "AttributeError",
     "evalue": "'DataFrame' object has no attribute 'CampeaoPreferido'",
     "output_type": "error",
     "traceback": [
      "\u001b[1;31m---------------------------------------------------------------------------\u001b[0m",
      "\u001b[1;31mAttributeError\u001b[0m                            Traceback (most recent call last)",
      "\u001b[1;32m<ipython-input-120-bc3640d753b9>\u001b[0m in \u001b[0;36m<module>\u001b[1;34m()\u001b[0m\n\u001b[1;32m----> 1\u001b[1;33m \u001b[0mplt\u001b[0m\u001b[1;33m.\u001b[0m\u001b[0mscatter\u001b[0m\u001b[1;33m(\u001b[0m \u001b[0mjogaLol\u001b[0m\u001b[1;33m.\u001b[0m\u001b[0mCR\u001b[0m\u001b[1;33m,\u001b[0m \u001b[0mjogaLol\u001b[0m\u001b[1;33m.\u001b[0m\u001b[0mCampeaoPreferido\u001b[0m\u001b[1;33m)\u001b[0m\u001b[1;33m\u001b[0m\u001b[0m\n\u001b[0m\u001b[0;32m      2\u001b[0m \u001b[0mplt\u001b[0m\u001b[1;33m.\u001b[0m\u001b[0mylabel\u001b[0m\u001b[1;33m(\u001b[0m\u001b[1;34m'Campeão'\u001b[0m\u001b[1;33m)\u001b[0m\u001b[1;33m\u001b[0m\u001b[0m\n\u001b[0;32m      3\u001b[0m \u001b[0mplt\u001b[0m\u001b[1;33m.\u001b[0m\u001b[0mxlabel\u001b[0m\u001b[1;33m(\u001b[0m\u001b[1;34m'CR'\u001b[0m\u001b[1;33m)\u001b[0m\u001b[1;33m\u001b[0m\u001b[0m\n\u001b[0;32m      4\u001b[0m \u001b[0mplt\u001b[0m\u001b[1;33m.\u001b[0m\u001b[0mshow\u001b[0m\u001b[1;33m(\u001b[0m\u001b[1;33m)\u001b[0m\u001b[1;33m\u001b[0m\u001b[0m\n",
      "\u001b[1;32m~\\Anaconda3\\lib\\site-packages\\pandas\\core\\generic.py\u001b[0m in \u001b[0;36m__getattr__\u001b[1;34m(self, name)\u001b[0m\n\u001b[0;32m   4370\u001b[0m             \u001b[1;32mif\u001b[0m \u001b[0mself\u001b[0m\u001b[1;33m.\u001b[0m\u001b[0m_info_axis\u001b[0m\u001b[1;33m.\u001b[0m\u001b[0m_can_hold_identifiers_and_holds_name\u001b[0m\u001b[1;33m(\u001b[0m\u001b[0mname\u001b[0m\u001b[1;33m)\u001b[0m\u001b[1;33m:\u001b[0m\u001b[1;33m\u001b[0m\u001b[0m\n\u001b[0;32m   4371\u001b[0m                 \u001b[1;32mreturn\u001b[0m \u001b[0mself\u001b[0m\u001b[1;33m[\u001b[0m\u001b[0mname\u001b[0m\u001b[1;33m]\u001b[0m\u001b[1;33m\u001b[0m\u001b[0m\n\u001b[1;32m-> 4372\u001b[1;33m             \u001b[1;32mreturn\u001b[0m \u001b[0mobject\u001b[0m\u001b[1;33m.\u001b[0m\u001b[0m__getattribute__\u001b[0m\u001b[1;33m(\u001b[0m\u001b[0mself\u001b[0m\u001b[1;33m,\u001b[0m \u001b[0mname\u001b[0m\u001b[1;33m)\u001b[0m\u001b[1;33m\u001b[0m\u001b[0m\n\u001b[0m\u001b[0;32m   4373\u001b[0m \u001b[1;33m\u001b[0m\u001b[0m\n\u001b[0;32m   4374\u001b[0m     \u001b[1;32mdef\u001b[0m \u001b[0m__setattr__\u001b[0m\u001b[1;33m(\u001b[0m\u001b[0mself\u001b[0m\u001b[1;33m,\u001b[0m \u001b[0mname\u001b[0m\u001b[1;33m,\u001b[0m \u001b[0mvalue\u001b[0m\u001b[1;33m)\u001b[0m\u001b[1;33m:\u001b[0m\u001b[1;33m\u001b[0m\u001b[0m\n",
      "\u001b[1;31mAttributeError\u001b[0m: 'DataFrame' object has no attribute 'CampeaoPreferido'"
     ]
    }
   ],
   "source": [
    "plt.scatter(jogaLol.CR, jogaLol.CampeaoPreferido)\n",
    "plt.ylabel('Campeão')\n",
    "plt.xlabel('CR')\n",
    "plt.show()"
   ]
  },
  {
   "cell_type": "code",
   "execution_count": null,
   "metadata": {},
   "outputs": [],
   "source": []
  }
 ],
 "metadata": {
  "kernelspec": {
   "display_name": "Python 3",
   "language": "python",
   "name": "python3"
  },
  "language_info": {
   "codemirror_mode": {
    "name": "ipython",
    "version": 3
   },
   "file_extension": ".py",
   "mimetype": "text/x-python",
   "name": "python",
   "nbconvert_exporter": "python",
   "pygments_lexer": "ipython3",
   "version": "3.6.5"
  }
 },
 "nbformat": 4,
 "nbformat_minor": 2
}
