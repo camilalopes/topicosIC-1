{
 "cells": [
  {
   "cell_type": "code",
   "execution_count": 206,
   "metadata": {},
   "outputs": [
    {
     "data": {
      "text/plain": [
       "(75, 16)"
      ]
     },
     "execution_count": 206,
     "metadata": {},
     "output_type": "execute_result"
    }
   ],
   "source": [
    "import pandas as pd\n",
    "import matplotlib.pyplot as plt\n",
    "import scipy.stats as stats\n",
    "\n",
    "dados = pd.read_csv('../dadosExtraidos.csv')\n",
    "dados.shape"
   ]
  },
  {
   "cell_type": "code",
   "execution_count": 207,
   "metadata": {},
   "outputs": [
    {
     "data": {
      "text/plain": [
       "Index(['Ano_Ingresso', 'Joga_Algo', 'Joga_LoL', 'Nick', 'CR', 'Nivel',\n",
       "       'Num_Partidas', 'Horas_Jogadas', 'Campeao_Preferido', 'Maestria', 'Elo',\n",
       "       'Divisao', 'Vitorias'],\n",
       "      dtype='object')"
      ]
     },
     "execution_count": 207,
     "metadata": {},
     "output_type": "execute_result"
    }
   ],
   "source": [
    "dados.columns[1:14]"
   ]
  },
  {
   "cell_type": "code",
   "execution_count": 208,
   "metadata": {},
   "outputs": [
    {
     "data": {
      "text/html": [
       "<div>\n",
       "<style scoped>\n",
       "    .dataframe tbody tr th:only-of-type {\n",
       "        vertical-align: middle;\n",
       "    }\n",
       "\n",
       "    .dataframe tbody tr th {\n",
       "        vertical-align: top;\n",
       "    }\n",
       "\n",
       "    .dataframe thead th {\n",
       "        text-align: right;\n",
       "    }\n",
       "</style>\n",
       "<table border=\"1\" class=\"dataframe\">\n",
       "  <thead>\n",
       "    <tr style=\"text-align: right;\">\n",
       "      <th></th>\n",
       "      <th>Ano_Ingresso</th>\n",
       "      <th>CR</th>\n",
       "      <th>Joga_Algo</th>\n",
       "      <th>Joga_LoL</th>\n",
       "      <th>Nivel</th>\n",
       "      <th>Num_Partidas</th>\n",
       "      <th>Horas_Jogadas</th>\n",
       "      <th>Campeao_Preferido</th>\n",
       "      <th>Maestria</th>\n",
       "      <th>Elo</th>\n",
       "      <th>Divisao</th>\n",
       "      <th>Vitorias</th>\n",
       "      <th>Derrotas</th>\n",
       "      <th>Porcentagem_Vitorias</th>\n",
       "    </tr>\n",
       "  </thead>\n",
       "  <tbody>\n",
       "    <tr>\n",
       "      <th>0</th>\n",
       "      <td>2015</td>\n",
       "      <td>60.6</td>\n",
       "      <td>True</td>\n",
       "      <td>False</td>\n",
       "      <td>NaN</td>\n",
       "      <td>NaN</td>\n",
       "      <td>NaN</td>\n",
       "      <td>NaN</td>\n",
       "      <td>NaN</td>\n",
       "      <td>NaN</td>\n",
       "      <td>NaN</td>\n",
       "      <td>NaN</td>\n",
       "      <td>NaN</td>\n",
       "      <td>NaN</td>\n",
       "    </tr>\n",
       "    <tr>\n",
       "      <th>1</th>\n",
       "      <td>2015</td>\n",
       "      <td>53.0</td>\n",
       "      <td>True</td>\n",
       "      <td>False</td>\n",
       "      <td>NaN</td>\n",
       "      <td>NaN</td>\n",
       "      <td>NaN</td>\n",
       "      <td>NaN</td>\n",
       "      <td>NaN</td>\n",
       "      <td>NaN</td>\n",
       "      <td>NaN</td>\n",
       "      <td>NaN</td>\n",
       "      <td>NaN</td>\n",
       "      <td>NaN</td>\n",
       "    </tr>\n",
       "    <tr>\n",
       "      <th>2</th>\n",
       "      <td>2017</td>\n",
       "      <td>43.8</td>\n",
       "      <td>True</td>\n",
       "      <td>False</td>\n",
       "      <td>NaN</td>\n",
       "      <td>NaN</td>\n",
       "      <td>NaN</td>\n",
       "      <td>NaN</td>\n",
       "      <td>NaN</td>\n",
       "      <td>NaN</td>\n",
       "      <td>NaN</td>\n",
       "      <td>NaN</td>\n",
       "      <td>NaN</td>\n",
       "      <td>NaN</td>\n",
       "    </tr>\n",
       "    <tr>\n",
       "      <th>3</th>\n",
       "      <td>2014</td>\n",
       "      <td>42.0</td>\n",
       "      <td>True</td>\n",
       "      <td>False</td>\n",
       "      <td>NaN</td>\n",
       "      <td>NaN</td>\n",
       "      <td>NaN</td>\n",
       "      <td>NaN</td>\n",
       "      <td>NaN</td>\n",
       "      <td>NaN</td>\n",
       "      <td>NaN</td>\n",
       "      <td>NaN</td>\n",
       "      <td>NaN</td>\n",
       "      <td>NaN</td>\n",
       "    </tr>\n",
       "    <tr>\n",
       "      <th>4</th>\n",
       "      <td>2014</td>\n",
       "      <td>68.4</td>\n",
       "      <td>True</td>\n",
       "      <td>False</td>\n",
       "      <td>NaN</td>\n",
       "      <td>NaN</td>\n",
       "      <td>NaN</td>\n",
       "      <td>NaN</td>\n",
       "      <td>NaN</td>\n",
       "      <td>NaN</td>\n",
       "      <td>NaN</td>\n",
       "      <td>NaN</td>\n",
       "      <td>NaN</td>\n",
       "      <td>NaN</td>\n",
       "    </tr>\n",
       "  </tbody>\n",
       "</table>\n",
       "</div>"
      ],
      "text/plain": [
       "   Ano_Ingresso    CR  Joga_Algo  Joga_LoL  Nivel  Num_Partidas  \\\n",
       "0          2015  60.6       True     False    NaN           NaN   \n",
       "1          2015  53.0       True     False    NaN           NaN   \n",
       "2          2017  43.8       True     False    NaN           NaN   \n",
       "3          2014  42.0       True     False    NaN           NaN   \n",
       "4          2014  68.4       True     False    NaN           NaN   \n",
       "\n",
       "   Horas_Jogadas Campeao_Preferido  Maestria  Elo Divisao  Vitorias  Derrotas  \\\n",
       "0            NaN               NaN       NaN  NaN     NaN       NaN       NaN   \n",
       "1            NaN               NaN       NaN  NaN     NaN       NaN       NaN   \n",
       "2            NaN               NaN       NaN  NaN     NaN       NaN       NaN   \n",
       "3            NaN               NaN       NaN  NaN     NaN       NaN       NaN   \n",
       "4            NaN               NaN       NaN  NaN     NaN       NaN       NaN   \n",
       "\n",
       "   Porcentagem_Vitorias  \n",
       "0                   NaN  \n",
       "1                   NaN  \n",
       "2                   NaN  \n",
       "3                   NaN  \n",
       "4                   NaN  "
      ]
     },
     "execution_count": 208,
     "metadata": {},
     "output_type": "execute_result"
    }
   ],
   "source": [
    "tabela = pd.DataFrame(dados, columns = ['Ano_Ingresso', 'CR', 'Joga_Algo', 'Joga_LoL', 'Nivel', 'Num_Partidas', \n",
    "                                            'Horas_Jogadas', 'Campeao_Preferido', 'Maestria', 'Elo', 'Divisao', \n",
    "                                            'Vitorias', 'Derrotas', 'Porcentagem_Vitorias'])\n",
    "tabela.head()"
   ]
  },
  {
   "cell_type": "code",
   "execution_count": 209,
   "metadata": {},
   "outputs": [],
   "source": [
    "#retira os nulos (não tem CR)\n",
    "tabela=tabela.loc[(tabela['CR'].notnull())]"
   ]
  },
  {
   "cell_type": "code",
   "execution_count": 210,
   "metadata": {},
   "outputs": [
    {
     "name": "stdout",
     "output_type": "stream",
     "text": [
      "Média geral de CR:  59.8218309859155\n",
      "Jogadores de LoL:  61.09090909090909\n",
      "Não jogam LoL:  59.25204081632652\n",
      "Jogam algo:  58.58773584905662\n",
      "Não jogam nada:  63.455555555555556\n"
     ]
    }
   ],
   "source": [
    "#media dos CRs geral\n",
    "print('Média geral de CR: ', tabela['CR'].mean())\n",
    "\n",
    "#pessoas que jogam LoL\n",
    "jogaLol = tabela[tabela['Joga_LoL']==True]\n",
    "#media dos CRs de quem joga LoL\n",
    "print(\"Jogadores de LoL: \", jogaLol['CR'].mean())\n",
    "\n",
    "#pessoas que NÃO jogam LoL\n",
    "naoJogaLol = tabela[tabela['Joga_LoL']==False]\n",
    "#media dos CRs de quem NÃO joga LoL\n",
    "print(\"Não jogam LoL: \", naoJogaLol['CR'].mean())\n",
    "\n",
    "#pessoas que jogam \n",
    "joga = tabela[tabela['Joga_Algo']==True]\n",
    "#media dos CRs de quem joga\n",
    "print(\"Jogam algo: \", joga['CR'].mean())\n",
    "\n",
    "#pessoas que não jogam nada \n",
    "nJoga = tabela[tabela['Joga_Algo']==False]\n",
    "#media dos CRs de quem joga\n",
    "print(\"Não jogam nada: \", nJoga['CR'].mean())"
   ]
  },
  {
   "cell_type": "code",
   "execution_count": 211,
   "metadata": {},
   "outputs": [
    {
     "name": "stdout",
     "output_type": "stream",
     "text": [
      "-------\n",
      "CR Geral:\n",
      " count    71.000000\n",
      "mean     59.821831\n",
      "std      13.493929\n",
      "min      25.500000\n",
      "25%      51.750000\n",
      "50%      60.600000\n",
      "75%      69.600000\n",
      "max      86.400000\n",
      "Name: CR, dtype: float64\n",
      "-------\n",
      "Joga LoL:\n",
      " count    22.000000\n",
      "mean     61.090909\n",
      "std      13.650359\n",
      "min      33.800000\n",
      "25%      56.075000\n",
      "50%      60.400000\n",
      "75%      69.300000\n",
      "max      86.400000\n",
      "Name: CR, dtype: float64\n",
      "-------\n",
      "Não Joga Lol:\n",
      " count    49.000000\n",
      "mean     59.252041\n",
      "std      13.525986\n",
      "min      25.500000\n",
      "25%      51.500000\n",
      "50%      60.600000\n",
      "75%      69.700000\n",
      "max      85.000000\n",
      "Name: CR, dtype: float64\n",
      "-------\n",
      "Joga Algo:\n",
      " count    53.000000\n",
      "mean     58.587736\n",
      "std      13.738670\n",
      "min      25.500000\n",
      "25%      48.700000\n",
      "50%      57.900000\n",
      "75%      68.800000\n",
      "max      86.400000\n",
      "Name: CR, dtype: float64\n",
      "-------\n",
      "Não Joga Nada:\n",
      " count    18.000000\n",
      "mean     63.455556\n",
      "std      12.396832\n",
      "min      33.300000\n",
      "25%      56.100000\n",
      "50%      62.600000\n",
      "75%      70.800000\n",
      "max      85.000000\n",
      "Name: CR, dtype: float64\n"
     ]
    }
   ],
   "source": [
    "print('-------\\nCR Geral:\\n', tabela['CR'].describe())\n",
    "print('-------\\nJoga LoL:\\n', jogaLol['CR'].describe())\n",
    "print('-------\\nNão Joga Lol:\\n', naoJogaLol['CR'].describe())\n",
    "print('-------\\nJoga Algo:\\n', joga['CR'].describe())\n",
    "print('-------\\nNão Joga Nada:\\n', nJoga['CR'].describe())"
   ]
  },
  {
   "cell_type": "code",
   "execution_count": 212,
   "metadata": {},
   "outputs": [
    {
     "data": {
      "text/html": [
       "<div>\n",
       "<style scoped>\n",
       "    .dataframe tbody tr th:only-of-type {\n",
       "        vertical-align: middle;\n",
       "    }\n",
       "\n",
       "    .dataframe tbody tr th {\n",
       "        vertical-align: top;\n",
       "    }\n",
       "\n",
       "    .dataframe thead th {\n",
       "        text-align: right;\n",
       "    }\n",
       "</style>\n",
       "<table border=\"1\" class=\"dataframe\">\n",
       "  <thead>\n",
       "    <tr style=\"text-align: right;\">\n",
       "      <th></th>\n",
       "      <th>Nivel</th>\n",
       "      <th>Num_Partidas</th>\n",
       "      <th>Horas_Jogadas</th>\n",
       "      <th>Campeao_Preferido</th>\n",
       "      <th>Maestria</th>\n",
       "      <th>Elo</th>\n",
       "      <th>Divisao</th>\n",
       "      <th>Vitorias</th>\n",
       "      <th>Derrotas</th>\n",
       "      <th>Porcentagem_Vitorias</th>\n",
       "    </tr>\n",
       "  </thead>\n",
       "  <tbody>\n",
       "    <tr>\n",
       "      <th>9</th>\n",
       "      <td>89.0</td>\n",
       "      <td>3767.0</td>\n",
       "      <td>2197.0</td>\n",
       "      <td>Yasuo</td>\n",
       "      <td>124061.0</td>\n",
       "      <td>GOLD</td>\n",
       "      <td>I</td>\n",
       "      <td>11.0</td>\n",
       "      <td>22.0</td>\n",
       "      <td>33.33</td>\n",
       "    </tr>\n",
       "    <tr>\n",
       "      <th>10</th>\n",
       "      <td>164.0</td>\n",
       "      <td>4778.0</td>\n",
       "      <td>2787.0</td>\n",
       "      <td>Braum</td>\n",
       "      <td>136457.0</td>\n",
       "      <td>PLATINUM</td>\n",
       "      <td>III</td>\n",
       "      <td>142.0</td>\n",
       "      <td>122.0</td>\n",
       "      <td>53.79</td>\n",
       "    </tr>\n",
       "    <tr>\n",
       "      <th>11</th>\n",
       "      <td>86.0</td>\n",
       "      <td>1729.0</td>\n",
       "      <td>1008.0</td>\n",
       "      <td>Miss Fortune</td>\n",
       "      <td>24000.0</td>\n",
       "      <td>NaN</td>\n",
       "      <td>NaN</td>\n",
       "      <td>NaN</td>\n",
       "      <td>NaN</td>\n",
       "      <td>NaN</td>\n",
       "    </tr>\n",
       "    <tr>\n",
       "      <th>12</th>\n",
       "      <td>114.0</td>\n",
       "      <td>3704.0</td>\n",
       "      <td>2160.0</td>\n",
       "      <td>Janna</td>\n",
       "      <td>142484.0</td>\n",
       "      <td>GOLD</td>\n",
       "      <td>IV</td>\n",
       "      <td>36.0</td>\n",
       "      <td>32.0</td>\n",
       "      <td>52.94</td>\n",
       "    </tr>\n",
       "    <tr>\n",
       "      <th>13</th>\n",
       "      <td>113.0</td>\n",
       "      <td>3166.0</td>\n",
       "      <td>1846.0</td>\n",
       "      <td>Tahm Kench</td>\n",
       "      <td>206102.0</td>\n",
       "      <td>SILVER</td>\n",
       "      <td>II</td>\n",
       "      <td>76.0</td>\n",
       "      <td>85.0</td>\n",
       "      <td>47.20</td>\n",
       "    </tr>\n",
       "    <tr>\n",
       "      <th>14</th>\n",
       "      <td>138.0</td>\n",
       "      <td>3332.0</td>\n",
       "      <td>1943.0</td>\n",
       "      <td>Zed</td>\n",
       "      <td>218438.0</td>\n",
       "      <td>PLATINUM</td>\n",
       "      <td>V</td>\n",
       "      <td>166.0</td>\n",
       "      <td>155.0</td>\n",
       "      <td>51.71</td>\n",
       "    </tr>\n",
       "    <tr>\n",
       "      <th>15</th>\n",
       "      <td>104.0</td>\n",
       "      <td>2821.0</td>\n",
       "      <td>1645.0</td>\n",
       "      <td>Rek'Sai</td>\n",
       "      <td>134568.0</td>\n",
       "      <td>PLATINUM</td>\n",
       "      <td>IV</td>\n",
       "      <td>10.0</td>\n",
       "      <td>0.0</td>\n",
       "      <td>100.00</td>\n",
       "    </tr>\n",
       "    <tr>\n",
       "      <th>16</th>\n",
       "      <td>121.0</td>\n",
       "      <td>4091.0</td>\n",
       "      <td>2386.0</td>\n",
       "      <td>Poppy</td>\n",
       "      <td>200136.0</td>\n",
       "      <td>DIAMOND</td>\n",
       "      <td>V</td>\n",
       "      <td>27.0</td>\n",
       "      <td>11.0</td>\n",
       "      <td>71.05</td>\n",
       "    </tr>\n",
       "    <tr>\n",
       "      <th>17</th>\n",
       "      <td>80.0</td>\n",
       "      <td>1584.0</td>\n",
       "      <td>924.0</td>\n",
       "      <td>Miss Fortune</td>\n",
       "      <td>122222.0</td>\n",
       "      <td>GOLD</td>\n",
       "      <td>IV</td>\n",
       "      <td>87.0</td>\n",
       "      <td>74.0</td>\n",
       "      <td>54.04</td>\n",
       "    </tr>\n",
       "    <tr>\n",
       "      <th>18</th>\n",
       "      <td>107.0</td>\n",
       "      <td>1603.0</td>\n",
       "      <td>935.0</td>\n",
       "      <td>Jax</td>\n",
       "      <td>63944.0</td>\n",
       "      <td>SILVER</td>\n",
       "      <td>III</td>\n",
       "      <td>11.0</td>\n",
       "      <td>13.0</td>\n",
       "      <td>45.83</td>\n",
       "    </tr>\n",
       "    <tr>\n",
       "      <th>19</th>\n",
       "      <td>113.0</td>\n",
       "      <td>1328.0</td>\n",
       "      <td>774.0</td>\n",
       "      <td>Zoe</td>\n",
       "      <td>109381.0</td>\n",
       "      <td>SILVER</td>\n",
       "      <td>IV</td>\n",
       "      <td>32.0</td>\n",
       "      <td>42.0</td>\n",
       "      <td>43.24</td>\n",
       "    </tr>\n",
       "    <tr>\n",
       "      <th>36</th>\n",
       "      <td>79.0</td>\n",
       "      <td>1149.0</td>\n",
       "      <td>670.0</td>\n",
       "      <td>Alistar</td>\n",
       "      <td>90727.0</td>\n",
       "      <td>GOLD</td>\n",
       "      <td>V</td>\n",
       "      <td>76.0</td>\n",
       "      <td>67.0</td>\n",
       "      <td>53.15</td>\n",
       "    </tr>\n",
       "    <tr>\n",
       "      <th>37</th>\n",
       "      <td>74.0</td>\n",
       "      <td>2263.0</td>\n",
       "      <td>1320.0</td>\n",
       "      <td>Lee Sin</td>\n",
       "      <td>174866.0</td>\n",
       "      <td>GOLD</td>\n",
       "      <td>I</td>\n",
       "      <td>54.0</td>\n",
       "      <td>54.0</td>\n",
       "      <td>50.00</td>\n",
       "    </tr>\n",
       "    <tr>\n",
       "      <th>38</th>\n",
       "      <td>82.0</td>\n",
       "      <td>1728.0</td>\n",
       "      <td>1008.0</td>\n",
       "      <td>Lulu</td>\n",
       "      <td>86998.0</td>\n",
       "      <td>GOLD</td>\n",
       "      <td>IV</td>\n",
       "      <td>36.0</td>\n",
       "      <td>45.0</td>\n",
       "      <td>44.44</td>\n",
       "    </tr>\n",
       "    <tr>\n",
       "      <th>39</th>\n",
       "      <td>141.0</td>\n",
       "      <td>4321.0</td>\n",
       "      <td>2520.0</td>\n",
       "      <td>Lux</td>\n",
       "      <td>221069.0</td>\n",
       "      <td>PLATINUM</td>\n",
       "      <td>V</td>\n",
       "      <td>48.0</td>\n",
       "      <td>35.0</td>\n",
       "      <td>57.83</td>\n",
       "    </tr>\n",
       "    <tr>\n",
       "      <th>40</th>\n",
       "      <td>38.0</td>\n",
       "      <td>3199.0</td>\n",
       "      <td>1866.0</td>\n",
       "      <td>Thresh</td>\n",
       "      <td>184854.0</td>\n",
       "      <td>GOLD</td>\n",
       "      <td>III</td>\n",
       "      <td>7.0</td>\n",
       "      <td>3.0</td>\n",
       "      <td>70.00</td>\n",
       "    </tr>\n",
       "    <tr>\n",
       "      <th>47</th>\n",
       "      <td>46.0</td>\n",
       "      <td>404.0</td>\n",
       "      <td>235.0</td>\n",
       "      <td>Tryndamere</td>\n",
       "      <td>16936.0</td>\n",
       "      <td>SILVER</td>\n",
       "      <td>IV</td>\n",
       "      <td>20.0</td>\n",
       "      <td>30.0</td>\n",
       "      <td>40.00</td>\n",
       "    </tr>\n",
       "    <tr>\n",
       "      <th>48</th>\n",
       "      <td>122.0</td>\n",
       "      <td>3109.0</td>\n",
       "      <td>1813.0</td>\n",
       "      <td>Ryze</td>\n",
       "      <td>100737.0</td>\n",
       "      <td>GOLD</td>\n",
       "      <td>V</td>\n",
       "      <td>191.0</td>\n",
       "      <td>180.0</td>\n",
       "      <td>51.48</td>\n",
       "    </tr>\n",
       "    <tr>\n",
       "      <th>49</th>\n",
       "      <td>87.0</td>\n",
       "      <td>1061.0</td>\n",
       "      <td>618.0</td>\n",
       "      <td>Lux</td>\n",
       "      <td>118924.0</td>\n",
       "      <td>SILVER</td>\n",
       "      <td>I</td>\n",
       "      <td>121.0</td>\n",
       "      <td>132.0</td>\n",
       "      <td>47.83</td>\n",
       "    </tr>\n",
       "    <tr>\n",
       "      <th>50</th>\n",
       "      <td>102.0</td>\n",
       "      <td>2653.0</td>\n",
       "      <td>1547.0</td>\n",
       "      <td>Yasuo</td>\n",
       "      <td>86505.0</td>\n",
       "      <td>PLATINUM</td>\n",
       "      <td>V</td>\n",
       "      <td>131.0</td>\n",
       "      <td>133.0</td>\n",
       "      <td>49.62</td>\n",
       "    </tr>\n",
       "    <tr>\n",
       "      <th>51</th>\n",
       "      <td>109.0</td>\n",
       "      <td>4250.0</td>\n",
       "      <td>2479.0</td>\n",
       "      <td>Thresh</td>\n",
       "      <td>216549.0</td>\n",
       "      <td>PLATINUM</td>\n",
       "      <td>V</td>\n",
       "      <td>79.0</td>\n",
       "      <td>77.0</td>\n",
       "      <td>50.64</td>\n",
       "    </tr>\n",
       "    <tr>\n",
       "      <th>74</th>\n",
       "      <td>77.0</td>\n",
       "      <td>2413.0</td>\n",
       "      <td>1407.0</td>\n",
       "      <td>Jinx</td>\n",
       "      <td>123404.0</td>\n",
       "      <td>SILVER</td>\n",
       "      <td>IV</td>\n",
       "      <td>4.0</td>\n",
       "      <td>7.0</td>\n",
       "      <td>36.36</td>\n",
       "    </tr>\n",
       "  </tbody>\n",
       "</table>\n",
       "</div>"
      ],
      "text/plain": [
       "    Nivel  Num_Partidas  Horas_Jogadas Campeao_Preferido  Maestria       Elo  \\\n",
       "9    89.0        3767.0         2197.0             Yasuo  124061.0      GOLD   \n",
       "10  164.0        4778.0         2787.0             Braum  136457.0  PLATINUM   \n",
       "11   86.0        1729.0         1008.0      Miss Fortune   24000.0       NaN   \n",
       "12  114.0        3704.0         2160.0             Janna  142484.0      GOLD   \n",
       "13  113.0        3166.0         1846.0        Tahm Kench  206102.0    SILVER   \n",
       "14  138.0        3332.0         1943.0               Zed  218438.0  PLATINUM   \n",
       "15  104.0        2821.0         1645.0           Rek'Sai  134568.0  PLATINUM   \n",
       "16  121.0        4091.0         2386.0             Poppy  200136.0   DIAMOND   \n",
       "17   80.0        1584.0          924.0      Miss Fortune  122222.0      GOLD   \n",
       "18  107.0        1603.0          935.0               Jax   63944.0    SILVER   \n",
       "19  113.0        1328.0          774.0               Zoe  109381.0    SILVER   \n",
       "36   79.0        1149.0          670.0           Alistar   90727.0      GOLD   \n",
       "37   74.0        2263.0         1320.0           Lee Sin  174866.0      GOLD   \n",
       "38   82.0        1728.0         1008.0              Lulu   86998.0      GOLD   \n",
       "39  141.0        4321.0         2520.0               Lux  221069.0  PLATINUM   \n",
       "40   38.0        3199.0         1866.0            Thresh  184854.0      GOLD   \n",
       "47   46.0         404.0          235.0        Tryndamere   16936.0    SILVER   \n",
       "48  122.0        3109.0         1813.0              Ryze  100737.0      GOLD   \n",
       "49   87.0        1061.0          618.0               Lux  118924.0    SILVER   \n",
       "50  102.0        2653.0         1547.0             Yasuo   86505.0  PLATINUM   \n",
       "51  109.0        4250.0         2479.0            Thresh  216549.0  PLATINUM   \n",
       "74   77.0        2413.0         1407.0              Jinx  123404.0    SILVER   \n",
       "\n",
       "   Divisao  Vitorias  Derrotas  Porcentagem_Vitorias  \n",
       "9        I      11.0      22.0                 33.33  \n",
       "10     III     142.0     122.0                 53.79  \n",
       "11     NaN       NaN       NaN                   NaN  \n",
       "12      IV      36.0      32.0                 52.94  \n",
       "13      II      76.0      85.0                 47.20  \n",
       "14       V     166.0     155.0                 51.71  \n",
       "15      IV      10.0       0.0                100.00  \n",
       "16       V      27.0      11.0                 71.05  \n",
       "17      IV      87.0      74.0                 54.04  \n",
       "18     III      11.0      13.0                 45.83  \n",
       "19      IV      32.0      42.0                 43.24  \n",
       "36       V      76.0      67.0                 53.15  \n",
       "37       I      54.0      54.0                 50.00  \n",
       "38      IV      36.0      45.0                 44.44  \n",
       "39       V      48.0      35.0                 57.83  \n",
       "40     III       7.0       3.0                 70.00  \n",
       "47      IV      20.0      30.0                 40.00  \n",
       "48       V     191.0     180.0                 51.48  \n",
       "49       I     121.0     132.0                 47.83  \n",
       "50       V     131.0     133.0                 49.62  \n",
       "51       V      79.0      77.0                 50.64  \n",
       "74      IV       4.0       7.0                 36.36  "
      ]
     },
     "execution_count": 212,
     "metadata": {},
     "output_type": "execute_result"
    }
   ],
   "source": [
    "jogaLol[['Nivel', 'Num_Partidas', 'Horas_Jogadas', 'Campeao_Preferido', 'Maestria', 'Elo', 'Divisao', 'Vitorias', 'Derrotas', 'Porcentagem_Vitorias']]"
   ]
  },
  {
   "cell_type": "code",
   "execution_count": 213,
   "metadata": {},
   "outputs": [
    {
     "data": {
      "image/png": "[encoded data removed]",
      "text/plain": [
       "<Figure size 432x288 with 1 Axes>"
      ]
     },
     "metadata": {},
     "output_type": "display_data"
    },
    {
     "data": {
      "text/plain": [
       "<matplotlib.axes._subplots.AxesSubplot at 0x1547de55f28>"
      ]
     },
     "execution_count": 213,
     "metadata": {},
     "output_type": "execute_result"
    },
    {
     "data": {
      "image/png": "[encoded data removed]",
      "text/plain": [
       "<Figure size 432x288 with 1 Axes>"
      ]
     },
     "metadata": {},
     "output_type": "display_data"
    }
   ],
   "source": [
    "#Alunos que não jogam LoL x Alunos que jogam LoL\n",
    "plt.scatter( tabela.CR, tabela.Joga_LoL)\n",
    "plt.ylabel('Joga LoL')\n",
    "plt.xlabel('CR')\n",
    "plt.show()\n",
    "\n",
    "categad = pd.DataFrame(tabela, columns=['CR', 'Joga_LoL'])\n",
    "categad.boxplot(by='Joga_LoL')"
   ]
  },
  {
   "cell_type": "code",
   "execution_count": 214,
   "metadata": {},
   "outputs": [
    {
     "name": "stdout",
     "output_type": "stream",
     "text": [
      "(0.9792548418045044, 0.5344253778457642)\n",
      "(0.9821277260780334, 0.9459398984909058)\n"
     ]
    },
    {
     "data": {
      "text/plain": [
       "<matplotlib.axes._subplots.AxesSubplot at 0x1547decba58>"
      ]
     },
     "execution_count": 214,
     "metadata": {},
     "output_type": "execute_result"
    },
    {
     "data": {
      "image/png": "[encoded data removed]",
      "text/plain": [
       "<Figure size 432x288 with 1 Axes>"
      ]
     },
     "metadata": {},
     "output_type": "display_data"
    }
   ],
   "source": [
    "#teste das suposições\n",
    "\n",
    "print(stats.shapiro(categad.CR.loc[categad.Joga_LoL == False]))\n",
    "print(stats.shapiro(categad.CR.loc[categad.Joga_LoL == True]))\n",
    "\n",
    "#a saída do teste é o valor W e o p-value\n",
    "#considera-se que a suposição não é violada quando o p-value é maior que alpha, normalmente 0.05\n",
    "\n",
    "#pelo histograma, também é possível observar a distribuição dos dados. \n",
    "categad.CR.loc[categad.Joga_LoL == False].hist()"
   ]
  },
  {
   "cell_type": "code",
   "execution_count": 215,
   "metadata": {},
   "outputs": [
    {
     "data": {
      "image/png": "[encoded data removed]",
      "text/plain": [
       "<Figure size 432x288 with 1 Axes>"
      ]
     },
     "metadata": {},
     "output_type": "display_data"
    },
    {
     "data": {
      "text/plain": [
       "<matplotlib.axes._subplots.AxesSubplot at 0x1547deb6a90>"
      ]
     },
     "execution_count": 215,
     "metadata": {},
     "output_type": "execute_result"
    },
    {
     "data": {
      "image/png": "[encoded data removed]",
      "text/plain": [
       "<Figure size 432x288 with 1 Axes>"
      ]
     },
     "metadata": {},
     "output_type": "display_data"
    }
   ],
   "source": [
    "# Alunos que não jogam x Alunos que jogam algum tipo de jogo\n",
    "plt.scatter( tabela.CR, tabela.Joga_Algo)\n",
    "plt.ylabel('Joga Algo')\n",
    "plt.xlabel('CR')\n",
    "plt.show()\n",
    "\n",
    "categad = pd.DataFrame(tabela, columns=['CR', 'Joga_Algo'])\n",
    "categad.boxplot(by='Joga_Algo')"
   ]
  },
  {
   "cell_type": "code",
   "execution_count": 216,
   "metadata": {},
   "outputs": [
    {
     "name": "stdout",
     "output_type": "stream",
     "text": [
      "(0.9517319202423096, 0.45283013582229614)\n",
      "(0.982120931148529, 0.6073822975158691)\n"
     ]
    },
    {
     "data": {
      "text/plain": [
       "<matplotlib.axes._subplots.AxesSubplot at 0x1547e0012b0>"
      ]
     },
     "execution_count": 216,
     "metadata": {},
     "output_type": "execute_result"
    },
    {
     "data": {
      "image/png": "[encoded data removed]",
      "text/plain": [
       "<Figure size 432x288 with 1 Axes>"
      ]
     },
     "metadata": {},
     "output_type": "display_data"
    }
   ],
   "source": [
    "print(stats.shapiro(categad.CR.loc[categad.Joga_Algo == False]))\n",
    "print(stats.shapiro(categad.CR.loc[categad.Joga_Algo == True]))\n",
    "\n",
    "#a saída do teste é o valor W e o p-value\n",
    "#considera-se que a suposição não é violada quando o p-value é maior que alpha, normalmente 0.05\n",
    "\n",
    "#pelo histograma, também é possível observar a distribuição dos dados. \n",
    "categad.CR.loc[categad.Joga_Algo == False].hist()"
   ]
  },
  {
   "cell_type": "code",
   "execution_count": 217,
   "metadata": {},
   "outputs": [
    {
     "data": {
      "image/png": "[encoded data removed]",
      "text/plain": [
       "<Figure size 432x288 with 1 Axes>"
      ]
     },
     "metadata": {},
     "output_type": "display_data"
    },
    {
     "data": {
      "text/plain": [
       "<matplotlib.axes._subplots.AxesSubplot at 0x1547df07c50>"
      ]
     },
     "execution_count": 217,
     "metadata": {},
     "output_type": "execute_result"
    },
    {
     "data": {
      "image/png": "[encoded data removed]",
      "text/plain": [
       "<Figure size 432x288 with 1 Axes>"
      ]
     },
     "metadata": {},
     "output_type": "display_data"
    }
   ],
   "source": [
    "# Ano de Ingresso x CR\n",
    "plt.scatter( tabela.CR, tabela.Ano_Ingresso)\n",
    "plt.ylabel('Ano de Ingresso')\n",
    "plt.xlabel('CR')\n",
    "plt.show()\n",
    "\n",
    "categad = pd.DataFrame(tabela, columns=['CR', 'Ano_Ingresso'])\n",
    "categad.boxplot(by='Ano_Ingresso')"
   ]
  },
  {
   "cell_type": "code",
   "execution_count": 218,
   "metadata": {},
   "outputs": [
    {
     "name": "stderr",
     "output_type": "stream",
     "text": [
      "C:\\Users\\giova\\Anaconda3\\lib\\site-packages\\ipykernel_launcher.py:2: SettingWithCopyWarning: \n",
      "A value is trying to be set on a copy of a slice from a DataFrame.\n",
      "Try using .loc[row_indexer,col_indexer] = value instead\n",
      "\n",
      "See the caveats in the documentation: http://pandas.pydata.org/pandas-docs/stable/indexing.html#indexing-view-versus-copy\n",
      "  \n"
     ]
    },
    {
     "data": {
      "image/png": "[encoded data removed]",
      "text/plain": [
       "<Figure size 432x288 with 1 Axes>"
      ]
     },
     "metadata": {},
     "output_type": "display_data"
    },
    {
     "data": {
      "text/plain": [
       "<matplotlib.axes._subplots.AxesSubplot at 0x1547deb6b00>"
      ]
     },
     "execution_count": 218,
     "metadata": {},
     "output_type": "execute_result"
    },
    {
     "data": {
      "image/png": "[encoded data removed]",
      "text/plain": [
       "<Figure size 432x288 with 1 Axes>"
      ]
     },
     "metadata": {},
     "output_type": "display_data"
    }
   ],
   "source": [
    "# É necessário mapear os Elos\n",
    "jogaLol['Elo'] = jogaLol['Elo'].map({'BRONZE': 1, 'SILVER': 2, 'GOLD': 3, 'PLATINUM': 4,'DIAMOND': 5})\n",
    "\n",
    "# Elo x CR\n",
    "plt.scatter( jogaLol.CR, jogaLol.Elo)\n",
    "plt.ylabel('Elo')\n",
    "plt.xlabel('CR')\n",
    "plt.show()\n",
    "\n",
    "categad = pd.DataFrame(jogaLol, columns=['CR', 'Elo'])\n",
    "categad.boxplot(by = 'Elo')"
   ]
  },
  {
   "cell_type": "code",
   "execution_count": 219,
   "metadata": {},
   "outputs": [
    {
     "data": {
      "image/png": "[encoded data removed]",
      "text/plain": [
       "<Figure size 432x288 with 1 Axes>"
      ]
     },
     "metadata": {},
     "output_type": "display_data"
    }
   ],
   "source": [
    "# Porcentagem de Vitorias x CR\n",
    "plt.scatter( jogaLol.CR, jogaLol.Porcentagem_Vitorias)\n",
    "plt.ylabel('Porcentagem de Vitórias')\n",
    "plt.xlabel('CR')\n",
    "plt.show()\n",
    "\n",
    "#categad = pd.DataFrame(jogaLol, columns=['CR', 'Porcentagem_Vitorias'])\n",
    "#categad.boxplot(by='Porcentagem_Vitorias') "
   ]
  },
  {
   "cell_type": "code",
   "execution_count": 220,
   "metadata": {},
   "outputs": [
    {
     "data": {
      "image/png": "[encoded data removed]",
      "text/plain": [
       "<Figure size 432x288 with 1 Axes>"
      ]
     },
     "metadata": {},
     "output_type": "display_data"
    }
   ],
   "source": [
    "# Horas Jogadas x CR\n",
    "plt.scatter( jogaLol.CR, jogaLol.Horas_Jogadas)\n",
    "plt.ylabel('Horas Jogadas')\n",
    "plt.xlabel('CR')\n",
    "plt.show()\n",
    "\n",
    "#categad = pd.DataFrame(jogaLol, columns=['CR', 'Horas_Jogadas'])\n",
    "#categad.boxplot(by='Horas_Jogadas')"
   ]
  },
  {
   "cell_type": "markdown",
   "metadata": {},
   "source": [
    "### Algumas análises aleatórias a partir daqui:"
   ]
  },
  {
   "cell_type": "code",
   "execution_count": 221,
   "metadata": {},
   "outputs": [
    {
     "name": "stdout",
     "output_type": "stream",
     "text": [
      "Média de quem já deveria estar formado:  62.27199999999999\n"
     ]
    }
   ],
   "source": [
    "deveriaFormar = tabela[tabela['Ano_Ingresso']<=2015]\n",
    "print(\"Média de quem já deveria estar formado: \", deveriaFormar['CR'].mean())"
   ]
  },
  {
   "cell_type": "code",
   "execution_count": 222,
   "metadata": {},
   "outputs": [
    {
     "data": {
      "text/plain": [
       "Text(0.5,0,'Número Alunos')"
      ]
     },
     "execution_count": 222,
     "metadata": {},
     "output_type": "execute_result"
    },
    {
     "data": {
      "image/png": "[encoded data removed]",
      "text/plain": [
       "<Figure size 432x288 with 1 Axes>"
      ]
     },
     "metadata": {},
     "output_type": "display_data"
    }
   ],
   "source": [
    "jogaLol.Campeao_Preferido.value_counts().plot(kind='barh')\n",
    "plt.title('Campeões Preferidos')\n",
    "plt.xlabel('Número Alunos')"
   ]
  },
  {
   "cell_type": "code",
   "execution_count": 223,
   "metadata": {},
   "outputs": [
    {
     "data": {
      "text/plain": [
       "Text(0,0.5,'Número Alunos')"
      ]
     },
     "execution_count": 223,
     "metadata": {},
     "output_type": "execute_result"
    },
    {
     "data": {
      "image/png": "[encoded data removed]",
      "text/plain": [
       "<Figure size 432x288 with 1 Axes>"
      ]
     },
     "metadata": {},
     "output_type": "display_data"
    }
   ],
   "source": [
    "jogaLol.Elo.value_counts().plot(kind='bar')\n",
    "plt.title('Elo')\n",
    "plt.ylabel('Número Alunos')"
   ]
  },
  {
   "cell_type": "code",
   "execution_count": null,
   "metadata": {},
   "outputs": [],
   "source": []
  }
 ],
 "metadata": {
  "kernelspec": {
   "display_name": "Python 3",
   "language": "python",
   "name": "python3"
  },
  "language_info": {
   "codemirror_mode": {
    "name": "ipython",
    "version": 3
   },
   "file_extension": ".py",
   "mimetype": "text/x-python",
   "name": "python",
   "nbconvert_exporter": "python",
   "pygments_lexer": "ipython3",
   "version": "3.6.5"
  }
 },
 "nbformat": 4,
 "nbformat_minor": 2
}
