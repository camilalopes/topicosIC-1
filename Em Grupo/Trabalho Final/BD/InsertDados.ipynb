{
 "cells": [
  {
   "cell_type": "code",
   "execution_count": 14,
   "metadata": {},
   "outputs": [],
   "source": [
    "import pandas as pd\n",
    "import sqlite3\n",
    "from os import path\n",
    "import json\n",
    "from lxml import html\n",
    "import requests\n",
    "\n",
    "bdPath = path.join(\"C:/\", \"Users\", \"Giovani\", \"Documents\", \"GitHub\",\"topicosIC\", \"Em Grupo\", \"Trabalho Final\", \"BD\", \"bd.db\")\n",
    "nicksPath = path.join(\"..\", \"baseDeNicks.csv\")"
   ]
  },
  {
   "cell_type": "code",
   "execution_count": 13,
   "metadata": {},
   "outputs": [],
   "source": [
    "bd = sqlite3.connect(bdPath) \n",
    "\n",
    "#Adiciona Elos\n",
    "#elos = open('elos.sql', 'r').read()\n",
    "#bd.executescript(elos)\n",
    "\n",
    "#Adiciona Campeoes\n",
    "#Criando inserts\n",
    "#campeoesJson = json.load(open('lol-champions.json', 'rb'))\n",
    "#n = len(campeoesJson)-1\n",
    "#while (n>-1):\n",
    "#    print(\"INSERT INTO campeao('campeaoId', 'nome') VALUES(\"+campeoesJson[n]['key']+\", \\\"\"+campeoesJson[n]['name']+\"\\\"\"+\");\") \n",
    "#    n=n-1\n",
    "#campeoes = open('campeoes.sql', 'r').read()\n",
    "#bd.executescript(campeoes)\n",
    "\n",
    "#elo = pd.read_sql('SELECT * FROM elo', bd)\n",
    "#campeoes = pd.read_sql('SELECT * FROM campeao', bd)\n",
    "\n",
    "bd.close()"
   ]
  },
  {
   "cell_type": "code",
   "execution_count": 132,
   "metadata": {},
   "outputs": [],
   "source": [
    "#nicks = pd.read_csv(nicksPath)\n",
    "\n",
    "baseUrl = \"http://br.op.gg\"\n",
    "playerUrl = \"/summoner/userName=\"\n",
    "nick = \"I Love You All/\"\n",
    "\n",
    "urlMontada = baseUrl+playerUrl+nick\n",
    "request = requests.get(urlMontada)\n",
    "html2 = html.fromstring(request.content)\n",
    "getData = html2.xpath('//div[@class=\"tabItem overview-stats--soloranked\"]')\n",
    "campeoesUrl = getData[0].attrib['data-tab-data-url']\n",
    "\n",
    "summonerId = baseUrl+campeoesUrl\n",
    "summonerId = summonerId.replace(\"http://br.op.gg/summoner/champions/ajax/champions.most/summonerId=\", \"\").replace(\"&season=11&queueType=soloranked\",\"\")\n",
    "\n",
    "elo = str(html2.xpath('//div/span[@class=\"tierRank\"]/text()')).replace('[', '').replace(']', '').replace('\\'', '')\n",
    "pdl = str(html2.xpath('//div/span[@class=\"LeaguePoints\"]/text()')).replace('[', '').replace(']', '').replace('\\\\n', '').replace('\\\\t', '').replace('\\'', '').replace(' LP', '').replace(',', '')\n",
    "vitorias = str(html2.xpath('//span/span[@class=\"wins\"]/text()')).replace('[', '').replace(']', '').replace('W', '').replace('L', '').replace('\\'', '').replace(' LP', '').replace(',', '')\n",
    "derrotas = str(html2.xpath('//span/span[@class=\"losses\"]/text()')).replace('[', '').replace(']', '').replace('W', '').replace('L', '').replace('\\'', '').replace(' LP', '').replace(',', '')\n",
    "winrate = str(html2.xpath('//span/span[@class=\"winratio\"]/text()')).replace('[', '').replace(']', '').replace('%', '').replace('Win Ratio ', '').replace('\\'', '').replace(' LP', '')\n",
    "\n",
    "posicoes = str(html2.xpath('//ul[@class=\"Content\"]/li/div[@class=\"PositionStatContent\"]/div/text()')).replace('[', '').replace(']', '').replace('\\'', '').split(',')\n",
    "posicao1 = posicoes[0]\n",
    "posicao2 = posicoes[1]"
   ]
  },
  {
   "cell_type": "code",
   "execution_count": 133,
   "metadata": {},
   "outputs": [
    {
     "name": "stdout",
     "output_type": "stream",
     "text": [
      "?\n"
     ]
    }
   ],
   "source": []
  },
  {
   "cell_type": "code",
   "execution_count": null,
   "metadata": {},
   "outputs": [],
   "source": [
    "teste = str(html2.xpath('//ul[@class=\"Content\"]/li/div[@class=\"PositionStatContent\"]/div/text()')).replace('[', '').replace(']', '').replace('\\'', '')\n",
    "print(teste)"
   ]
  }
 ],
 "metadata": {
  "kernelspec": {
   "display_name": "Python 3",
   "language": "python",
   "name": "python3"
  },
  "language_info": {
   "codemirror_mode": {
    "name": "ipython",
    "version": 3
   },
   "file_extension": ".py",
   "mimetype": "text/x-python",
   "name": "python",
   "nbconvert_exporter": "python",
   "pygments_lexer": "ipython3",
   "version": "3.7.1"
  }
 },
 "nbformat": 4,
 "nbformat_minor": 2
}
