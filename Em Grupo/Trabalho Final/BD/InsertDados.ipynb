{
 "cells": [
  {
   "cell_type": "code",
   "execution_count": 45,
   "metadata": {},
   "outputs": [],
   "source": [
    "import pandas as pd\n",
    "import sqlite3\n",
    "from os import path\n",
    "import json\n",
    "from lxml import html\n",
    "import requests\n",
    "\n",
    "bdPath = path.join(\"C:/\", \"Users\", \"Giovani\", \"Documents\", \"GitHub\",\"topicosIC\", \"Em Grupo\", \"Trabalho Final\", \"BD\", \"bd.db\")\n",
    "nicksPath = path.join(\"..\", \"baseDeNicks.csv\")\n",
    "\n",
    "jogadoresPath = path.join(\"jogadores.sql\")"
   ]
  },
  {
   "cell_type": "code",
   "execution_count": 2,
   "metadata": {},
   "outputs": [],
   "source": [
    "bd = sqlite3.connect(bdPath) \n",
    "\n",
    "#Adiciona Elos\n",
    "#elos = open('elos.sql', 'r').read()\n",
    "#bd.executescript(elos)\n",
    "\n",
    "#Adiciona Campeoes\n",
    "#Criando inserts\n",
    "#campeoesJson = json.load(open('lol-champions.json', 'rb'))\n",
    "#n = len(campeoesJson)-1\n",
    "#while (n>-1):\n",
    "#    print(\"INSERT INTO campeao('campeaoId', 'nome') VALUES(\"+campeoesJson[n]['key']+\", \\\"\"+campeoesJson[n]['name']+\"\\\"\"+\");\") \n",
    "#    n=n-1\n",
    "#campeoes = open('campeoes.sql', 'r').read()\n",
    "#bd.executescript(campeoes)\n",
    "\n",
    "#elo = pd.read_sql('SELECT * FROM elo', bd)\n",
    "#campeoes = pd.read_sql('SELECT * FROM campeao', bd)\n",
    "\n",
    "bd.close()"
   ]
  },
  {
   "cell_type": "code",
   "execution_count": 53,
   "metadata": {},
   "outputs": [],
   "source": [
    "#Obtem informações do jogador e gera inserts pro bd\n",
    "def getJogadorData(nick):\n",
    "    baseUrl = \"http://br.op.gg\"\n",
    "    playerUrl = \"/summoner/userName=\"\n",
    "\n",
    "    urlMontada = baseUrl+playerUrl+nick\n",
    "    request = requests.get(urlMontada)\n",
    "    html2 = html.fromstring(request.content)\n",
    "    getData = html2.xpath('//div[@class=\"tabItem overview-stats--soloranked\"]')\n",
    "    campeoesUrl = getData[0].attrib['data-tab-data-url']\n",
    "\n",
    "    summonerId = baseUrl+campeoesUrl\n",
    "    summonerId = summonerId.replace(\"http://br.op.gg/summoner/champions/ajax/champions.most/summonerId=\", \"\").replace(\"&season=11&queueType=soloranked\",\"\").replace(\"&season=12&queueType=soloranked\",\"\")\n",
    "\n",
    "    elo = str(html2.xpath('//div/span[@class=\"tierRank\"]/text()')).replace('[', '').replace(']', '').replace('\\'', '')\n",
    "    pdl = str(html2.xpath('//div/span[@class=\"LeaguePoints\"]/text()')).replace('[', '').replace(']', '').replace('\\\\n', '').replace('\\\\t', '').replace('\\'', '').replace(' LP', '').replace(',', '')\n",
    "    vitorias = str(html2.xpath('//span/span[@class=\"wins\"]/text()')).replace('[', '').replace(']', '').replace('W', '').replace('L', '').replace('\\'', '').replace(' LP', '').replace(',', '')\n",
    "    derrotas = str(html2.xpath('//span/span[@class=\"losses\"]/text()')).replace('[', '').replace(']', '').replace('W', '').replace('L', '').replace('\\'', '').replace(' LP', '').replace(',', '')\n",
    "    winrate = str(html2.xpath('//span/span[@class=\"winratio\"]/text()')).replace('[', '').replace(']', '').replace('%', '').replace('Win Ratio ', '').replace('\\'', '').replace(' LP', '')\n",
    "\n",
    "    posicoes = str(html2.xpath('//ul[@class=\"Content\"]/li/div[@class=\"PositionStatContent\"]/div/text()')).replace('[', '').replace(']', '').replace('\\'', '').replace(' ', '').split(',')\n",
    "    posicao1 = posicoes[0]\n",
    "    posicao2 = posicoes[1]\n",
    "    \n",
    "    print(\"Nick: \" + nick + \n",
    "          \"\\nID: \" + summonerId + \n",
    "          \"\\nElo: \" + elo + \n",
    "          \" - \" + pdl + \" PDL\" +\n",
    "          \"\\nVitórias: \" + vitorias + \n",
    "          \"\\nDerrotas: \" + derrotas + \n",
    "          \"\\nTaxa de Vitória: \" + winrate + \"%\" +\n",
    "          \"\\nPosição 1: \" + posicao1 + \n",
    "          \"\\nPosição 2: \" + posicao2)\n",
    "    \n",
    "    jogadoresSql = open(jogadoresPath, \"a\")\n",
    "    jogadoresSql.write(\"\\nINSERT INTO jogador('summonerId', 'nick', 'elo', 'pdl', 'vitorias', 'derrotas', 'winrate', 'posicao1', 'posicao2') VALUES(\"+summonerId+\",\"+\"\\'\"+nick+\"\\'\"+\",\"+\"\\'\"+elo+\"\\'\"+\",\"+pdl+\",\"+vitorias+\",\"+derrotas+\",\"+winrate+\",\"+\"\\'\"+posicao1+\"\\'\"+\",\"+\"\\'\"+posicao2+\"\\');\")\n",
    "    jogadoresSql.close()\n",
    "    #print(\"INSERT INTO jogador('summonerId', 'nick', 'elo', 'pdl', 'vitorias', 'derrotas', 'winrate', 'posicao1', 'posicao2') VALUES(\"+summonerId+\",\"+\"\\'\"+nick+\"\\'\"+\",\"+\"\\'\"+elo+\"\\'\"+\",\"+pdl+\",\"+vitorias+\",\"+derrotas+\",\"+winrate+\",\"+\"\\'\"+posicao1+\"\\'\"+\",\"+\"\\'\"+posicao2+\"\\');\")    "
   ]
  },
  {
   "cell_type": "code",
   "execution_count": null,
   "metadata": {},
   "outputs": [],
   "source": [
    "#Obtem informações dos campeoes do jogador e gera inserts pro bd\n",
    "def getCampeoesJogadorData(summonerId):\n",
    "    "
   ]
  },
  {
   "cell_type": "code",
   "execution_count": 57,
   "metadata": {},
   "outputs": [
    {
     "name": "stdout",
     "output_type": "stream",
     "text": [
      "Nick: TheDarkDescent\n",
      "ID: 6804307\n",
      "Elo: Platinum 4 - 0 PDL\n",
      "Vitórias: 50\n",
      "Derrotas: 39\n",
      "Taxa de Vitória: 56%\n",
      "Posição 1: ?\n",
      "Posição 2: ?\n"
     ]
    }
   ],
   "source": [
    "#nicks = pd.read_csv(nicksPath)\n",
    "getJogadorData(\"TheDarkDescent\")"
   ]
  },
  {
   "cell_type": "code",
   "execution_count": null,
   "metadata": {},
   "outputs": [],
   "source": [
    "teste = str(html2.xpath('//ul[@class=\"Content\"]/li/div[@class=\"PositionStatContent\"]/div/text()')).replace('[', '').replace(']', '').replace('\\'', '')\n",
    "print(teste)"
   ]
  }
 ],
 "metadata": {
  "kernelspec": {
   "display_name": "Python 3",
   "language": "python",
   "name": "python3"
  },
  "language_info": {
   "codemirror_mode": {
    "name": "ipython",
    "version": 3
   },
   "file_extension": ".py",
   "mimetype": "text/x-python",
   "name": "python",
   "nbconvert_exporter": "python",
   "pygments_lexer": "ipython3",
   "version": "3.7.1"
  }
 },
 "nbformat": 4,
 "nbformat_minor": 2
}
